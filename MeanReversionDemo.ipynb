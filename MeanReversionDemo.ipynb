{
  "nbformat": 4,
  "nbformat_minor": 0,
  "metadata": {
    "colab": {
      "provenance": []
    },
    "kernelspec": {
      "name": "python3",
      "display_name": "Python 3"
    },
    "language_info": {
      "name": "python"
    }
  },
  "cells": [
    {
      "cell_type": "markdown",
      "source": [
        "In this notebook, I'll demo a couple example mean-reversion strategies. I'll show common data analysis strategies in Python as well as data sources"
      ],
      "metadata": {
        "id": "FwNvEpKKWxS7"
      }
    },
    {
      "cell_type": "code",
      "execution_count": null,
      "metadata": {
        "colab": {
          "base_uri": "https://localhost:8080/",
          "height": 383
        },
        "id": "yO_UItHr_-fX",
        "outputId": "78d130ab-780c-4932-f459-7793565d5d42"
      },
      "outputs": [
        {
          "output_type": "stream",
          "name": "stdout",
          "text": [
            "Requirement already satisfied: yfinance in /usr/local/lib/python3.10/dist-packages (0.2.28)\n",
            "Requirement already satisfied: pandas>=1.3.0 in /usr/local/lib/python3.10/dist-packages (from yfinance) (1.5.3)\n",
            "Requirement already satisfied: numpy>=1.16.5 in /usr/local/lib/python3.10/dist-packages (from yfinance) (1.23.5)\n",
            "Requirement already satisfied: requests>=2.31 in /usr/local/lib/python3.10/dist-packages (from yfinance) (2.31.0)\n",
            "Requirement already satisfied: multitasking>=0.0.7 in /usr/local/lib/python3.10/dist-packages (from yfinance) (0.0.11)\n",
            "Requirement already satisfied: lxml>=4.9.1 in /usr/local/lib/python3.10/dist-packages (from yfinance) (4.9.3)\n",
            "Requirement already satisfied: appdirs>=1.4.4 in /usr/local/lib/python3.10/dist-packages (from yfinance) (1.4.4)\n",
            "Requirement already satisfied: pytz>=2022.5 in /usr/local/lib/python3.10/dist-packages (from yfinance) (2023.3.post1)\n",
            "Requirement already satisfied: frozendict>=2.3.4 in /usr/local/lib/python3.10/dist-packages (from yfinance) (2.3.8)\n",
            "Requirement already satisfied: beautifulsoup4>=4.11.1 in /usr/local/lib/python3.10/dist-packages (from yfinance) (4.11.2)\n",
            "Requirement already satisfied: html5lib>=1.1 in /usr/local/lib/python3.10/dist-packages (from yfinance) (1.1)\n",
            "Requirement already satisfied: soupsieve>1.2 in /usr/local/lib/python3.10/dist-packages (from beautifulsoup4>=4.11.1->yfinance) (2.5)\n",
            "Requirement already satisfied: six>=1.9 in /usr/local/lib/python3.10/dist-packages (from html5lib>=1.1->yfinance) (1.16.0)\n",
            "Requirement already satisfied: webencodings in /usr/local/lib/python3.10/dist-packages (from html5lib>=1.1->yfinance) (0.5.1)\n",
            "Requirement already satisfied: python-dateutil>=2.8.1 in /usr/local/lib/python3.10/dist-packages (from pandas>=1.3.0->yfinance) (2.8.2)\n",
            "Requirement already satisfied: charset-normalizer<4,>=2 in /usr/local/lib/python3.10/dist-packages (from requests>=2.31->yfinance) (3.2.0)\n",
            "Requirement already satisfied: idna<4,>=2.5 in /usr/local/lib/python3.10/dist-packages (from requests>=2.31->yfinance) (3.4)\n",
            "Requirement already satisfied: urllib3<3,>=1.21.1 in /usr/local/lib/python3.10/dist-packages (from requests>=2.31->yfinance) (2.0.4)\n",
            "Requirement already satisfied: certifi>=2017.4.17 in /usr/local/lib/python3.10/dist-packages (from requests>=2.31->yfinance) (2023.7.22)\n"
          ]
        },
        {
          "output_type": "execute_result",
          "data": {
            "text/plain": [
              "\"library used for pulling data from yahoo finance\\ntypically this would not be ideal as daily data is kinda far apart\\nand our data set lacks more interesting/useful features but for\\ndemo purposes it's good enough\""
            ],
            "application/vnd.google.colaboratory.intrinsic+json": {
              "type": "string"
            }
          },
          "metadata": {},
          "execution_count": 1
        }
      ],
      "source": [
        "!pip install yfinance\n",
        "\"\"\"library used for pulling data from yahoo finance\n",
        "typically this would not be ideal as daily data is kinda far apart\n",
        "and our data set lacks more interesting/useful features but for\n",
        "demo purposes it's good enough\"\"\""
      ]
    },
    {
      "cell_type": "code",
      "source": [
        "yf.Ticker(\"AAPL\").history(start = \"2023-01-01\", end = \"2023-01-04\")\n"
      ],
      "metadata": {
        "colab": {
          "base_uri": "https://localhost:8080/",
          "height": 112
        },
        "id": "3zF7wfSXsQND",
        "outputId": "989892b3-dda6-4034-957d-e1a175363839"
      },
      "execution_count": null,
      "outputs": [
        {
          "output_type": "execute_result",
          "data": {
            "text/plain": [
              "                                 Open        High        Low       Close  \\\n",
              "Date                                                                       \n",
              "2023-01-03 00:00:00-05:00  129.726523  130.343884  123.64248  124.538658   \n",
              "\n",
              "                              Volume  Dividends  Stock Splits  \n",
              "Date                                                           \n",
              "2023-01-03 00:00:00-05:00  112117500        0.0           0.0  "
            ],
            "text/html": [
              "\n",
              "  <div id=\"df-33488f48-3f1e-45b2-939c-6b0459ed11b9\" class=\"colab-df-container\">\n",
              "    <div>\n",
              "<style scoped>\n",
              "    .dataframe tbody tr th:only-of-type {\n",
              "        vertical-align: middle;\n",
              "    }\n",
              "\n",
              "    .dataframe tbody tr th {\n",
              "        vertical-align: top;\n",
              "    }\n",
              "\n",
              "    .dataframe thead th {\n",
              "        text-align: right;\n",
              "    }\n",
              "</style>\n",
              "<table border=\"1\" class=\"dataframe\">\n",
              "  <thead>\n",
              "    <tr style=\"text-align: right;\">\n",
              "      <th></th>\n",
              "      <th>Open</th>\n",
              "      <th>High</th>\n",
              "      <th>Low</th>\n",
              "      <th>Close</th>\n",
              "      <th>Volume</th>\n",
              "      <th>Dividends</th>\n",
              "      <th>Stock Splits</th>\n",
              "    </tr>\n",
              "    <tr>\n",
              "      <th>Date</th>\n",
              "      <th></th>\n",
              "      <th></th>\n",
              "      <th></th>\n",
              "      <th></th>\n",
              "      <th></th>\n",
              "      <th></th>\n",
              "      <th></th>\n",
              "    </tr>\n",
              "  </thead>\n",
              "  <tbody>\n",
              "    <tr>\n",
              "      <th>2023-01-03 00:00:00-05:00</th>\n",
              "      <td>129.726523</td>\n",
              "      <td>130.343884</td>\n",
              "      <td>123.64248</td>\n",
              "      <td>124.538658</td>\n",
              "      <td>112117500</td>\n",
              "      <td>0.0</td>\n",
              "      <td>0.0</td>\n",
              "    </tr>\n",
              "  </tbody>\n",
              "</table>\n",
              "</div>\n",
              "    <div class=\"colab-df-buttons\">\n",
              "\n",
              "  <div class=\"colab-df-container\">\n",
              "    <button class=\"colab-df-convert\" onclick=\"convertToInteractive('df-33488f48-3f1e-45b2-939c-6b0459ed11b9')\"\n",
              "            title=\"Convert this dataframe to an interactive table.\"\n",
              "            style=\"display:none;\">\n",
              "\n",
              "  <svg xmlns=\"http://www.w3.org/2000/svg\" height=\"24px\" viewBox=\"0 -960 960 960\">\n",
              "    <path d=\"M120-120v-720h720v720H120Zm60-500h600v-160H180v160Zm220 220h160v-160H400v160Zm0 220h160v-160H400v160ZM180-400h160v-160H180v160Zm440 0h160v-160H620v160ZM180-180h160v-160H180v160Zm440 0h160v-160H620v160Z\"/>\n",
              "  </svg>\n",
              "    </button>\n",
              "\n",
              "  <style>\n",
              "    .colab-df-container {\n",
              "      display:flex;\n",
              "      gap: 12px;\n",
              "    }\n",
              "\n",
              "    .colab-df-convert {\n",
              "      background-color: #E8F0FE;\n",
              "      border: none;\n",
              "      border-radius: 50%;\n",
              "      cursor: pointer;\n",
              "      display: none;\n",
              "      fill: #1967D2;\n",
              "      height: 32px;\n",
              "      padding: 0 0 0 0;\n",
              "      width: 32px;\n",
              "    }\n",
              "\n",
              "    .colab-df-convert:hover {\n",
              "      background-color: #E2EBFA;\n",
              "      box-shadow: 0px 1px 2px rgba(60, 64, 67, 0.3), 0px 1px 3px 1px rgba(60, 64, 67, 0.15);\n",
              "      fill: #174EA6;\n",
              "    }\n",
              "\n",
              "    .colab-df-buttons div {\n",
              "      margin-bottom: 4px;\n",
              "    }\n",
              "\n",
              "    [theme=dark] .colab-df-convert {\n",
              "      background-color: #3B4455;\n",
              "      fill: #D2E3FC;\n",
              "    }\n",
              "\n",
              "    [theme=dark] .colab-df-convert:hover {\n",
              "      background-color: #434B5C;\n",
              "      box-shadow: 0px 1px 3px 1px rgba(0, 0, 0, 0.15);\n",
              "      filter: drop-shadow(0px 1px 2px rgba(0, 0, 0, 0.3));\n",
              "      fill: #FFFFFF;\n",
              "    }\n",
              "  </style>\n",
              "\n",
              "    <script>\n",
              "      const buttonEl =\n",
              "        document.querySelector('#df-33488f48-3f1e-45b2-939c-6b0459ed11b9 button.colab-df-convert');\n",
              "      buttonEl.style.display =\n",
              "        google.colab.kernel.accessAllowed ? 'block' : 'none';\n",
              "\n",
              "      async function convertToInteractive(key) {\n",
              "        const element = document.querySelector('#df-33488f48-3f1e-45b2-939c-6b0459ed11b9');\n",
              "        const dataTable =\n",
              "          await google.colab.kernel.invokeFunction('convertToInteractive',\n",
              "                                                    [key], {});\n",
              "        if (!dataTable) return;\n",
              "\n",
              "        const docLinkHtml = 'Like what you see? Visit the ' +\n",
              "          '<a target=\"_blank\" href=https://colab.research.google.com/notebooks/data_table.ipynb>data table notebook</a>'\n",
              "          + ' to learn more about interactive tables.';\n",
              "        element.innerHTML = '';\n",
              "        dataTable['output_type'] = 'display_data';\n",
              "        await google.colab.output.renderOutput(dataTable, element);\n",
              "        const docLink = document.createElement('div');\n",
              "        docLink.innerHTML = docLinkHtml;\n",
              "        element.appendChild(docLink);\n",
              "      }\n",
              "    </script>\n",
              "  </div>\n",
              "\n",
              "    </div>\n",
              "  </div>\n"
            ]
          },
          "metadata": {},
          "execution_count": 21
        }
      ]
    },
    {
      "cell_type": "code",
      "source": [
        "import numpy as np\n",
        "import pandas as pd\n",
        "import datetime as dt\n",
        "#standard data manipulation libraries\n",
        "from pandas_datareader import data as pdr\n",
        "#useful for pulling data from yfinance\n",
        "from sklearn import linear_model\n",
        "import statsmodels.api as sm\n",
        "import yfinance as yf\n",
        "#setting that'll avoid bugs"
      ],
      "metadata": {
        "id": "CRjGwCPQAz43"
      },
      "execution_count": null,
      "outputs": []
    },
    {
      "cell_type": "code",
      "source": [
        "yf.__version__"
      ],
      "metadata": {
        "colab": {
          "base_uri": "https://localhost:8080/",
          "height": 36
        },
        "id": "wPyBjriXuOqc",
        "outputId": "e901a8bd-3bbc-4427-98ee-e30004c0e800"
      },
      "execution_count": null,
      "outputs": [
        {
          "output_type": "execute_result",
          "data": {
            "text/plain": [
              "'0.2.28'"
            ],
            "application/vnd.google.colaboratory.intrinsic+json": {
              "type": "string"
            }
          },
          "metadata": {},
          "execution_count": 13
        }
      ]
    },
    {
      "cell_type": "code",
      "source": [
        "ticker_list = 'TGT TSLA F GM  MSFT ETSY SPOT NVDA AMD META BABA PYPL NFLX SQ CRM XOM TEAM TWLO V UNH JPM SBUX ADBE BA NIO BAC PANW SNOW COP PDD CVX AVGO FIS EL MRNA QCOM WFC HD INTC OXY ENPH PFE INTU GS CAT NKE DIS TMUS TXN LLY MU CRWD MA NOW LRCX SHOP CVX AMGN JNJ CMCSA MCD DKNG SLB MRK TMO BILL CSCO ROKU HON HUM NET AMAT PG DHR T ADI CI MCHP SCHW PEP LMT WMT C WDAY VZ ACN BMY MRVL DDOG MNST EXP GM ILMN MRO KO IBM PNC ORCL ZS DOW ANET ADSK PLTR FSLR MAR AXP HAL CCL MDB FTNT UAL RTX BIDU VLO AAL UPS RCL HPQ PGR TJX LVS ADP CNC YUM GD OKTA PINS LULU DAL DPZ ATVI SNAP ZM EBAY AEP CL EA SNPS MGM MTCH WB TTWO PAYC LCID DOCU ZI BILI PLUG K COF SPLK CHWY PTON BURL LUV Z LYFT AKAM UBER'.split()\n",
        "ticker_list = tuple(ticker_list)\n",
        "\"\"\"\n",
        "Basically just set the universe of stocks to like 160 or so pretty big/liquid companies.\n",
        "It's roughly the top 160 sorted by Average Dollar Volume, denoted ADV (average price * volume)\n",
        "\"\"\""
      ],
      "metadata": {
        "colab": {
          "base_uri": "https://localhost:8080/",
          "height": 53
        },
        "id": "_zrWXZc7B6m3",
        "outputId": "9980cbac-7a01-4429-fe54-ebb940b89465"
      },
      "execution_count": null,
      "outputs": [
        {
          "output_type": "execute_result",
          "data": {
            "text/plain": [
              "\"\\nBasically just set the universe of stocks to like 160 or so pretty big/liquid companies.\\nIt's roughly the top 160 sorted by Average Dollar Volume, denoted ADV (average price * volume)\\n\""
            ],
            "application/vnd.google.colaboratory.intrinsic+json": {
              "type": "string"
            }
          },
          "metadata": {},
          "execution_count": 16
        }
      ]
    },
    {
      "cell_type": "code",
      "source": [
        "start = dt.date.today() - dt.timedelta(days = int(365.25*1.5))\n",
        "mid = dt.date.today() - dt.timedelta(days = int(365.25*0.5))\n",
        "end = dt.date.today()\n",
        "\"\"\"\n",
        "Experimental Design: Our \"train\" set will be the time from 1.5 years to 0.5 years ago\n",
        "We'll then evaluate performance on the time from 0.5 years ago to now\n",
        "\"\"\""
      ],
      "metadata": {
        "colab": {
          "base_uri": "https://localhost:8080/",
          "height": 36
        },
        "id": "u-win2JKCttG",
        "outputId": "b855de24-e06a-457d-b555-ec097c725659"
      },
      "execution_count": null,
      "outputs": [
        {
          "output_type": "execute_result",
          "data": {
            "text/plain": [
              "'\\nExperimental Design: Our \"train\" set will be the time from 1.5 years to 0.5 years ago\\nWe\\'ll then evaluate performance on the time from 0.5 years ago to now\\n'"
            ],
            "application/vnd.google.colaboratory.intrinsic+json": {
              "type": "string"
            }
          },
          "metadata": {},
          "execution_count": 3
        }
      ]
    },
    {
      "cell_type": "code",
      "source": [
        "dataset = pdr.get_data_yahoo(list(ticker_list), start, mid)['Adj Close']\n",
        "\"\"\"the pdr get_data_yahoo function pulls yahoo finance data for all the stocks in ticker_list from start to mid.\n",
        "the returned columns are Open, High, Low, Adj Close, Close, and Volume. We'll just use the close prices for this basic example\"\"\"\n",
        "stocks_returns = np.log(dataset/dataset.shift(1))\n",
        "\"\"\"The standard way to calculate returns is log(today's price / yesterday's price)\n",
        "This accounts for the inherent asymmetry that stocks can only go down 100% but can go up\n",
        "unlimited amounts. In other words, it rescales [-100, infinity] to [-infinity, infinity]\"\"\"\n",
        "corr_matrix = stocks_returns.corr()\n",
        "\"\"\"\n",
        "The .corr() function calculates the correlation between two time series\n",
        "For this case, we'll take the pairwise correlations between every pair of\n",
        "stocks and use the highest pairs as candidates for cointegration.\n",
        "\"\"\""
      ],
      "metadata": {
        "colab": {
          "base_uri": "https://localhost:8080/",
          "height": 71
        },
        "id": "sF2oOdaaDYRU",
        "outputId": "ce0e0527-c4de-4322-9f68-83f1baffa095"
      },
      "execution_count": null,
      "outputs": [
        {
          "output_type": "stream",
          "name": "stdout",
          "text": [
            "[*********************100%%**********************]  157 of 157 completed\n"
          ]
        },
        {
          "output_type": "execute_result",
          "data": {
            "text/plain": [
              "\"\\nThe .corr() function calculates the correlation between two time series\\nFor this case, we'll take the pairwise correlations between every pair of\\nstocks and use the highest pairs as candidates for cointegration. \\n\""
            ],
            "application/vnd.google.colaboratory.intrinsic+json": {
              "type": "string"
            }
          },
          "metadata": {},
          "execution_count": 17
        }
      ]
    },
    {
      "cell_type": "code",
      "source": [
        "processed_corr = corr_matrix.mask(np.tril(np.ones(corr_matrix.shape)).astype(bool))\n",
        "#Set diagonal elements and lower triangular elements to nans\n",
        "#Serves to remove duplicates and 1-correlations between an element and itself\n",
        "s =  processed_corr.unstack()\n",
        "#Reshapes the correlation matrix into a list of ((row, column), correlation value) pairs\n",
        "so = s.sort_values(kind=\"quicksort\", ascending = False)\n",
        "#Sort the pairs by correlation value\n",
        "display(so[:30])"
      ],
      "metadata": {
        "colab": {
          "base_uri": "https://localhost:8080/",
          "height": 555
        },
        "id": "NSp4Y2GvKLuX",
        "outputId": "6c0307d6-480b-4fab-d30f-6c70533a4a9a"
      },
      "execution_count": null,
      "outputs": [
        {
          "output_type": "display_data",
          "data": {
            "text/plain": [
              "LRCX  AMAT    0.941171\n",
              "V     MA      0.920414\n",
              "UAL   AAL     0.909125\n",
              "MCHP  ADI     0.905137\n",
              "XOM   CVX     0.903054\n",
              "DAL   AAL     0.900988\n",
              "SLB   HAL     0.895530\n",
              "TMO   DHR     0.894918\n",
              "XOM   COP     0.894787\n",
              "TXN   MCHP    0.894632\n",
              "RCL   CCL     0.892738\n",
              "MRO   COP     0.892478\n",
              "MCHP  AMAT    0.890486\n",
              "TXN   ADI     0.887365\n",
              "NVDA  AMD     0.886425\n",
              "UAL   DAL     0.885624\n",
              "CVX   COP     0.880739\n",
              "JPM   BAC     0.880722\n",
              "MCHP  LRCX    0.880157\n",
              "XOM   MRO     0.872630\n",
              "WFC   BAC     0.871736\n",
              "NVDA  MRVL    0.871342\n",
              "GM    F       0.869602\n",
              "MCHP  AVGO    0.860706\n",
              "MRO   CVX     0.860320\n",
              "PEP   KO      0.860236\n",
              "MRVL  MCHP    0.858850\n",
              "TXN   AMAT    0.858084\n",
              "MRO   HAL     0.858030\n",
              "MRVL  AMAT    0.854840\n",
              "dtype: float64"
            ]
          },
          "metadata": {}
        }
      ]
    },
    {
      "cell_type": "markdown",
      "source": [
        "Our most correlated pair is (LRCX, AMAT). These logically make sense -- they're both semiconductor companies. Let's see if we can build a mean reverting strategy -- when one moves much more than the other in a direction, we'll trade them back towards each other."
      ],
      "metadata": {
        "id": "09btWRANMZLt"
      }
    },
    {
      "cell_type": "code",
      "source": [
        "stocks = pdr.get_data_yahoo(['LRCX', 'AMAT'], start, mid)['Adj Close']\n",
        "# Pull data for closes\n",
        "stocks['LRCX_1d_return'] = np.log(stocks['LRCX']/stocks['LRCX'].shift(1))\n",
        "stocks['AMAT_1d_return'] = np.log(stocks['AMAT']/stocks['AMAT'].shift(1))\n",
        "# Calculate daily returns"
      ],
      "metadata": {
        "id": "3yNQYN5bN0h6",
        "colab": {
          "base_uri": "https://localhost:8080/"
        },
        "outputId": "18946515-3079-4285-b0e0-6f133de60629"
      },
      "execution_count": null,
      "outputs": [
        {
          "output_type": "stream",
          "name": "stdout",
          "text": [
            "[*********************100%%**********************]  2 of 2 completed\n"
          ]
        }
      ]
    },
    {
      "cell_type": "code",
      "source": [
        "thresh = 0.8\n",
        "#hyperparameter\n",
        "flag_buy = (((stocks['LRCX_1d_return']) / stocks['LRCX_1d_return'].std() - (stocks['AMAT_1d_return']) / stocks['AMAT_1d_return'].std()) > thresh).astype(int)\n",
        "flag_sell = (((stocks['LRCX_1d_return']) / stocks['LRCX_1d_return'].std() - (stocks['AMAT_1d_return']) / stocks['AMAT_1d_return'].std()) < -thresh).astype(int)\n",
        "# Integer flags for when to buy/sell AMAT -- buy when LRCX goes up >0.8 stdevs more than AMAT or LRCX goes down 0.8 stdevs more than AMAT\n",
        "flag = flag_buy - flag_sell\n",
        "profs = flag.shift() * stocks['AMAT_1d_return']\n",
        "#Calculate daily profits as position * return"
      ],
      "metadata": {
        "id": "5pGJh8NBVOum"
      },
      "execution_count": null,
      "outputs": []
    },
    {
      "cell_type": "code",
      "source": [
        "flag"
      ],
      "metadata": {
        "colab": {
          "base_uri": "https://localhost:8080/"
        },
        "id": "OVG9qHmgldZk",
        "outputId": "b4f28783-1a6f-4f67-f99a-b896e9267d6f"
      },
      "execution_count": null,
      "outputs": [
        {
          "output_type": "execute_result",
          "data": {
            "text/plain": [
              "Date\n",
              "2023-04-03    NaN\n",
              "2023-04-04   -1.0\n",
              "2023-04-05   -1.0\n",
              "2023-04-06    1.0\n",
              "2023-04-10    1.0\n",
              "             ... \n",
              "2023-09-25   -1.0\n",
              "2023-09-26   -1.0\n",
              "2023-09-27    1.0\n",
              "2023-09-28   -1.0\n",
              "2023-09-29    1.0\n",
              "Length: 125, dtype: float64"
            ]
          },
          "metadata": {},
          "execution_count": 9
        }
      ]
    },
    {
      "cell_type": "code",
      "source": [
        "profs.sum()\n",
        "#Sum of total returns -- pretty good"
      ],
      "metadata": {
        "colab": {
          "base_uri": "https://localhost:8080/"
        },
        "id": "IYOdwnHwiitC",
        "outputId": "15b4985c-d111-434e-fa7b-aa9a2d4fe47e"
      },
      "execution_count": null,
      "outputs": [
        {
          "output_type": "execute_result",
          "data": {
            "text/plain": [
              "0.2326191473934326"
            ]
          },
          "metadata": {},
          "execution_count": 8
        }
      ]
    },
    {
      "cell_type": "code",
      "source": [
        "profs[profs!=0].mean() / (profs[profs!=0].std() * abs(flag).sum()**(-1/2))\n",
        "#Filter to places where daily profit isn't 0 (so a trade was made) and do a t-test"
      ],
      "metadata": {
        "colab": {
          "base_uri": "https://localhost:8080/"
        },
        "id": "6gNxvOQuWaUq",
        "outputId": "2e2d8183-1db6-4f33-fbac-45a82f16d8ff"
      },
      "execution_count": null,
      "outputs": [
        {
          "output_type": "execute_result",
          "data": {
            "text/plain": [
              "4.356577432824831"
            ]
          },
          "metadata": {},
          "execution_count": 9
        }
      ]
    },
    {
      "cell_type": "code",
      "source": [
        "profs.cumsum().plot()\n",
        "#cumulative sum of returns over time == PNL"
      ],
      "metadata": {
        "colab": {
          "base_uri": "https://localhost:8080/",
          "height": 450
        },
        "id": "ScCm-XbUXavc",
        "outputId": "014a963e-7307-438e-9f76-2b7d47964aa2"
      },
      "execution_count": null,
      "outputs": [
        {
          "output_type": "execute_result",
          "data": {
            "text/plain": [
              "<Axes: xlabel='Date'>"
            ]
          },
          "metadata": {},
          "execution_count": 10
        },
        {
          "output_type": "display_data",
          "data": {
            "text/plain": [
              "<Figure size 640x480 with 1 Axes>"
            ],
            "image/png": "[encoded data removed]"
          },
          "metadata": {}
        }
      ]
    },
    {
      "cell_type": "code",
      "source": [
        "stocks = pdr.get_data_yahoo(['LRCX', 'AMAT'], mid, end)['Adj Close']\n",
        "# Pull data for closes\n",
        "stocks['LRCX_1d_return'] = np.log(stocks['LRCX']/stocks['LRCX'].shift(1))\n",
        "stocks['AMAT_1d_return'] = np.log(stocks['AMAT']/stocks['AMAT'].shift(1))\n",
        "# Calculate daily returns\n",
        "thresh =0.8\n",
        "#hyperparameter\n",
        "flag_buy = (((stocks['LRCX_1d_return']) / stocks['LRCX_1d_return'].std() - (stocks['AMAT_1d_return']) / stocks['AMAT_1d_return'].std()) > thresh).astype(int)\n",
        "flag_sell = (((stocks['LRCX_1d_return']) / stocks['LRCX_1d_return'].std() - (stocks['AMAT_1d_return']) / stocks['AMAT_1d_return'].std()) < -thresh).astype(int)\n",
        "# Integer flags for when to buy/sell AMAT -- buy when LRCX goes up >0.8 stdevs more than AMAT or LRCX goes down 0.8 stdevs more than AMAT\n",
        "flag = flag_buy - flag_sell\n",
        "profs = flag.shift() * stocks['AMAT_1d_return']\n",
        "#Calculate daily profits as position * return\n",
        "print(profs.sum())\n",
        "#Sum of total returns -- pretty good\n",
        "print(profs[profs!=0].mean() / (profs[profs!=0].std() * abs(flag).sum()**(-1/2)))\n",
        "#Filter to places where daily profit isn't 0 (so a trade was made) and do a t-test\n",
        "profs.cumsum().plot()\n",
        "#cumulative sum of returns over time == PNL\n",
        "#Still profitable, but much less impressive"
      ],
      "metadata": {
        "colab": {
          "base_uri": "https://localhost:8080/",
          "height": 502
        },
        "id": "BRawR57nL0qO",
        "outputId": "3e68622a-f83d-4750-d97e-3a18fe0b199c"
      },
      "execution_count": null,
      "outputs": [
        {
          "output_type": "stream",
          "name": "stdout",
          "text": [
            "[*********************100%%**********************]  2 of 2 completed\n",
            "0.049622319561454784\n",
            "0.7446761868990417\n"
          ]
        },
        {
          "output_type": "execute_result",
          "data": {
            "text/plain": [
              "<Axes: xlabel='Date'>"
            ]
          },
          "metadata": {},
          "execution_count": 37
        },
        {
          "output_type": "display_data",
          "data": {
            "text/plain": [
              "<Figure size 640x480 with 1 Axes>"
            ],
            "image/png": "[encoded data removed]"
          },
          "metadata": {}
        }
      ]
    },
    {
      "cell_type": "code",
      "source": [
        "stocks = pdr.get_data_yahoo(['LRCX', 'AMAT'], start, mid)[['Adj Close', 'Open']]\n",
        "\"\"\"\n",
        "We'll try something that has a better chance of actually being a trade -- mean reversion\n",
        "based on open/close prices. In the trade before, you always just get outcompeted by the\n",
        "firm that trades fastest before 4. In this one, you reasonably have a chance to get your trade\n",
        "\"\"\""
      ],
      "metadata": {
        "colab": {
          "base_uri": "https://localhost:8080/"
        },
        "id": "uJp6J__eb_lH",
        "outputId": "856798b1-4ba0-4f4c-9a68-e85cedb779b8"
      },
      "execution_count": null,
      "outputs": [
        {
          "output_type": "stream",
          "name": "stdout",
          "text": [
            "[*********************100%%**********************]  2 of 2 completed\n"
          ]
        }
      ]
    },
    {
      "cell_type": "code",
      "source": [
        "stocks"
      ],
      "metadata": {
        "colab": {
          "base_uri": "https://localhost:8080/",
          "height": 486
        },
        "id": "FwrV2UlyPfN-",
        "outputId": "9c3a78e4-526b-4ab1-b6a7-a64cc431b7e4"
      },
      "execution_count": null,
      "outputs": [
        {
          "output_type": "execute_result",
          "data": {
            "text/plain": [
              "             Adj Close                    Open            \n",
              "                  AMAT        LRCX        AMAT        LRCX\n",
              "Date                                                      \n",
              "2022-04-04  127.575645  524.766724  127.169998  526.330017\n",
              "2022-04-05  119.956985  493.499268  128.779999  528.609985\n",
              "2022-04-06  117.611267  488.139404  119.010002  493.910004\n",
              "2022-04-07  120.637047  493.205231  119.080002  497.339996\n",
              "2022-04-08  118.232185  481.740845  121.260002  498.010010\n",
              "...                ...         ...         ...         ...\n",
              "2023-03-27  118.307831  492.917297  120.750000  508.260010\n",
              "2023-03-28  115.849510  482.288788  118.889999  495.399994\n",
              "2023-03-29  119.283188  512.782349  118.720001  494.540009\n",
              "2023-03-30  121.532509  528.302490  122.000000  523.609985\n",
              "2023-03-31  122.249100  527.069641  121.519997  527.640015\n",
              "\n",
              "[250 rows x 4 columns]"
            ],
            "text/html": [
              "\n",
              "  <div id=\"df-39ba8335-1eb6-43ae-80af-cc49ad480683\" class=\"colab-df-container\">\n",
              "    <div>\n",
              "<style scoped>\n",
              "    .dataframe tbody tr th:only-of-type {\n",
              "        vertical-align: middle;\n",
              "    }\n",
              "\n",
              "    .dataframe tbody tr th {\n",
              "        vertical-align: top;\n",
              "    }\n",
              "\n",
              "    .dataframe thead tr th {\n",
              "        text-align: left;\n",
              "    }\n",
              "\n",
              "    .dataframe thead tr:last-of-type th {\n",
              "        text-align: right;\n",
              "    }\n",
              "</style>\n",
              "<table border=\"1\" class=\"dataframe\">\n",
              "  <thead>\n",
              "    <tr>\n",
              "      <th></th>\n",
              "      <th colspan=\"2\" halign=\"left\">Adj Close</th>\n",
              "      <th colspan=\"2\" halign=\"left\">Open</th>\n",
              "    </tr>\n",
              "    <tr>\n",
              "      <th></th>\n",
              "      <th>AMAT</th>\n",
              "      <th>LRCX</th>\n",
              "      <th>AMAT</th>\n",
              "      <th>LRCX</th>\n",
              "    </tr>\n",
              "    <tr>\n",
              "      <th>Date</th>\n",
              "      <th></th>\n",
              "      <th></th>\n",
              "      <th></th>\n",
              "      <th></th>\n",
              "    </tr>\n",
              "  </thead>\n",
              "  <tbody>\n",
              "    <tr>\n",
              "      <th>2022-04-04</th>\n",
              "      <td>127.575645</td>\n",
              "      <td>524.766724</td>\n",
              "      <td>127.169998</td>\n",
              "      <td>526.330017</td>\n",
              "    </tr>\n",
              "    <tr>\n",
              "      <th>2022-04-05</th>\n",
              "      <td>119.956985</td>\n",
              "      <td>493.499268</td>\n",
              "      <td>128.779999</td>\n",
              "      <td>528.609985</td>\n",
              "    </tr>\n",
              "    <tr>\n",
              "      <th>2022-04-06</th>\n",
              "      <td>117.611267</td>\n",
              "      <td>488.139404</td>\n",
              "      <td>119.010002</td>\n",
              "      <td>493.910004</td>\n",
              "    </tr>\n",
              "    <tr>\n",
              "      <th>2022-04-07</th>\n",
              "      <td>120.637047</td>\n",
              "      <td>493.205231</td>\n",
              "      <td>119.080002</td>\n",
              "      <td>497.339996</td>\n",
              "    </tr>\n",
              "    <tr>\n",
              "      <th>2022-04-08</th>\n",
              "      <td>118.232185</td>\n",
              "      <td>481.740845</td>\n",
              "      <td>121.260002</td>\n",
              "      <td>498.010010</td>\n",
              "    </tr>\n",
              "    <tr>\n",
              "      <th>...</th>\n",
              "      <td>...</td>\n",
              "      <td>...</td>\n",
              "      <td>...</td>\n",
              "      <td>...</td>\n",
              "    </tr>\n",
              "    <tr>\n",
              "      <th>2023-03-27</th>\n",
              "      <td>118.307831</td>\n",
              "      <td>492.917297</td>\n",
              "      <td>120.750000</td>\n",
              "      <td>508.260010</td>\n",
              "    </tr>\n",
              "    <tr>\n",
              "      <th>2023-03-28</th>\n",
              "      <td>115.849510</td>\n",
              "      <td>482.288788</td>\n",
              "      <td>118.889999</td>\n",
              "      <td>495.399994</td>\n",
              "    </tr>\n",
              "    <tr>\n",
              "      <th>2023-03-29</th>\n",
              "      <td>119.283188</td>\n",
              "      <td>512.782349</td>\n",
              "      <td>118.720001</td>\n",
              "      <td>494.540009</td>\n",
              "    </tr>\n",
              "    <tr>\n",
              "      <th>2023-03-30</th>\n",
              "      <td>121.532509</td>\n",
              "      <td>528.302490</td>\n",
              "      <td>122.000000</td>\n",
              "      <td>523.609985</td>\n",
              "    </tr>\n",
              "    <tr>\n",
              "      <th>2023-03-31</th>\n",
              "      <td>122.249100</td>\n",
              "      <td>527.069641</td>\n",
              "      <td>121.519997</td>\n",
              "      <td>527.640015</td>\n",
              "    </tr>\n",
              "  </tbody>\n",
              "</table>\n",
              "<p>250 rows × 4 columns</p>\n",
              "</div>\n",
              "    <div class=\"colab-df-buttons\">\n",
              "\n",
              "  <div class=\"colab-df-container\">\n",
              "    <button class=\"colab-df-convert\" onclick=\"convertToInteractive('df-39ba8335-1eb6-43ae-80af-cc49ad480683')\"\n",
              "            title=\"Convert this dataframe to an interactive table.\"\n",
              "            style=\"display:none;\">\n",
              "\n",
              "  <svg xmlns=\"http://www.w3.org/2000/svg\" height=\"24px\" viewBox=\"0 -960 960 960\">\n",
              "    <path d=\"M120-120v-720h720v720H120Zm60-500h600v-160H180v160Zm220 220h160v-160H400v160Zm0 220h160v-160H400v160ZM180-400h160v-160H180v160Zm440 0h160v-160H620v160ZM180-180h160v-160H180v160Zm440 0h160v-160H620v160Z\"/>\n",
              "  </svg>\n",
              "    </button>\n",
              "\n",
              "  <style>\n",
              "    .colab-df-container {\n",
              "      display:flex;\n",
              "      gap: 12px;\n",
              "    }\n",
              "\n",
              "    .colab-df-convert {\n",
              "      background-color: #E8F0FE;\n",
              "      border: none;\n",
              "      border-radius: 50%;\n",
              "      cursor: pointer;\n",
              "      display: none;\n",
              "      fill: #1967D2;\n",
              "      height: 32px;\n",
              "      padding: 0 0 0 0;\n",
              "      width: 32px;\n",
              "    }\n",
              "\n",
              "    .colab-df-convert:hover {\n",
              "      background-color: #E2EBFA;\n",
              "      box-shadow: 0px 1px 2px rgba(60, 64, 67, 0.3), 0px 1px 3px 1px rgba(60, 64, 67, 0.15);\n",
              "      fill: #174EA6;\n",
              "    }\n",
              "\n",
              "    .colab-df-buttons div {\n",
              "      margin-bottom: 4px;\n",
              "    }\n",
              "\n",
              "    [theme=dark] .colab-df-convert {\n",
              "      background-color: #3B4455;\n",
              "      fill: #D2E3FC;\n",
              "    }\n",
              "\n",
              "    [theme=dark] .colab-df-convert:hover {\n",
              "      background-color: #434B5C;\n",
              "      box-shadow: 0px 1px 3px 1px rgba(0, 0, 0, 0.15);\n",
              "      filter: drop-shadow(0px 1px 2px rgba(0, 0, 0, 0.3));\n",
              "      fill: #FFFFFF;\n",
              "    }\n",
              "  </style>\n",
              "\n",
              "    <script>\n",
              "      const buttonEl =\n",
              "        document.querySelector('#df-39ba8335-1eb6-43ae-80af-cc49ad480683 button.colab-df-convert');\n",
              "      buttonEl.style.display =\n",
              "        google.colab.kernel.accessAllowed ? 'block' : 'none';\n",
              "\n",
              "      async function convertToInteractive(key) {\n",
              "        const element = document.querySelector('#df-39ba8335-1eb6-43ae-80af-cc49ad480683');\n",
              "        const dataTable =\n",
              "          await google.colab.kernel.invokeFunction('convertToInteractive',\n",
              "                                                    [key], {});\n",
              "        if (!dataTable) return;\n",
              "\n",
              "        const docLinkHtml = 'Like what you see? Visit the ' +\n",
              "          '<a target=\"_blank\" href=https://colab.research.google.com/notebooks/data_table.ipynb>data table notebook</a>'\n",
              "          + ' to learn more about interactive tables.';\n",
              "        element.innerHTML = '';\n",
              "        dataTable['output_type'] = 'display_data';\n",
              "        await google.colab.output.renderOutput(dataTable, element);\n",
              "        const docLink = document.createElement('div');\n",
              "        docLink.innerHTML = docLinkHtml;\n",
              "        element.appendChild(docLink);\n",
              "      }\n",
              "    </script>\n",
              "  </div>\n",
              "\n",
              "\n",
              "<div id=\"df-8091dbd0-48bd-4588-b805-8a098842c9ee\">\n",
              "  <button class=\"colab-df-quickchart\" onclick=\"quickchart('df-8091dbd0-48bd-4588-b805-8a098842c9ee')\"\n",
              "            title=\"Suggest charts.\"\n",
              "            style=\"display:none;\">\n",
              "\n",
              "<svg xmlns=\"http://www.w3.org/2000/svg\" height=\"24px\"viewBox=\"0 0 24 24\"\n",
              "     width=\"24px\">\n",
              "    <g>\n",
              "        <path d=\"M19 3H5c-1.1 0-2 .9-2 2v14c0 1.1.9 2 2 2h14c1.1 0 2-.9 2-2V5c0-1.1-.9-2-2-2zM9 17H7v-7h2v7zm4 0h-2V7h2v10zm4 0h-2v-4h2v4z\"/>\n",
              "    </g>\n",
              "</svg>\n",
              "  </button>\n",
              "\n",
              "<style>\n",
              "  .colab-df-quickchart {\n",
              "      --bg-color: #E8F0FE;\n",
              "      --fill-color: #1967D2;\n",
              "      --hover-bg-color: #E2EBFA;\n",
              "      --hover-fill-color: #174EA6;\n",
              "      --disabled-fill-color: #AAA;\n",
              "      --disabled-bg-color: #DDD;\n",
              "  }\n",
              "\n",
              "  [theme=dark] .colab-df-quickchart {\n",
              "      --bg-color: #3B4455;\n",
              "      --fill-color: #D2E3FC;\n",
              "      --hover-bg-color: #434B5C;\n",
              "      --hover-fill-color: #FFFFFF;\n",
              "      --disabled-bg-color: #3B4455;\n",
              "      --disabled-fill-color: #666;\n",
              "  }\n",
              "\n",
              "  .colab-df-quickchart {\n",
              "    background-color: var(--bg-color);\n",
              "    border: none;\n",
              "    border-radius: 50%;\n",
              "    cursor: pointer;\n",
              "    display: none;\n",
              "    fill: var(--fill-color);\n",
              "    height: 32px;\n",
              "    padding: 0;\n",
              "    width: 32px;\n",
              "  }\n",
              "\n",
              "  .colab-df-quickchart:hover {\n",
              "    background-color: var(--hover-bg-color);\n",
              "    box-shadow: 0 1px 2px rgba(60, 64, 67, 0.3), 0 1px 3px 1px rgba(60, 64, 67, 0.15);\n",
              "    fill: var(--button-hover-fill-color);\n",
              "  }\n",
              "\n",
              "  .colab-df-quickchart-complete:disabled,\n",
              "  .colab-df-quickchart-complete:disabled:hover {\n",
              "    background-color: var(--disabled-bg-color);\n",
              "    fill: var(--disabled-fill-color);\n",
              "    box-shadow: none;\n",
              "  }\n",
              "\n",
              "  .colab-df-spinner {\n",
              "    border: 2px solid var(--fill-color);\n",
              "    border-color: transparent;\n",
              "    border-bottom-color: var(--fill-color);\n",
              "    animation:\n",
              "      spin 1s steps(1) infinite;\n",
              "  }\n",
              "\n",
              "  @keyframes spin {\n",
              "    0% {\n",
              "      border-color: transparent;\n",
              "      border-bottom-color: var(--fill-color);\n",
              "      border-left-color: var(--fill-color);\n",
              "    }\n",
              "    20% {\n",
              "      border-color: transparent;\n",
              "      border-left-color: var(--fill-color);\n",
              "      border-top-color: var(--fill-color);\n",
              "    }\n",
              "    30% {\n",
              "      border-color: transparent;\n",
              "      border-left-color: var(--fill-color);\n",
              "      border-top-color: var(--fill-color);\n",
              "      border-right-color: var(--fill-color);\n",
              "    }\n",
              "    40% {\n",
              "      border-color: transparent;\n",
              "      border-right-color: var(--fill-color);\n",
              "      border-top-color: var(--fill-color);\n",
              "    }\n",
              "    60% {\n",
              "      border-color: transparent;\n",
              "      border-right-color: var(--fill-color);\n",
              "    }\n",
              "    80% {\n",
              "      border-color: transparent;\n",
              "      border-right-color: var(--fill-color);\n",
              "      border-bottom-color: var(--fill-color);\n",
              "    }\n",
              "    90% {\n",
              "      border-color: transparent;\n",
              "      border-bottom-color: var(--fill-color);\n",
              "    }\n",
              "  }\n",
              "</style>\n",
              "\n",
              "  <script>\n",
              "    async function quickchart(key) {\n",
              "      const quickchartButtonEl =\n",
              "        document.querySelector('#' + key + ' button');\n",
              "      quickchartButtonEl.disabled = true;  // To prevent multiple clicks.\n",
              "      quickchartButtonEl.classList.add('colab-df-spinner');\n",
              "      try {\n",
              "        const charts = await google.colab.kernel.invokeFunction(\n",
              "            'suggestCharts', [key], {});\n",
              "      } catch (error) {\n",
              "        console.error('Error during call to suggestCharts:', error);\n",
              "      }\n",
              "      quickchartButtonEl.classList.remove('colab-df-spinner');\n",
              "      quickchartButtonEl.classList.add('colab-df-quickchart-complete');\n",
              "    }\n",
              "    (() => {\n",
              "      let quickchartButtonEl =\n",
              "        document.querySelector('#df-8091dbd0-48bd-4588-b805-8a098842c9ee button');\n",
              "      quickchartButtonEl.style.display =\n",
              "        google.colab.kernel.accessAllowed ? 'block' : 'none';\n",
              "    })();\n",
              "  </script>\n",
              "</div>\n",
              "    </div>\n",
              "  </div>\n"
            ]
          },
          "metadata": {},
          "execution_count": 55
        }
      ]
    },
    {
      "cell_type": "code",
      "source": [
        "flag_lrcx = -np.sign(np.log((stocks['Open']['LRCX'].shift() / stocks['Adj Close']['LRCX'])))\n",
        "tot = flag_lrcx * np.log(stocks['Adj Close']['LRCX'] / stocks['Open']['LRCX'])\n",
        "print(tot.mean() / (tot.std() * (len(tot)**(-1/2))))\n",
        "tot.cumsum().plot()\n",
        "\"\"\"\n",
        "obviously this procedure has some error lol\n",
        "find the bug! this is lowk a pandas q"
      ],
      "metadata": {
        "colab": {
          "base_uri": "https://localhost:8080/",
          "height": 468
        },
        "id": "xDAmwfrsJL7z",
        "outputId": "a1666050-f034-4899-8823-6c5385615241"
      },
      "execution_count": null,
      "outputs": [
        {
          "output_type": "stream",
          "name": "stdout",
          "text": [
            "10.949009996725419\n"
          ]
        },
        {
          "output_type": "execute_result",
          "data": {
            "text/plain": [
              "<Axes: xlabel='Date'>"
            ]
          },
          "metadata": {},
          "execution_count": 47
        },
        {
          "output_type": "display_data",
          "data": {
            "text/plain": [
              "<Figure size 640x480 with 1 Axes>"
            ],
            "image/png": "[encoded data removed]"
          },
          "metadata": {}
        }
      ]
    },
    {
      "cell_type": "code",
      "source": [
        "lrcx_gaps = np.log((stocks['Open']['LRCX'] / stocks['Adj Close']['LRCX'].shift()))\n",
        "amat_gaps = np.log((stocks['Open']['AMAT'] / stocks['Adj Close']['AMAT'].shift()))\n",
        "#Calculate \"gap\" -- change from yesterday's close to today's open\n",
        "flag = np.sign((lrcx_gaps / lrcx_gaps.std()) - (amat_gaps / amat_gaps.std()) )\n",
        "#Flag -- increase / decrease\n",
        "profs = flag * np.log(stocks['Adj Close']['AMAT'] / stocks['Open']['AMAT'])"
      ],
      "metadata": {
        "id": "WoErVlJGJfqR"
      },
      "execution_count": null,
      "outputs": []
    },
    {
      "cell_type": "code",
      "source": [
        "(profs.mean() / (profs.std() * len(profs)**(-1/2)))"
      ],
      "metadata": {
        "colab": {
          "base_uri": "https://localhost:8080/"
        },
        "id": "-GHX2TfiSjOs",
        "outputId": "369abf8a-1b06-4a09-f07c-88b4c7d57946"
      },
      "execution_count": null,
      "outputs": [
        {
          "output_type": "execute_result",
          "data": {
            "text/plain": [
              "-2.582413258788475"
            ]
          },
          "metadata": {},
          "execution_count": 84
        }
      ]
    },
    {
      "cell_type": "code",
      "source": [
        "profs.cumsum().plot()\n",
        "#this looks really ass"
      ],
      "metadata": {
        "colab": {
          "base_uri": "https://localhost:8080/",
          "height": 450
        },
        "id": "15EUgJXyRFRN",
        "outputId": "7d0cd366-ac4c-433f-b442-c26330578f08"
      },
      "execution_count": null,
      "outputs": [
        {
          "output_type": "execute_result",
          "data": {
            "text/plain": [
              "<Axes: xlabel='Date'>"
            ]
          },
          "metadata": {},
          "execution_count": 85
        },
        {
          "output_type": "display_data",
          "data": {
            "text/plain": [
              "<Figure size 640x480 with 1 Axes>"
            ],
            "image/png": "[encoded data removed]"
          },
          "metadata": {}
        }
      ]
    },
    {
      "cell_type": "code",
      "source": [
        "profs_lrcx = -flag * np.log(stocks['Adj Close']['LRCX'] / stocks['Open']['LRCX'])\n",
        "print(profs_lrcx.mean()* len(profs_lrcx)**(0.5) / profs_lrcx.std())"
      ],
      "metadata": {
        "colab": {
          "base_uri": "https://localhost:8080/"
        },
        "id": "29V9dRj3TGJ8",
        "outputId": "66d0fb27-5892-41ff-8518-2cd3a6f6c0eb"
      },
      "execution_count": null,
      "outputs": [
        {
          "output_type": "stream",
          "name": "stdout",
          "text": [
            "4.890758333102531\n"
          ]
        }
      ]
    },
    {
      "cell_type": "code",
      "source": [
        "profs_lrcx.cumsum().plot()\n",
        "#pretty good..."
      ],
      "metadata": {
        "colab": {
          "base_uri": "https://localhost:8080/",
          "height": 450
        },
        "id": "N9Wb4Ig1TdX9",
        "outputId": "91005c80-a632-4cb5-dbf7-4055ab3b5b75"
      },
      "execution_count": null,
      "outputs": [
        {
          "output_type": "execute_result",
          "data": {
            "text/plain": [
              "<Axes: xlabel='Date'>"
            ]
          },
          "metadata": {},
          "execution_count": 88
        },
        {
          "output_type": "display_data",
          "data": {
            "text/plain": [
              "<Figure size 640x480 with 1 Axes>"
            ],
            "image/png": "[encoded data removed]"
          },
          "metadata": {}
        }
      ]
    },
    {
      "cell_type": "code",
      "source": [
        "profs = flag * np.log(stocks['Adj Close']['AMAT'] / stocks['Open']['AMAT']) - flag * np.log(stocks['Adj Close']['LRCX'] / stocks['Open']['LRCX'])\n",
        "print(profs.mean()* len(profs)**(0.5) / profs.std())"
      ],
      "metadata": {
        "colab": {
          "base_uri": "https://localhost:8080/"
        },
        "id": "g0Nv_QUIU_lS",
        "outputId": "b2243dde-5b64-406c-8bc1-4bea88b5c68d"
      },
      "execution_count": null,
      "outputs": [
        {
          "output_type": "stream",
          "name": "stdout",
          "text": [
            "6.501356781220623\n"
          ]
        }
      ]
    },
    {
      "cell_type": "code",
      "source": [
        "profs.cumsum().plot()\n",
        "#up and to the right!!! how do we get a higher t-stat by combining a \"good\" strategy with a \"bad\" strategy?"
      ],
      "metadata": {
        "colab": {
          "base_uri": "https://localhost:8080/",
          "height": 450
        },
        "id": "asI_JUsHTszR",
        "outputId": "b2e49ccb-b1c3-4e74-b5bd-8e6ac7918e46"
      },
      "execution_count": null,
      "outputs": [
        {
          "output_type": "execute_result",
          "data": {
            "text/plain": [
              "<Axes: xlabel='Date'>"
            ]
          },
          "metadata": {},
          "execution_count": 92
        },
        {
          "output_type": "display_data",
          "data": {
            "text/plain": [
              "<Figure size 640x480 with 1 Axes>"
            ],
            "image/png": "[encoded data removed]"
          },
          "metadata": {}
        }
      ]
    },
    {
      "cell_type": "code",
      "source": [
        "stocks = pdr.get_data_yahoo(['LRCX', 'AMAT'], mid, end)[['Close', 'Open']]\n",
        "lrcx_gaps = np.log((stocks['Open']['LRCX'] / stocks['Close']['LRCX'].shift()))\n",
        "amat_gaps = np.log((stocks['Open']['AMAT'] / stocks['Close']['AMAT'].shift()))\n",
        "flag = np.sign((lrcx_gaps / lrcx_gaps.std()) - (amat_gaps / amat_gaps.std()) )\n",
        "profs = flag * np.log(stocks['Close']['AMAT'] / stocks['Open']['AMAT']) - flag * np.log(stocks['Close']['LRCX'] / stocks['Open']['LRCX'])\n",
        "print(profs.mean()* len(profs)**(0.5) / profs.std())\n",
        "profs.cumsum().plot()"
      ],
      "metadata": {
        "colab": {
          "base_uri": "https://localhost:8080/",
          "height": 485
        },
        "id": "Ks71M53JKH6u",
        "outputId": "36d16711-8eab-4f42-a594-a2b73cfa41b7"
      },
      "execution_count": null,
      "outputs": [
        {
          "output_type": "stream",
          "name": "stdout",
          "text": [
            "[*********************100%%**********************]  2 of 2 completed\n",
            "1.1630451309899028\n"
          ]
        },
        {
          "output_type": "execute_result",
          "data": {
            "text/plain": [
              "<Axes: xlabel='Date'>"
            ]
          },
          "metadata": {},
          "execution_count": 16
        },
        {
          "output_type": "display_data",
          "data": {
            "text/plain": [
              "<Figure size 640x480 with 1 Axes>"
            ],
            "image/png": "[encoded data removed]"
          },
          "metadata": {}
        }
      ]
    }
  ]
}