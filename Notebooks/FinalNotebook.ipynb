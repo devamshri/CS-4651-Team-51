{
  "nbformat": 4,
  "nbformat_minor": 0,
  "metadata": {
    "colab": {
      "provenance": []
    },
    "kernelspec": {
      "name": "python3",
      "display_name": "Python 3"
    },
    "language_info": {
      "name": "python"
    }
  },
  "cells": [
    {
      "cell_type": "code",
      "execution_count": null,
      "metadata": {
        "id": "9Ie-aL8t4JuX",
        "colab": {
          "base_uri": "https://localhost:8080/",
          "height": 393
        },
        "outputId": "a042226f-1903-4eaf-eca2-95a783dd8a4d"
      },
      "outputs": [
        {
          "output_type": "stream",
          "name": "stdout",
          "text": [
            "Requirement already satisfied: yfinance in /usr/local/lib/python3.10/dist-packages (0.2.32)\n",
            "Requirement already satisfied: pandas>=1.3.0 in /usr/local/lib/python3.10/dist-packages (from yfinance) (1.5.3)\n",
            "Requirement already satisfied: numpy>=1.16.5 in /usr/local/lib/python3.10/dist-packages (from yfinance) (1.23.5)\n",
            "Requirement already satisfied: requests>=2.31 in /usr/local/lib/python3.10/dist-packages (from yfinance) (2.31.0)\n",
            "Requirement already satisfied: multitasking>=0.0.7 in /usr/local/lib/python3.10/dist-packages (from yfinance) (0.0.11)\n",
            "Requirement already satisfied: lxml>=4.9.1 in /usr/local/lib/python3.10/dist-packages (from yfinance) (4.9.3)\n",
            "Requirement already satisfied: appdirs>=1.4.4 in /usr/local/lib/python3.10/dist-packages (from yfinance) (1.4.4)\n",
            "Requirement already satisfied: pytz>=2022.5 in /usr/local/lib/python3.10/dist-packages (from yfinance) (2023.3.post1)\n",
            "Requirement already satisfied: frozendict>=2.3.4 in /usr/local/lib/python3.10/dist-packages (from yfinance) (2.3.10)\n",
            "Requirement already satisfied: peewee>=3.16.2 in /usr/local/lib/python3.10/dist-packages (from yfinance) (3.17.0)\n",
            "Requirement already satisfied: beautifulsoup4>=4.11.1 in /usr/local/lib/python3.10/dist-packages (from yfinance) (4.11.2)\n",
            "Requirement already satisfied: html5lib>=1.1 in /usr/local/lib/python3.10/dist-packages (from yfinance) (1.1)\n",
            "Requirement already satisfied: soupsieve>1.2 in /usr/local/lib/python3.10/dist-packages (from beautifulsoup4>=4.11.1->yfinance) (2.5)\n",
            "Requirement already satisfied: six>=1.9 in /usr/local/lib/python3.10/dist-packages (from html5lib>=1.1->yfinance) (1.16.0)\n",
            "Requirement already satisfied: webencodings in /usr/local/lib/python3.10/dist-packages (from html5lib>=1.1->yfinance) (0.5.1)\n",
            "Requirement already satisfied: python-dateutil>=2.8.1 in /usr/local/lib/python3.10/dist-packages (from pandas>=1.3.0->yfinance) (2.8.2)\n",
            "Requirement already satisfied: charset-normalizer<4,>=2 in /usr/local/lib/python3.10/dist-packages (from requests>=2.31->yfinance) (3.3.2)\n",
            "Requirement already satisfied: idna<4,>=2.5 in /usr/local/lib/python3.10/dist-packages (from requests>=2.31->yfinance) (3.6)\n",
            "Requirement already satisfied: urllib3<3,>=1.21.1 in /usr/local/lib/python3.10/dist-packages (from requests>=2.31->yfinance) (2.0.7)\n",
            "Requirement already satisfied: certifi>=2017.4.17 in /usr/local/lib/python3.10/dist-packages (from requests>=2.31->yfinance) (2023.11.17)\n"
          ]
        },
        {
          "output_type": "execute_result",
          "data": {
            "text/plain": [
              "' We are using yahoo finance dataset because it has a lot of data'"
            ],
            "application/vnd.google.colaboratory.intrinsic+json": {
              "type": "string"
            }
          },
          "metadata": {},
          "execution_count": 2
        }
      ],
      "source": [
        "!pip install yfinance\n",
        "''' We are using yahoo finance dataset because it has a lot of data'''"
      ]
    },
    {
      "cell_type": "code",
      "source": [
        "import numpy as np\n",
        "import pandas as pd\n",
        "import datetime as dt\n",
        "#standard data manipulation libraries\n",
        "from pandas_datareader import data as pdr\n",
        "#useful for pulling data from yfinance\n",
        "from sklearn import linear_model\n",
        "import statsmodels.api as sm\n",
        "import yfinance as yf"
      ],
      "metadata": {
        "id": "DKu9SQCj62P6"
      },
      "execution_count": null,
      "outputs": []
    },
    {
      "cell_type": "code",
      "source": [
        "yf.Ticker(\"AAPL\").history(start = \"2023-01-01\", end = \"2023-01-04\")\n"
      ],
      "metadata": {
        "colab": {
          "base_uri": "https://localhost:8080/",
          "height": 112
        },
        "id": "8KJde8Rz6kyh",
        "outputId": "073d74a1-4df3-41ec-f5cf-cf188208e7fc"
      },
      "execution_count": null,
      "outputs": [
        {
          "output_type": "execute_result",
          "data": {
            "text/plain": [
              "                                 Open       High         Low       Close  \\\n",
              "Date                                                                       \n",
              "2023-01-03 00:00:00-05:00  129.555841  130.17239  123.479803  124.374802   \n",
              "\n",
              "                              Volume  Dividends  Stock Splits  \n",
              "Date                                                           \n",
              "2023-01-03 00:00:00-05:00  112117500        0.0           0.0  "
            ],
            "text/html": [
              "\n",
              "  <div id=\"df-ec14abdb-6ce4-474f-95d9-2d53bc879550\" class=\"colab-df-container\">\n",
              "    <div>\n",
              "<style scoped>\n",
              "    .dataframe tbody tr th:only-of-type {\n",
              "        vertical-align: middle;\n",
              "    }\n",
              "\n",
              "    .dataframe tbody tr th {\n",
              "        vertical-align: top;\n",
              "    }\n",
              "\n",
              "    .dataframe thead th {\n",
              "        text-align: right;\n",
              "    }\n",
              "</style>\n",
              "<table border=\"1\" class=\"dataframe\">\n",
              "  <thead>\n",
              "    <tr style=\"text-align: right;\">\n",
              "      <th></th>\n",
              "      <th>Open</th>\n",
              "      <th>High</th>\n",
              "      <th>Low</th>\n",
              "      <th>Close</th>\n",
              "      <th>Volume</th>\n",
              "      <th>Dividends</th>\n",
              "      <th>Stock Splits</th>\n",
              "    </tr>\n",
              "    <tr>\n",
              "      <th>Date</th>\n",
              "      <th></th>\n",
              "      <th></th>\n",
              "      <th></th>\n",
              "      <th></th>\n",
              "      <th></th>\n",
              "      <th></th>\n",
              "      <th></th>\n",
              "    </tr>\n",
              "  </thead>\n",
              "  <tbody>\n",
              "    <tr>\n",
              "      <th>2023-01-03 00:00:00-05:00</th>\n",
              "      <td>129.555841</td>\n",
              "      <td>130.17239</td>\n",
              "      <td>123.479803</td>\n",
              "      <td>124.374802</td>\n",
              "      <td>112117500</td>\n",
              "      <td>0.0</td>\n",
              "      <td>0.0</td>\n",
              "    </tr>\n",
              "  </tbody>\n",
              "</table>\n",
              "</div>\n",
              "    <div class=\"colab-df-buttons\">\n",
              "\n",
              "  <div class=\"colab-df-container\">\n",
              "    <button class=\"colab-df-convert\" onclick=\"convertToInteractive('df-ec14abdb-6ce4-474f-95d9-2d53bc879550')\"\n",
              "            title=\"Convert this dataframe to an interactive table.\"\n",
              "            style=\"display:none;\">\n",
              "\n",
              "  <svg xmlns=\"http://www.w3.org/2000/svg\" height=\"24px\" viewBox=\"0 -960 960 960\">\n",
              "    <path d=\"M120-120v-720h720v720H120Zm60-500h600v-160H180v160Zm220 220h160v-160H400v160Zm0 220h160v-160H400v160ZM180-400h160v-160H180v160Zm440 0h160v-160H620v160ZM180-180h160v-160H180v160Zm440 0h160v-160H620v160Z\"/>\n",
              "  </svg>\n",
              "    </button>\n",
              "\n",
              "  <style>\n",
              "    .colab-df-container {\n",
              "      display:flex;\n",
              "      gap: 12px;\n",
              "    }\n",
              "\n",
              "    .colab-df-convert {\n",
              "      background-color: #E8F0FE;\n",
              "      border: none;\n",
              "      border-radius: 50%;\n",
              "      cursor: pointer;\n",
              "      display: none;\n",
              "      fill: #1967D2;\n",
              "      height: 32px;\n",
              "      padding: 0 0 0 0;\n",
              "      width: 32px;\n",
              "    }\n",
              "\n",
              "    .colab-df-convert:hover {\n",
              "      background-color: #E2EBFA;\n",
              "      box-shadow: 0px 1px 2px rgba(60, 64, 67, 0.3), 0px 1px 3px 1px rgba(60, 64, 67, 0.15);\n",
              "      fill: #174EA6;\n",
              "    }\n",
              "\n",
              "    .colab-df-buttons div {\n",
              "      margin-bottom: 4px;\n",
              "    }\n",
              "\n",
              "    [theme=dark] .colab-df-convert {\n",
              "      background-color: #3B4455;\n",
              "      fill: #D2E3FC;\n",
              "    }\n",
              "\n",
              "    [theme=dark] .colab-df-convert:hover {\n",
              "      background-color: #434B5C;\n",
              "      box-shadow: 0px 1px 3px 1px rgba(0, 0, 0, 0.15);\n",
              "      filter: drop-shadow(0px 1px 2px rgba(0, 0, 0, 0.3));\n",
              "      fill: #FFFFFF;\n",
              "    }\n",
              "  </style>\n",
              "\n",
              "    <script>\n",
              "      const buttonEl =\n",
              "        document.querySelector('#df-ec14abdb-6ce4-474f-95d9-2d53bc879550 button.colab-df-convert');\n",
              "      buttonEl.style.display =\n",
              "        google.colab.kernel.accessAllowed ? 'block' : 'none';\n",
              "\n",
              "      async function convertToInteractive(key) {\n",
              "        const element = document.querySelector('#df-ec14abdb-6ce4-474f-95d9-2d53bc879550');\n",
              "        const dataTable =\n",
              "          await google.colab.kernel.invokeFunction('convertToInteractive',\n",
              "                                                    [key], {});\n",
              "        if (!dataTable) return;\n",
              "\n",
              "        const docLinkHtml = 'Like what you see? Visit the ' +\n",
              "          '<a target=\"_blank\" href=https://colab.research.google.com/notebooks/data_table.ipynb>data table notebook</a>'\n",
              "          + ' to learn more about interactive tables.';\n",
              "        element.innerHTML = '';\n",
              "        dataTable['output_type'] = 'display_data';\n",
              "        await google.colab.output.renderOutput(dataTable, element);\n",
              "        const docLink = document.createElement('div');\n",
              "        docLink.innerHTML = docLinkHtml;\n",
              "        element.appendChild(docLink);\n",
              "      }\n",
              "    </script>\n",
              "  </div>\n",
              "\n",
              "    </div>\n",
              "  </div>\n"
            ]
          },
          "metadata": {},
          "execution_count": 4
        }
      ]
    },
    {
      "cell_type": "code",
      "source": [
        "ticker_list = 'TGT TSLA F GM  MSFT ETSY SPOT NVDA AMD META BABA PYPL NFLX SQ CRM XOM TEAM TWLO V UNH JPM SBUX ADBE BA NIO BAC PANW SNOW COP PDD CVX AVGO FIS EL MRNA QCOM WFC HD INTC OXY ENPH PFE INTU GS CAT NKE DIS TMUS TXN LLY MU CRWD MA NOW LRCX SHOP CVX AMGN JNJ CMCSA MCD DKNG SLB MRK TMO BILL CSCO ROKU HON HUM NET AMAT PG DHR T ADI CI MCHP SCHW PEP LMT WMT C WDAY VZ ACN BMY MRVL DDOG MNST EXP GM ILMN MRO KO IBM PNC ORCL ZS DOW ANET ADSK PLTR FSLR MAR AXP HAL CCL MDB FTNT UAL RTX BIDU VLO AAL UPS RCL HPQ PGR TJX LVS ADP CNC YUM GD OKTA PINS LULU DAL DPZ ATVI SNAP ZM EBAY AEP CL EA SNPS MGM MTCH WB TTWO PAYC LCID DOCU ZI BILI PLUG K COF SPLK CHWY PTON BURL LUV Z LYFT AKAM UBER'.split()\n",
        "ticker_list = tuple(ticker_list)\n",
        "#These are a list of stocks that we are looking at"
      ],
      "metadata": {
        "id": "e2bswx5L6zAv"
      },
      "execution_count": null,
      "outputs": []
    },
    {
      "cell_type": "code",
      "source": [
        "start = dt.date.today() - dt.timedelta(days = int(365.25*1.5))\n",
        "mid = dt.date.today() - dt.timedelta(days = int(365.25*0.5))\n",
        "end = dt.date.today()\n",
        "#We are doing time series analysis, based on difference between start and end"
      ],
      "metadata": {
        "id": "CpjCj2H47XgZ"
      },
      "execution_count": null,
      "outputs": []
    },
    {
      "cell_type": "code",
      "source": [
        "print(start, mid, end)"
      ],
      "metadata": {
        "colab": {
          "base_uri": "https://localhost:8080/"
        },
        "id": "vaJVBBN39UUk",
        "outputId": "dbb97d52-38c5-4440-b124-29341f6f4b23"
      },
      "execution_count": null,
      "outputs": [
        {
          "output_type": "stream",
          "name": "stdout",
          "text": [
            "2022-06-06 2023-06-06 2023-12-05\n"
          ]
        }
      ]
    },
    {
      "cell_type": "code",
      "source": [
        "yf.__version__"
      ],
      "metadata": {
        "id": "ZYS2K-Ju9pzk",
        "outputId": "afc27e2b-ed05-43f9-9166-e9edd8a3c32c",
        "colab": {
          "base_uri": "https://localhost:8080/",
          "height": 35
        }
      },
      "execution_count": null,
      "outputs": [
        {
          "output_type": "execute_result",
          "data": {
            "text/plain": [
              "'0.2.32'"
            ],
            "application/vnd.google.colaboratory.intrinsic+json": {
              "type": "string"
            }
          },
          "metadata": {},
          "execution_count": 8
        }
      ]
    },
    {
      "cell_type": "code",
      "source": [
        "dataset = yf.download(list(ticker_list), start=start, end=mid)"
      ],
      "metadata": {
        "colab": {
          "base_uri": "https://localhost:8080/"
        },
        "id": "2Y4bXDxe_I_Z",
        "outputId": "f21f3de0-5495-4073-a709-e9d574187c8f"
      },
      "execution_count": null,
      "outputs": [
        {
          "output_type": "stream",
          "name": "stdout",
          "text": [
            "[*********************100%%**********************]  157 of 157 completed\n"
          ]
        }
      ]
    },
    {
      "cell_type": "code",
      "source": [
        "dataset.head()"
      ],
      "metadata": {
        "colab": {
          "base_uri": "https://localhost:8080/",
          "height": 405
        },
        "id": "E-RIBEudTy4W",
        "outputId": "c6feb54d-d88d-4fc8-e971-647ff2569420"
      },
      "execution_count": null,
      "outputs": [
        {
          "output_type": "execute_result",
          "data": {
            "text/plain": [
              "            Adj Close                                                  \\\n",
              "                  AAL         ACN        ADBE         ADI         ADP   \n",
              "Date                                                                    \n",
              "2022-06-06  16.299999  297.577759  429.459991  160.689346  212.955551   \n",
              "2022-06-07  16.690001  299.335480  433.420013  162.322769  215.642853   \n",
              "2022-06-08  16.150000  295.536835  428.839996  160.436539  213.421219   \n",
              "2022-06-09  15.470000  288.496033  426.420013  157.130798  210.253281   \n",
              "2022-06-10  14.710000  279.297089  393.839996  152.570755  206.276306   \n",
              "\n",
              "                                                                       ...  \\\n",
              "                  ADSK        AEP        AKAM        AMAT         AMD  ...   \n",
              "Date                                                                   ...   \n",
              "2022-06-06  208.600006  96.396652  100.650002  113.377174  105.650002  ...   \n",
              "2022-06-07  207.169998  96.746117  101.769997  114.037727  105.279999  ...   \n",
              "2022-06-08  203.729996  94.951553  100.760002  110.873016  101.900002  ...   \n",
              "2022-06-09  195.059998  92.807518   99.820000  105.726669   98.800003  ...   \n",
              "2022-06-10  187.080002  92.807518   97.440002  100.442314   94.820000  ...   \n",
              "\n",
              "             Volume                                                           \\\n",
              "                 WB     WDAY       WFC       WMT       XOM      YUM        Z   \n",
              "Date                                                                           \n",
              "2022-06-06  1262100  2116800  11867200   6618500  20682100  1175500  4340800   \n",
              "2022-06-07  1082200  2179700  13281600  15902600  37810200  1047300  3435200   \n",
              "2022-06-08  1808600  1560800  12364400   7507600  31613200  1164800  3137900   \n",
              "2022-06-09   869100  1725100  20142400   6626700  26607000  1052700  5564100   \n",
              "2022-06-10  5650500  3265500  27619300   8412700  30950500  1222900  4473200   \n",
              "\n",
              "                                       \n",
              "                 ZI       ZM       ZS  \n",
              "Date                                   \n",
              "2022-06-06  4149500  2867500  2028200  \n",
              "2022-06-07  4800000  3951900  1613900  \n",
              "2022-06-08  4437800  3583900  2280900  \n",
              "2022-06-09  3989200  4302600  1968800  \n",
              "2022-06-10  5611200  5768900  2228200  \n",
              "\n",
              "[5 rows x 942 columns]"
            ],
            "text/html": [
              "\n",
              "  <div id=\"df-0a43050c-a479-4254-b61e-b963ee0edbf0\" class=\"colab-df-container\">\n",
              "    <div>\n",
              "<style scoped>\n",
              "    .dataframe tbody tr th:only-of-type {\n",
              "        vertical-align: middle;\n",
              "    }\n",
              "\n",
              "    .dataframe tbody tr th {\n",
              "        vertical-align: top;\n",
              "    }\n",
              "\n",
              "    .dataframe thead tr th {\n",
              "        text-align: left;\n",
              "    }\n",
              "\n",
              "    .dataframe thead tr:last-of-type th {\n",
              "        text-align: right;\n",
              "    }\n",
              "</style>\n",
              "<table border=\"1\" class=\"dataframe\">\n",
              "  <thead>\n",
              "    <tr>\n",
              "      <th></th>\n",
              "      <th colspan=\"10\" halign=\"left\">Adj Close</th>\n",
              "      <th>...</th>\n",
              "      <th colspan=\"10\" halign=\"left\">Volume</th>\n",
              "    </tr>\n",
              "    <tr>\n",
              "      <th></th>\n",
              "      <th>AAL</th>\n",
              "      <th>ACN</th>\n",
              "      <th>ADBE</th>\n",
              "      <th>ADI</th>\n",
              "      <th>ADP</th>\n",
              "      <th>ADSK</th>\n",
              "      <th>AEP</th>\n",
              "      <th>AKAM</th>\n",
              "      <th>AMAT</th>\n",
              "      <th>AMD</th>\n",
              "      <th>...</th>\n",
              "      <th>WB</th>\n",
              "      <th>WDAY</th>\n",
              "      <th>WFC</th>\n",
              "      <th>WMT</th>\n",
              "      <th>XOM</th>\n",
              "      <th>YUM</th>\n",
              "      <th>Z</th>\n",
              "      <th>ZI</th>\n",
              "      <th>ZM</th>\n",
              "      <th>ZS</th>\n",
              "    </tr>\n",
              "    <tr>\n",
              "      <th>Date</th>\n",
              "      <th></th>\n",
              "      <th></th>\n",
              "      <th></th>\n",
              "      <th></th>\n",
              "      <th></th>\n",
              "      <th></th>\n",
              "      <th></th>\n",
              "      <th></th>\n",
              "      <th></th>\n",
              "      <th></th>\n",
              "      <th></th>\n",
              "      <th></th>\n",
              "      <th></th>\n",
              "      <th></th>\n",
              "      <th></th>\n",
              "      <th></th>\n",
              "      <th></th>\n",
              "      <th></th>\n",
              "      <th></th>\n",
              "      <th></th>\n",
              "      <th></th>\n",
              "    </tr>\n",
              "  </thead>\n",
              "  <tbody>\n",
              "    <tr>\n",
              "      <th>2022-06-06</th>\n",
              "      <td>16.299999</td>\n",
              "      <td>297.577759</td>\n",
              "      <td>429.459991</td>\n",
              "      <td>160.689346</td>\n",
              "      <td>212.955551</td>\n",
              "      <td>208.600006</td>\n",
              "      <td>96.396652</td>\n",
              "      <td>100.650002</td>\n",
              "      <td>113.377174</td>\n",
              "      <td>105.650002</td>\n",
              "      <td>...</td>\n",
              "      <td>1262100</td>\n",
              "      <td>2116800</td>\n",
              "      <td>11867200</td>\n",
              "      <td>6618500</td>\n",
              "      <td>20682100</td>\n",
              "      <td>1175500</td>\n",
              "      <td>4340800</td>\n",
              "      <td>4149500</td>\n",
              "      <td>2867500</td>\n",
              "      <td>2028200</td>\n",
              "    </tr>\n",
              "    <tr>\n",
              "      <th>2022-06-07</th>\n",
              "      <td>16.690001</td>\n",
              "      <td>299.335480</td>\n",
              "      <td>433.420013</td>\n",
              "      <td>162.322769</td>\n",
              "      <td>215.642853</td>\n",
              "      <td>207.169998</td>\n",
              "      <td>96.746117</td>\n",
              "      <td>101.769997</td>\n",
              "      <td>114.037727</td>\n",
              "      <td>105.279999</td>\n",
              "      <td>...</td>\n",
              "      <td>1082200</td>\n",
              "      <td>2179700</td>\n",
              "      <td>13281600</td>\n",
              "      <td>15902600</td>\n",
              "      <td>37810200</td>\n",
              "      <td>1047300</td>\n",
              "      <td>3435200</td>\n",
              "      <td>4800000</td>\n",
              "      <td>3951900</td>\n",
              "      <td>1613900</td>\n",
              "    </tr>\n",
              "    <tr>\n",
              "      <th>2022-06-08</th>\n",
              "      <td>16.150000</td>\n",
              "      <td>295.536835</td>\n",
              "      <td>428.839996</td>\n",
              "      <td>160.436539</td>\n",
              "      <td>213.421219</td>\n",
              "      <td>203.729996</td>\n",
              "      <td>94.951553</td>\n",
              "      <td>100.760002</td>\n",
              "      <td>110.873016</td>\n",
              "      <td>101.900002</td>\n",
              "      <td>...</td>\n",
              "      <td>1808600</td>\n",
              "      <td>1560800</td>\n",
              "      <td>12364400</td>\n",
              "      <td>7507600</td>\n",
              "      <td>31613200</td>\n",
              "      <td>1164800</td>\n",
              "      <td>3137900</td>\n",
              "      <td>4437800</td>\n",
              "      <td>3583900</td>\n",
              "      <td>2280900</td>\n",
              "    </tr>\n",
              "    <tr>\n",
              "      <th>2022-06-09</th>\n",
              "      <td>15.470000</td>\n",
              "      <td>288.496033</td>\n",
              "      <td>426.420013</td>\n",
              "      <td>157.130798</td>\n",
              "      <td>210.253281</td>\n",
              "      <td>195.059998</td>\n",
              "      <td>92.807518</td>\n",
              "      <td>99.820000</td>\n",
              "      <td>105.726669</td>\n",
              "      <td>98.800003</td>\n",
              "      <td>...</td>\n",
              "      <td>869100</td>\n",
              "      <td>1725100</td>\n",
              "      <td>20142400</td>\n",
              "      <td>6626700</td>\n",
              "      <td>26607000</td>\n",
              "      <td>1052700</td>\n",
              "      <td>5564100</td>\n",
              "      <td>3989200</td>\n",
              "      <td>4302600</td>\n",
              "      <td>1968800</td>\n",
              "    </tr>\n",
              "    <tr>\n",
              "      <th>2022-06-10</th>\n",
              "      <td>14.710000</td>\n",
              "      <td>279.297089</td>\n",
              "      <td>393.839996</td>\n",
              "      <td>152.570755</td>\n",
              "      <td>206.276306</td>\n",
              "      <td>187.080002</td>\n",
              "      <td>92.807518</td>\n",
              "      <td>97.440002</td>\n",
              "      <td>100.442314</td>\n",
              "      <td>94.820000</td>\n",
              "      <td>...</td>\n",
              "      <td>5650500</td>\n",
              "      <td>3265500</td>\n",
              "      <td>27619300</td>\n",
              "      <td>8412700</td>\n",
              "      <td>30950500</td>\n",
              "      <td>1222900</td>\n",
              "      <td>4473200</td>\n",
              "      <td>5611200</td>\n",
              "      <td>5768900</td>\n",
              "      <td>2228200</td>\n",
              "    </tr>\n",
              "  </tbody>\n",
              "</table>\n",
              "<p>5 rows × 942 columns</p>\n",
              "</div>\n",
              "    <div class=\"colab-df-buttons\">\n",
              "\n",
              "  <div class=\"colab-df-container\">\n",
              "    <button class=\"colab-df-convert\" onclick=\"convertToInteractive('df-0a43050c-a479-4254-b61e-b963ee0edbf0')\"\n",
              "            title=\"Convert this dataframe to an interactive table.\"\n",
              "            style=\"display:none;\">\n",
              "\n",
              "  <svg xmlns=\"http://www.w3.org/2000/svg\" height=\"24px\" viewBox=\"0 -960 960 960\">\n",
              "    <path d=\"M120-120v-720h720v720H120Zm60-500h600v-160H180v160Zm220 220h160v-160H400v160Zm0 220h160v-160H400v160ZM180-400h160v-160H180v160Zm440 0h160v-160H620v160ZM180-180h160v-160H180v160Zm440 0h160v-160H620v160Z\"/>\n",
              "  </svg>\n",
              "    </button>\n",
              "\n",
              "  <style>\n",
              "    .colab-df-container {\n",
              "      display:flex;\n",
              "      gap: 12px;\n",
              "    }\n",
              "\n",
              "    .colab-df-convert {\n",
              "      background-color: #E8F0FE;\n",
              "      border: none;\n",
              "      border-radius: 50%;\n",
              "      cursor: pointer;\n",
              "      display: none;\n",
              "      fill: #1967D2;\n",
              "      height: 32px;\n",
              "      padding: 0 0 0 0;\n",
              "      width: 32px;\n",
              "    }\n",
              "\n",
              "    .colab-df-convert:hover {\n",
              "      background-color: #E2EBFA;\n",
              "      box-shadow: 0px 1px 2px rgba(60, 64, 67, 0.3), 0px 1px 3px 1px rgba(60, 64, 67, 0.15);\n",
              "      fill: #174EA6;\n",
              "    }\n",
              "\n",
              "    .colab-df-buttons div {\n",
              "      margin-bottom: 4px;\n",
              "    }\n",
              "\n",
              "    [theme=dark] .colab-df-convert {\n",
              "      background-color: #3B4455;\n",
              "      fill: #D2E3FC;\n",
              "    }\n",
              "\n",
              "    [theme=dark] .colab-df-convert:hover {\n",
              "      background-color: #434B5C;\n",
              "      box-shadow: 0px 1px 3px 1px rgba(0, 0, 0, 0.15);\n",
              "      filter: drop-shadow(0px 1px 2px rgba(0, 0, 0, 0.3));\n",
              "      fill: #FFFFFF;\n",
              "    }\n",
              "  </style>\n",
              "\n",
              "    <script>\n",
              "      const buttonEl =\n",
              "        document.querySelector('#df-0a43050c-a479-4254-b61e-b963ee0edbf0 button.colab-df-convert');\n",
              "      buttonEl.style.display =\n",
              "        google.colab.kernel.accessAllowed ? 'block' : 'none';\n",
              "\n",
              "      async function convertToInteractive(key) {\n",
              "        const element = document.querySelector('#df-0a43050c-a479-4254-b61e-b963ee0edbf0');\n",
              "        const dataTable =\n",
              "          await google.colab.kernel.invokeFunction('convertToInteractive',\n",
              "                                                    [key], {});\n",
              "        if (!dataTable) return;\n",
              "\n",
              "        const docLinkHtml = 'Like what you see? Visit the ' +\n",
              "          '<a target=\"_blank\" href=https://colab.research.google.com/notebooks/data_table.ipynb>data table notebook</a>'\n",
              "          + ' to learn more about interactive tables.';\n",
              "        element.innerHTML = '';\n",
              "        dataTable['output_type'] = 'display_data';\n",
              "        await google.colab.output.renderOutput(dataTable, element);\n",
              "        const docLink = document.createElement('div');\n",
              "        docLink.innerHTML = docLinkHtml;\n",
              "        element.appendChild(docLink);\n",
              "      }\n",
              "    </script>\n",
              "  </div>\n",
              "\n",
              "\n",
              "<div id=\"df-50ec9e04-f575-41fe-9c0a-0295dca2e152\">\n",
              "  <button class=\"colab-df-quickchart\" onclick=\"quickchart('df-50ec9e04-f575-41fe-9c0a-0295dca2e152')\"\n",
              "            title=\"Suggest charts\"\n",
              "            style=\"display:none;\">\n",
              "\n",
              "<svg xmlns=\"http://www.w3.org/2000/svg\" height=\"24px\"viewBox=\"0 0 24 24\"\n",
              "     width=\"24px\">\n",
              "    <g>\n",
              "        <path d=\"M19 3H5c-1.1 0-2 .9-2 2v14c0 1.1.9 2 2 2h14c1.1 0 2-.9 2-2V5c0-1.1-.9-2-2-2zM9 17H7v-7h2v7zm4 0h-2V7h2v10zm4 0h-2v-4h2v4z\"/>\n",
              "    </g>\n",
              "</svg>\n",
              "  </button>\n",
              "\n",
              "<style>\n",
              "  .colab-df-quickchart {\n",
              "      --bg-color: #E8F0FE;\n",
              "      --fill-color: #1967D2;\n",
              "      --hover-bg-color: #E2EBFA;\n",
              "      --hover-fill-color: #174EA6;\n",
              "      --disabled-fill-color: #AAA;\n",
              "      --disabled-bg-color: #DDD;\n",
              "  }\n",
              "\n",
              "  [theme=dark] .colab-df-quickchart {\n",
              "      --bg-color: #3B4455;\n",
              "      --fill-color: #D2E3FC;\n",
              "      --hover-bg-color: #434B5C;\n",
              "      --hover-fill-color: #FFFFFF;\n",
              "      --disabled-bg-color: #3B4455;\n",
              "      --disabled-fill-color: #666;\n",
              "  }\n",
              "\n",
              "  .colab-df-quickchart {\n",
              "    background-color: var(--bg-color);\n",
              "    border: none;\n",
              "    border-radius: 50%;\n",
              "    cursor: pointer;\n",
              "    display: none;\n",
              "    fill: var(--fill-color);\n",
              "    height: 32px;\n",
              "    padding: 0;\n",
              "    width: 32px;\n",
              "  }\n",
              "\n",
              "  .colab-df-quickchart:hover {\n",
              "    background-color: var(--hover-bg-color);\n",
              "    box-shadow: 0 1px 2px rgba(60, 64, 67, 0.3), 0 1px 3px 1px rgba(60, 64, 67, 0.15);\n",
              "    fill: var(--button-hover-fill-color);\n",
              "  }\n",
              "\n",
              "  .colab-df-quickchart-complete:disabled,\n",
              "  .colab-df-quickchart-complete:disabled:hover {\n",
              "    background-color: var(--disabled-bg-color);\n",
              "    fill: var(--disabled-fill-color);\n",
              "    box-shadow: none;\n",
              "  }\n",
              "\n",
              "  .colab-df-spinner {\n",
              "    border: 2px solid var(--fill-color);\n",
              "    border-color: transparent;\n",
              "    border-bottom-color: var(--fill-color);\n",
              "    animation:\n",
              "      spin 1s steps(1) infinite;\n",
              "  }\n",
              "\n",
              "  @keyframes spin {\n",
              "    0% {\n",
              "      border-color: transparent;\n",
              "      border-bottom-color: var(--fill-color);\n",
              "      border-left-color: var(--fill-color);\n",
              "    }\n",
              "    20% {\n",
              "      border-color: transparent;\n",
              "      border-left-color: var(--fill-color);\n",
              "      border-top-color: var(--fill-color);\n",
              "    }\n",
              "    30% {\n",
              "      border-color: transparent;\n",
              "      border-left-color: var(--fill-color);\n",
              "      border-top-color: var(--fill-color);\n",
              "      border-right-color: var(--fill-color);\n",
              "    }\n",
              "    40% {\n",
              "      border-color: transparent;\n",
              "      border-right-color: var(--fill-color);\n",
              "      border-top-color: var(--fill-color);\n",
              "    }\n",
              "    60% {\n",
              "      border-color: transparent;\n",
              "      border-right-color: var(--fill-color);\n",
              "    }\n",
              "    80% {\n",
              "      border-color: transparent;\n",
              "      border-right-color: var(--fill-color);\n",
              "      border-bottom-color: var(--fill-color);\n",
              "    }\n",
              "    90% {\n",
              "      border-color: transparent;\n",
              "      border-bottom-color: var(--fill-color);\n",
              "    }\n",
              "  }\n",
              "</style>\n",
              "\n",
              "  <script>\n",
              "    async function quickchart(key) {\n",
              "      const quickchartButtonEl =\n",
              "        document.querySelector('#' + key + ' button');\n",
              "      quickchartButtonEl.disabled = true;  // To prevent multiple clicks.\n",
              "      quickchartButtonEl.classList.add('colab-df-spinner');\n",
              "      try {\n",
              "        const charts = await google.colab.kernel.invokeFunction(\n",
              "            'suggestCharts', [key], {});\n",
              "      } catch (error) {\n",
              "        console.error('Error during call to suggestCharts:', error);\n",
              "      }\n",
              "      quickchartButtonEl.classList.remove('colab-df-spinner');\n",
              "      quickchartButtonEl.classList.add('colab-df-quickchart-complete');\n",
              "    }\n",
              "    (() => {\n",
              "      let quickchartButtonEl =\n",
              "        document.querySelector('#df-50ec9e04-f575-41fe-9c0a-0295dca2e152 button');\n",
              "      quickchartButtonEl.style.display =\n",
              "        google.colab.kernel.accessAllowed ? 'block' : 'none';\n",
              "    })();\n",
              "  </script>\n",
              "</div>\n",
              "    </div>\n",
              "  </div>\n"
            ]
          },
          "metadata": {},
          "execution_count": 11
        }
      ]
    },
    {
      "cell_type": "code",
      "source": [
        "data = dataset"
      ],
      "metadata": {
        "id": "xH4jy6k2_-fM"
      },
      "execution_count": null,
      "outputs": []
    },
    {
      "cell_type": "code",
      "source": [
        "dataset = data['Adj Close']\n",
        "\"\"\"the pdr get_data_yahoo function pulls yahoo finance data for all the stocks in ticker_list from start to mid.\n",
        "the returned columns are Open, High, Low, Adj Close, Close, and Volume.\"\"\"\n",
        "\n",
        "\n",
        "stocks_returns = np.log(dataset/dataset.shift(1))\n",
        "print(stocks_returns)\n",
        "\n",
        "\"\"\"\n",
        "This accounts for the inherent asymmetry that stocks can only go down 100% but can go up\n",
        "unlimited amounts. In other words, it rescales [-100, infinity] to [-infinity, infinity]\"\"\"\n",
        "corr_matrix = stocks_returns.corr()\n",
        "print(corr_matrix)\n",
        "\n",
        "\"\"\"\n",
        "The .corr() function calculates the correlation between two time series\n",
        "For this case, we'll take the pairwise correlations between every pair of\n",
        "stocks and use the highest pairs as candidates for cointegration.\n",
        "\"\"\""
      ],
      "metadata": {
        "colab": {
          "base_uri": "https://localhost:8080/",
          "height": 1000
        },
        "id": "h6CE5ZhUAeZ6",
        "outputId": "c7956ea5-4bd7-4b48-8ba9-d8ee230f9d29"
      },
      "execution_count": null,
      "outputs": [
        {
          "output_type": "stream",
          "name": "stdout",
          "text": [
            "                 AAL       ACN      ADBE       ADI       ADP      ADSK  \\\n",
            "Date                                                                     \n",
            "2022-06-06       NaN       NaN       NaN       NaN       NaN       NaN   \n",
            "2022-06-07  0.023645  0.005889  0.009179  0.010114  0.012540 -0.006879   \n",
            "2022-06-08 -0.032890 -0.012771 -0.010623 -0.011688 -0.010356 -0.016744   \n",
            "2022-06-09 -0.043017 -0.024112 -0.005659 -0.020820 -0.014955 -0.043488   \n",
            "2022-06-10 -0.050375 -0.032405 -0.079480 -0.029450 -0.019096 -0.041771   \n",
            "...              ...       ...       ...       ...       ...       ...   \n",
            "2023-05-26 -0.002088  0.039780  0.057803  0.023731  0.009837  0.006760   \n",
            "2023-05-30  0.018640  0.015784  0.004372  0.005085 -0.011169 -0.019598   \n",
            "2023-05-31  0.010884 -0.008171  0.001389  0.001464 -0.005392  0.022058   \n",
            "2023-06-01 -0.005427 -0.002356  0.021219  0.015192  0.013403  0.019420   \n",
            "2023-06-02  0.011498  0.020079  0.022292  0.001391  0.021993  0.004613   \n",
            "\n",
            "                 AEP      AKAM      AMAT       AMD  ...        WB      WDAY  \\\n",
            "Date                                                ...                       \n",
            "2022-06-06       NaN       NaN       NaN       NaN  ...       NaN       NaN   \n",
            "2022-06-07  0.003619  0.011066  0.005809 -0.003508  ... -0.001713  0.002452   \n",
            "2022-06-08 -0.018723 -0.009974 -0.028144 -0.032632  ...  0.055442  0.004948   \n",
            "2022-06-09 -0.022839 -0.009373 -0.047528 -0.030894  ... -0.035497 -0.039576   \n",
            "2022-06-10  0.000000 -0.024132 -0.051274 -0.041117  ... -0.064651 -0.030024   \n",
            "...              ...       ...       ...       ...  ...       ...       ...   \n",
            "2023-05-26 -0.003035  0.016813  0.041953  0.054019  ... -0.001307  0.095398   \n",
            "2023-05-30 -0.005608  0.016860  0.003741 -0.013952  ... -0.076778 -0.032886   \n",
            "2023-05-31  0.016130  0.000109 -0.024235 -0.058009  ... -0.013509  0.013822   \n",
            "2023-06-01 -0.013322 -0.007300  0.011413  0.010603  ...  0.014215  0.015540   \n",
            "2023-06-02  0.017285  0.022276 -0.001484 -0.013568  ...  0.023711 -0.008442   \n",
            "\n",
            "                 WFC       WMT       XOM       YUM         Z        ZI  \\\n",
            "Date                                                                     \n",
            "2022-06-06       NaN       NaN       NaN       NaN       NaN       NaN   \n",
            "2022-06-07  0.007727 -0.012085  0.044812  0.006929  0.011322 -0.005874   \n",
            "2022-06-08 -0.018647 -0.008711  0.011733  0.002493  0.003664 -0.007391   \n",
            "2022-06-09 -0.044910 -0.010521 -0.021845 -0.026828 -0.098852 -0.079754   \n",
            "2022-06-10 -0.062618  0.005603 -0.018443 -0.025117 -0.047123 -0.065575   \n",
            "...              ...       ...       ...       ...       ...       ...   \n",
            "2023-05-26  0.008036  0.001777 -0.006552  0.001580 -0.007535  0.017616   \n",
            "2023-05-30 -0.006082 -0.002462 -0.008899 -0.016069 -0.005354  0.051868   \n",
            "2023-05-31 -0.028966  0.005530 -0.018039  0.007018  0.019930  0.000000   \n",
            "2023-06-01  0.006260  0.003670  0.011482  0.027288  0.008732  0.046612   \n",
            "2023-06-02  0.029030  0.009520  0.022954  0.017093  0.014457  0.020627   \n",
            "\n",
            "                  ZM        ZS  \n",
            "Date                            \n",
            "2022-06-06       NaN       NaN  \n",
            "2022-06-07  0.035660  0.026388  \n",
            "2022-06-08  0.003644  0.016810  \n",
            "2022-06-09 -0.044814 -0.031599  \n",
            "2022-06-10 -0.012120 -0.043378  \n",
            "...              ...       ...  \n",
            "2023-05-26  0.017505  0.030549  \n",
            "2023-05-30 -0.008943  0.030906  \n",
            "2023-05-31  0.021837  0.005625  \n",
            "2023-06-01  0.010374 -0.002883  \n",
            "2023-06-02 -0.010970  0.052629  \n",
            "\n",
            "[250 rows x 157 columns]\n",
            "           AAL       ACN      ADBE       ADI       ADP      ADSK       AEP  \\\n",
            "AAL   1.000000  0.500059  0.422344  0.523633  0.428372  0.517120  0.237611   \n",
            "ACN   0.500059  1.000000  0.666644  0.677282  0.707157  0.691924  0.398613   \n",
            "ADBE  0.422344  0.666644  1.000000  0.613386  0.548519  0.700749  0.307156   \n",
            "ADI   0.523633  0.677282  0.613386  1.000000  0.633310  0.648747  0.374920   \n",
            "ADP   0.428372  0.707157  0.548519  0.633310  1.000000  0.621806  0.551778   \n",
            "...        ...       ...       ...       ...       ...       ...       ...   \n",
            "YUM   0.369668  0.473274  0.386767  0.479353  0.548214  0.453882  0.459178   \n",
            "Z     0.532484  0.498276  0.498091  0.557211  0.489118  0.622330  0.302349   \n",
            "ZI    0.395557  0.488864  0.499594  0.485769  0.434295  0.607316  0.176138   \n",
            "ZM    0.462575  0.548811  0.517053  0.588177  0.454698  0.649317  0.205450   \n",
            "ZS    0.360551  0.530125  0.501335  0.497581  0.430327  0.616286  0.162013   \n",
            "\n",
            "          AKAM      AMAT       AMD  ...        WB      WDAY       WFC  \\\n",
            "AAL   0.401010  0.530946  0.489378  ...  0.238307  0.364126  0.521953   \n",
            "ACN   0.633646  0.677441  0.610301  ...  0.295521  0.652216  0.516217   \n",
            "ADBE  0.553896  0.635849  0.619443  ...  0.218633  0.634648  0.378850   \n",
            "ADI   0.426516  0.809326  0.684418  ...  0.306375  0.574170  0.470379   \n",
            "ADP   0.528920  0.567896  0.498022  ...  0.195767  0.585179  0.483621   \n",
            "...        ...       ...       ...  ...       ...       ...       ...   \n",
            "YUM   0.430091  0.411927  0.390310  ...  0.205003  0.399737  0.387512   \n",
            "Z     0.429729  0.535289  0.547187  ...  0.395525  0.549281  0.383809   \n",
            "ZI    0.447479  0.463457  0.484374  ...  0.251344  0.587752  0.256417   \n",
            "ZM    0.435226  0.581572  0.558984  ...  0.365562  0.608864  0.341708   \n",
            "ZS    0.461908  0.487332  0.532765  ...  0.282177  0.583304  0.313483   \n",
            "\n",
            "           WMT       XOM       YUM         Z        ZI        ZM        ZS  \n",
            "AAL   0.201026  0.276790  0.369668  0.532484  0.395557  0.462575  0.360551  \n",
            "ACN   0.375117  0.323478  0.473274  0.498276  0.488864  0.548811  0.530125  \n",
            "ADBE  0.299367  0.295274  0.386767  0.498091  0.499594  0.517053  0.501335  \n",
            "ADI   0.350137  0.335130  0.479353  0.557211  0.485769  0.588177  0.497581  \n",
            "ADP   0.454644  0.352993  0.548214  0.489118  0.434295  0.454698  0.430327  \n",
            "...        ...       ...       ...       ...       ...       ...       ...  \n",
            "YUM   0.374714  0.295092  1.000000  0.422251  0.274872  0.342149  0.268633  \n",
            "Z     0.290437  0.221321  0.422251  1.000000  0.501529  0.597955  0.485302  \n",
            "ZI    0.214578  0.176173  0.274872  0.501529  1.000000  0.511721  0.606233  \n",
            "ZM    0.293661  0.142478  0.342149  0.597955  0.511721  1.000000  0.582227  \n",
            "ZS    0.320955  0.214350  0.268633  0.485302  0.606233  0.582227  1.000000  \n",
            "\n",
            "[157 rows x 157 columns]\n"
          ]
        },
        {
          "output_type": "execute_result",
          "data": {
            "text/plain": [
              "\"\\nThe .corr() function calculates the correlation between two time series\\nFor this case, we'll take the pairwise correlations between every pair of\\nstocks and use the highest pairs as candidates for cointegration.\\n\""
            ],
            "application/vnd.google.colaboratory.intrinsic+json": {
              "type": "string"
            }
          },
          "metadata": {},
          "execution_count": 10
        }
      ]
    },
    {
      "cell_type": "code",
      "source": [
        "processed_corr = corr_matrix.mask(np.tril(np.ones(corr_matrix.shape)).astype(bool))\n",
        "#Set diagonal elements and lower triangular elements to nans\n",
        "#Serves to remove duplicates and 1-correlations between an element and itself\n",
        "s =  processed_corr.unstack()\n",
        "#Reshapes the correlation matrix into a list of ((row, column), correlation value) pairs\n",
        "so = s.sort_values(kind=\"quicksort\", ascending = False)\n",
        "#Sort the pairs by correlation value\n",
        "display(so[:30])"
      ],
      "metadata": {
        "colab": {
          "base_uri": "https://localhost:8080/",
          "height": 555
        },
        "id": "w9ipnAcOAkGU",
        "outputId": "1b148302-eae1-4540-809a-d0299c373f07"
      },
      "execution_count": null,
      "outputs": [
        {
          "output_type": "display_data",
          "data": {
            "text/plain": [
              "LRCX  AMAT    0.934561\n",
              "V     MA      0.905582\n",
              "SLB   HAL     0.901445\n",
              "XOM   CVX     0.900646\n",
              "MRO   COP     0.896298\n",
              "MCHP  ADI     0.895358\n",
              "UAL   AAL     0.891089\n",
              "TMO   DHR     0.879616\n",
              "XOM   COP     0.875018\n",
              "DAL   AAL     0.874933\n",
              "RCL   CCL     0.873982\n",
              "XOM   MRO     0.871469\n",
              "MRO   HAL     0.868466\n",
              "UAL   DAL     0.868274\n",
              "CVX   COP     0.866636\n",
              "TXN   MCHP    0.866498\n",
              "MCHP  AMAT    0.859095\n",
              "MRO   CVX     0.859056\n",
              "WFC   BAC     0.856154\n",
              "JPM   BAC     0.853430\n",
              "GM    F       0.850082\n",
              "TXN   ADI     0.846174\n",
              "XOM   HAL     0.845878\n",
              "TXN   AMAT    0.844684\n",
              "NVDA  AMD     0.839807\n",
              "C     BAC     0.834720\n",
              "HAL   COP     0.831841\n",
              "SLB   MRO     0.828481\n",
              "HAL   CVX     0.826548\n",
              "TXN   LRCX    0.818699\n",
              "dtype: float64"
            ]
          },
          "metadata": {}
        }
      ]
    },
    {
      "cell_type": "code",
      "source": [
        "print(s)"
      ],
      "metadata": {
        "colab": {
          "base_uri": "https://localhost:8080/"
        },
        "id": "QwsZm8oSSGS-",
        "outputId": "6200aec3-bb4f-4880-b22b-3e6af6b876d3"
      },
      "execution_count": null,
      "outputs": [
        {
          "output_type": "stream",
          "name": "stdout",
          "text": [
            "AAL  AAL          NaN\n",
            "     ACN          NaN\n",
            "     ADBE         NaN\n",
            "     ADI          NaN\n",
            "     ADP          NaN\n",
            "               ...   \n",
            "ZS   YUM     0.268633\n",
            "     Z       0.485302\n",
            "     ZI      0.606233\n",
            "     ZM      0.582227\n",
            "     ZS           NaN\n",
            "Length: 24649, dtype: float64\n"
          ]
        }
      ]
    },
    {
      "cell_type": "markdown",
      "source": [
        "Based on the Results, LRCX and AMAT have the highest correlation."
      ],
      "metadata": {
        "id": "g5N0NgTSF9m5"
      }
    },
    {
      "cell_type": "code",
      "source": [
        "correlations_with_AMAT = processed_corr.loc['AMAT']"
      ],
      "metadata": {
        "id": "Wi5NZfJHRqx_"
      },
      "execution_count": null,
      "outputs": []
    },
    {
      "cell_type": "code",
      "source": [
        "correlations_with_AMAT.sort_values(inplace = True, ascending = False)\n",
        "print(correlations_with_AMAT[:15])"
      ],
      "metadata": {
        "colab": {
          "base_uri": "https://localhost:8080/"
        },
        "id": "wDB6JZjCSjnA",
        "outputId": "ffa32348-9891-4a08-a36d-9a5f8c9e533b"
      },
      "execution_count": null,
      "outputs": [
        {
          "output_type": "stream",
          "name": "stdout",
          "text": [
            "LRCX    0.934561\n",
            "MCHP    0.859095\n",
            "TXN     0.844684\n",
            "AVGO    0.800510\n",
            "AMD     0.792401\n",
            "NVDA    0.791925\n",
            "QCOM    0.783994\n",
            "MRVL    0.772945\n",
            "HPQ     0.751852\n",
            "MU      0.748361\n",
            "SNPS    0.719100\n",
            "MA      0.707196\n",
            "INTC    0.665357\n",
            "MSFT    0.654514\n",
            "INTU    0.646201\n",
            "Name: AMAT, dtype: float64\n"
          ]
        }
      ]
    },
    {
      "cell_type": "code",
      "source": [
        "stocks = yf.download(['LRCX', 'TXN', 'AVGO', 'NVDA', 'AMAT'], start, mid)['Adj Close']\n",
        "# Pull data for closes\n",
        "stocks['LRCX_1d_return'] = np.log(stocks['LRCX']/stocks['LRCX'].shift(1))\n",
        "stocks['AMAT_1d_return'] = np.log(stocks['AMAT']/stocks['AMAT'].shift(1))\n",
        "# Calculate daily returns"
      ],
      "metadata": {
        "colab": {
          "base_uri": "https://localhost:8080/"
        },
        "id": "lzWmrC6uAm2A",
        "outputId": "3a9fbef1-4942-4b1c-bc62-bbdc5c0cc0ce"
      },
      "execution_count": null,
      "outputs": [
        {
          "output_type": "stream",
          "name": "stdout",
          "text": [
            "[*********************100%%**********************]  5 of 5 completed\n"
          ]
        }
      ]
    },
    {
      "cell_type": "code",
      "source": [
        "print(stocks)"
      ],
      "metadata": {
        "colab": {
          "base_uri": "https://localhost:8080/"
        },
        "id": "Dzq3vZ0GHDZX",
        "outputId": "fa8b3ea1-ab5d-4852-c237-52c8e5b22cb1"
      },
      "execution_count": null,
      "outputs": [
        {
          "output_type": "stream",
          "name": "stdout",
          "text": [
            "                  AMAT        AVGO        LRCX        NVDA         TXN  \\\n",
            "Date                                                                     \n",
            "2022-06-06  113.377174  537.698730  505.865143  187.649734  160.313400   \n",
            "2022-06-07  114.037712  548.965698  512.900635  189.048141  162.310638   \n",
            "2022-06-08  110.873024  541.655579  501.818298  186.310638  158.029480   \n",
            "2022-06-09  105.726669  532.898865  483.514404  180.316086  154.407730   \n",
            "2022-06-10  100.442322  518.575745  464.857758  169.585846  150.776382   \n",
            "...                ...         ...         ...         ...         ...   \n",
            "2023-05-26  135.474426  804.043884  624.635010  389.387634  173.469864   \n",
            "2023-05-30  135.982239  794.754333  626.335205  401.035431  173.725708   \n",
            "2023-05-31  132.726303  799.325012  613.151489  378.269684  171.098419   \n",
            "2023-06-01  134.249725  781.507385  616.293274  397.626129  172.997543   \n",
            "2023-06-02  134.050598  803.321777  610.138855  393.196899  172.426819   \n",
            "\n",
            "            LRCX_1d_return  AMAT_1d_return  \n",
            "Date                                        \n",
            "2022-06-06             NaN             NaN  \n",
            "2022-06-07        0.013812        0.005809  \n",
            "2022-06-08       -0.021844       -0.028144  \n",
            "2022-06-09       -0.037157       -0.047528  \n",
            "2022-06-10       -0.039350       -0.051274  \n",
            "...                    ...             ...  \n",
            "2023-05-26        0.042515        0.041953  \n",
            "2023-05-30        0.002718        0.003741  \n",
            "2023-05-31       -0.021274       -0.024235  \n",
            "2023-06-01        0.005111        0.011413  \n",
            "2023-06-02       -0.010036       -0.001484  \n",
            "\n",
            "[250 rows x 7 columns]\n"
          ]
        }
      ]
    },
    {
      "cell_type": "code",
      "source": [
        "import numpy as np\n",
        "\n",
        "stocks.dropna(inplace = True)\n"
      ],
      "metadata": {
        "id": "dBE3FvK0GI89"
      },
      "execution_count": null,
      "outputs": []
    },
    {
      "cell_type": "code",
      "source": [
        "from sklearn.linear_model import LinearRegression\n",
        "from sklearn.metrics import mean_squared_error\n",
        "X = stocks[['LRCX']]\n",
        "y = stocks[['AMAT']]\n",
        "model = LinearRegression()\n",
        "model.fit(X, y)\n",
        "print(model.coef_, model.intercept_)\n",
        "predicted_Y = model.predict(X)\n",
        "mse = mean_squared_error(y, predicted_Y)\n",
        "print(f\"Mean Squared Error: {mse}\")\n",
        "#Simple baseline linear regression"
      ],
      "metadata": {
        "colab": {
          "base_uri": "https://localhost:8080/"
        },
        "id": "FhnS-oDROKUQ",
        "outputId": "16d2c4dc-f785-4ccc-f491-2cfc0598eab2"
      },
      "execution_count": null,
      "outputs": [
        {
          "output_type": "stream",
          "name": "stdout",
          "text": [
            "[[0.21590049]] [4.32435139]\n",
            "Mean Squared Error: 16.957509318646803\n"
          ]
        }
      ]
    },
    {
      "cell_type": "code",
      "source": [
        "from sklearn.metrics import r2_score\n",
        "r2 = model.score(X, y)\n",
        "print(r2)"
      ],
      "metadata": {
        "colab": {
          "base_uri": "https://localhost:8080/"
        },
        "id": "YHq0Ittv2343",
        "outputId": "0661d5fd-6751-4790-e9bb-64166cea8229"
      },
      "execution_count": null,
      "outputs": [
        {
          "output_type": "stream",
          "name": "stdout",
          "text": [
            "0.9039137465939897\n"
          ]
        }
      ]
    },
    {
      "cell_type": "code",
      "source": [
        "from sklearn.linear_model import LinearRegression\n",
        "from sklearn.metrics import mean_squared_error\n",
        "X_train = stocks[['LRCX', 'TXN', 'AVGO', 'NVDA']]\n",
        "y_train = stocks[['AMAT']]\n",
        "model2 = LinearRegression()\n",
        "model2.fit(X, y)\n",
        "print(model2.coef_, model2.intercept_)\n",
        "predicted_Y = model2.predict(X)\n",
        "mse = mean_squared_error(y, predicted_Y)\n",
        "print(f\"Mean Squared Error: {mse}\")\n",
        "#Simple baseline linear regression"
      ],
      "metadata": {
        "colab": {
          "base_uri": "https://localhost:8080/"
        },
        "id": "XT8d1VB6QseG",
        "outputId": "b3ff9cad-67c2-4105-a123-010b3c72e44d"
      },
      "execution_count": null,
      "outputs": [
        {
          "output_type": "stream",
          "name": "stdout",
          "text": [
            "[[ 0.10787828  0.26691432  0.07618879 -0.01038333]] [-29.11746782]\n",
            "Mean Squared Error: 7.515950254153686\n"
          ]
        }
      ]
    },
    {
      "cell_type": "code",
      "source": [
        "end_stocks = yf.download(['LRCX', 'TXN', 'AVGO', 'NVDA', 'AMAT'], mid, end)['Adj Close']\n",
        "X_test = end_stocks[['LRCX', 'TXN', 'AVGO', 'NVDA']]\n",
        "y_test = end_stocks[['AMAT']]"
      ],
      "metadata": {
        "id": "_6vDOs1bUKuL",
        "colab": {
          "base_uri": "https://localhost:8080/"
        },
        "outputId": "d3a10a7c-db59-49c9-c9c2-63e8672d5519"
      },
      "execution_count": null,
      "outputs": [
        {
          "output_type": "stream",
          "name": "stdout",
          "text": [
            "[*********************100%%**********************]  5 of 5 completed\n"
          ]
        }
      ]
    },
    {
      "cell_type": "code",
      "source": [
        "pred_end_y = model.predict(X_test[['LRCX']])\n",
        "mse = mean_squared_error(y_test, pred_end_y)\n",
        "print(\"Mean Squared Error of simple linear regression is \" + str(mse))"
      ],
      "metadata": {
        "colab": {
          "base_uri": "https://localhost:8080/"
        },
        "id": "_szmGa4VWAdc",
        "outputId": "3ec74532-1349-4a72-9a62-7466ea3dcdcb"
      },
      "execution_count": null,
      "outputs": [
        {
          "output_type": "stream",
          "name": "stdout",
          "text": [
            "Mean Squared Error of simple linear regression is 14.986657995308635\n"
          ]
        }
      ]
    },
    {
      "cell_type": "code",
      "source": [
        "r2 = model.score(X_test[['LRCX']], y_test)\n",
        "print(r2)"
      ],
      "metadata": {
        "colab": {
          "base_uri": "https://localhost:8080/"
        },
        "id": "TE3ne01M3iDL",
        "outputId": "42e5ffa9-8f2e-4875-d80e-bade5ff4370e"
      },
      "execution_count": null,
      "outputs": [
        {
          "output_type": "stream",
          "name": "stdout",
          "text": [
            "0.5906314194769706\n"
          ]
        }
      ]
    },
    {
      "cell_type": "code",
      "source": [
        "pred_end_y = model2.predict(X_test)\n",
        "mse = mean_squared_error(y_test, pred_end_y)\n",
        "print(\"Mean Squared Error of linear regression with multiple variables is \" + str(mse))"
      ],
      "metadata": {
        "colab": {
          "base_uri": "https://localhost:8080/"
        },
        "id": "LXSgeBTUWlmP",
        "outputId": "532b55b2-da96-40df-ab48-dbb20f343d40"
      },
      "execution_count": null,
      "outputs": [
        {
          "output_type": "stream",
          "name": "stdout",
          "text": [
            "Mean Squared Error of linear regression with multiple variables is 27.341075897922654\n"
          ]
        }
      ]
    },
    {
      "cell_type": "code",
      "source": [
        "r2 = model2.score(end_stocks[['LRCX', 'TXN', 'AVGO', 'NVDA']], end_stocks['AMAT'])\n",
        "print(r2)"
      ],
      "metadata": {
        "colab": {
          "base_uri": "https://localhost:8080/"
        },
        "id": "AFwtXLt-3zZ3",
        "outputId": "bd2f3eaf-dbc7-4d55-ff7b-b6a57dc1c3c1"
      },
      "execution_count": null,
      "outputs": [
        {
          "output_type": "stream",
          "name": "stdout",
          "text": [
            "0.25316388524988775\n"
          ]
        }
      ]
    },
    {
      "cell_type": "code",
      "source": [
        "import numpy as np\n",
        "import pandas as pd\n",
        "from sklearn.linear_model import Lasso\n",
        "from sklearn.model_selection import train_test_split\n",
        "from sklearn.preprocessing import StandardScaler\n",
        "alpha = 0.75  # Regularization strength (adjust as needed)\n",
        "scaler = StandardScaler()\n",
        "X_train_scaled = scaler.fit_transform(X_train)\n",
        "X_test_scaled = scaler.transform(X_test)\n",
        "lasso_model = Lasso(alpha=alpha)\n",
        "lasso_model.fit(X_train_scaled, y_train)\n"
      ],
      "metadata": {
        "colab": {
          "base_uri": "https://localhost:8080/",
          "height": 74
        },
        "id": "PTJnB6VuKqoa",
        "outputId": "9c5bf992-2d19-46dd-987e-d83f6fa38ecb"
      },
      "execution_count": null,
      "outputs": [
        {
          "output_type": "execute_result",
          "data": {
            "text/plain": [
              "Lasso(alpha=0.75)"
            ],
            "text/html": [
              "<style>#sk-container-id-9 {color: black;background-color: white;}#sk-container-id-9 pre{padding: 0;}#sk-container-id-9 div.sk-toggleable {background-color: white;}#sk-container-id-9 label.sk-toggleable__label {cursor: pointer;display: block;width: 100%;margin-bottom: 0;padding: 0.3em;box-sizing: border-box;text-align: center;}#sk-container-id-9 label.sk-toggleable__label-arrow:before {content: \"▸\";float: left;margin-right: 0.25em;color: #696969;}#sk-container-id-9 label.sk-toggleable__label-arrow:hover:before {color: black;}#sk-container-id-9 div.sk-estimator:hover label.sk-toggleable__label-arrow:before {color: black;}#sk-container-id-9 div.sk-toggleable__content {max-height: 0;max-width: 0;overflow: hidden;text-align: left;background-color: #f0f8ff;}#sk-container-id-9 div.sk-toggleable__content pre {margin: 0.2em;color: black;border-radius: 0.25em;background-color: #f0f8ff;}#sk-container-id-9 input.sk-toggleable__control:checked~div.sk-toggleable__content {max-height: 200px;max-width: 100%;overflow: auto;}#sk-container-id-9 input.sk-toggleable__control:checked~label.sk-toggleable__label-arrow:before {content: \"▾\";}#sk-container-id-9 div.sk-estimator input.sk-toggleable__control:checked~label.sk-toggleable__label {background-color: #d4ebff;}#sk-container-id-9 div.sk-label input.sk-toggleable__control:checked~label.sk-toggleable__label {background-color: #d4ebff;}#sk-container-id-9 input.sk-hidden--visually {border: 0;clip: rect(1px 1px 1px 1px);clip: rect(1px, 1px, 1px, 1px);height: 1px;margin: -1px;overflow: hidden;padding: 0;position: absolute;width: 1px;}#sk-container-id-9 div.sk-estimator {font-family: monospace;background-color: #f0f8ff;border: 1px dotted black;border-radius: 0.25em;box-sizing: border-box;margin-bottom: 0.5em;}#sk-container-id-9 div.sk-estimator:hover {background-color: #d4ebff;}#sk-container-id-9 div.sk-parallel-item::after {content: \"\";width: 100%;border-bottom: 1px solid gray;flex-grow: 1;}#sk-container-id-9 div.sk-label:hover label.sk-toggleable__label {background-color: #d4ebff;}#sk-container-id-9 div.sk-serial::before {content: \"\";position: absolute;border-left: 1px solid gray;box-sizing: border-box;top: 0;bottom: 0;left: 50%;z-index: 0;}#sk-container-id-9 div.sk-serial {display: flex;flex-direction: column;align-items: center;background-color: white;padding-right: 0.2em;padding-left: 0.2em;position: relative;}#sk-container-id-9 div.sk-item {position: relative;z-index: 1;}#sk-container-id-9 div.sk-parallel {display: flex;align-items: stretch;justify-content: center;background-color: white;position: relative;}#sk-container-id-9 div.sk-item::before, #sk-container-id-9 div.sk-parallel-item::before {content: \"\";position: absolute;border-left: 1px solid gray;box-sizing: border-box;top: 0;bottom: 0;left: 50%;z-index: -1;}#sk-container-id-9 div.sk-parallel-item {display: flex;flex-direction: column;z-index: 1;position: relative;background-color: white;}#sk-container-id-9 div.sk-parallel-item:first-child::after {align-self: flex-end;width: 50%;}#sk-container-id-9 div.sk-parallel-item:last-child::after {align-self: flex-start;width: 50%;}#sk-container-id-9 div.sk-parallel-item:only-child::after {width: 0;}#sk-container-id-9 div.sk-dashed-wrapped {border: 1px dashed gray;margin: 0 0.4em 0.5em 0.4em;box-sizing: border-box;padding-bottom: 0.4em;background-color: white;}#sk-container-id-9 div.sk-label label {font-family: monospace;font-weight: bold;display: inline-block;line-height: 1.2em;}#sk-container-id-9 div.sk-label-container {text-align: center;}#sk-container-id-9 div.sk-container {/* jupyter's `normalize.less` sets `[hidden] { display: none; }` but bootstrap.min.css set `[hidden] { display: none !important; }` so we also need the `!important` here to be able to override the default hidden behavior on the sphinx rendered scikit-learn.org. See: https://github.com/scikit-learn/scikit-learn/issues/21755 */display: inline-block !important;position: relative;}#sk-container-id-9 div.sk-text-repr-fallback {display: none;}</style><div id=\"sk-container-id-9\" class=\"sk-top-container\"><div class=\"sk-text-repr-fallback\"><pre>Lasso(alpha=0.75)</pre><b>In a Jupyter environment, please rerun this cell to show the HTML representation or trust the notebook. <br />On GitHub, the HTML representation is unable to render, please try loading this page with nbviewer.org.</b></div><div class=\"sk-container\" hidden><div class=\"sk-item\"><div class=\"sk-estimator sk-toggleable\"><input class=\"sk-toggleable__control sk-hidden--visually\" id=\"sk-estimator-id-9\" type=\"checkbox\" checked><label for=\"sk-estimator-id-9\" class=\"sk-toggleable__label sk-toggleable__label-arrow\">Lasso</label><div class=\"sk-toggleable__content\"><pre>Lasso(alpha=0.75)</pre></div></div></div></div></div>"
            ]
          },
          "metadata": {},
          "execution_count": 62
        }
      ]
    },
    {
      "cell_type": "code",
      "source": [
        "train_score = lasso_model.score(X_train_scaled, y_train)\n",
        "test_score = lasso_model.score(X_test_scaled, y_test)\n",
        "\n",
        "print(f'Training R^2 Score: {train_score:.4f}')\n",
        "print(f'Testing R^2 Score: {test_score:.4f}')"
      ],
      "metadata": {
        "colab": {
          "base_uri": "https://localhost:8080/"
        },
        "id": "ncAJ0J5GK-lK",
        "outputId": "969d7c19-46ab-473d-9bba-62a0237293e4"
      },
      "execution_count": null,
      "outputs": [
        {
          "output_type": "stream",
          "name": "stdout",
          "text": [
            "Training R^2 Score: 0.9533\n",
            "Testing R^2 Score: 0.6516\n"
          ]
        }
      ]
    },
    {
      "cell_type": "code",
      "source": [
        "best_test_score = 0.0\n",
        "for alpha in np.arange(1.0, 2.0, 0.05):\n",
        "  lasso_model = Lasso(alpha=alpha)\n",
        "  lasso_model.fit(X_train_scaled, y_train)\n",
        "  train_score = lasso_model.score(X_train_scaled, y_train)\n",
        "  test_score = lasso_model.score(X_test_scaled, y_test)\n",
        "  if test_score > best_test_score:\n",
        "    print(\"Alpha is {}\".format(alpha))\n",
        "    print(f'Training R^2 Score: {train_score:.4f}')\n",
        "    print(f'Testing R^2 Score: {test_score:.4f}')\n",
        "    best_test_score = test_score"
      ],
      "metadata": {
        "colab": {
          "base_uri": "https://localhost:8080/"
        },
        "id": "n1-lAd2IM-lv",
        "outputId": "4fee59a3-8dc6-440e-9624-5815f9a07eb0"
      },
      "execution_count": null,
      "outputs": [
        {
          "output_type": "stream",
          "name": "stdout",
          "text": [
            "Alpha is 1.0\n",
            "Training R^2 Score: 0.9503\n",
            "Testing R^2 Score: 0.7170\n",
            "Alpha is 1.05\n",
            "Training R^2 Score: 0.9496\n",
            "Testing R^2 Score: 0.7272\n",
            "Alpha is 1.1\n",
            "Training R^2 Score: 0.9489\n",
            "Testing R^2 Score: 0.7364\n",
            "Alpha is 1.1500000000000001\n",
            "Training R^2 Score: 0.9481\n",
            "Testing R^2 Score: 0.7447\n",
            "Alpha is 1.2000000000000002\n",
            "Training R^2 Score: 0.9473\n",
            "Testing R^2 Score: 0.7520\n",
            "Alpha is 1.2500000000000002\n",
            "Training R^2 Score: 0.9464\n",
            "Testing R^2 Score: 0.7584\n",
            "Alpha is 1.3000000000000003\n",
            "Training R^2 Score: 0.9455\n",
            "Testing R^2 Score: 0.7638\n",
            "Alpha is 1.3500000000000003\n",
            "Training R^2 Score: 0.9446\n",
            "Testing R^2 Score: 0.7682\n",
            "Alpha is 1.4000000000000004\n",
            "Training R^2 Score: 0.9437\n",
            "Testing R^2 Score: 0.7717\n",
            "Alpha is 1.4500000000000004\n",
            "Training R^2 Score: 0.9427\n",
            "Testing R^2 Score: 0.7742\n",
            "Alpha is 1.5000000000000004\n",
            "Training R^2 Score: 0.9417\n",
            "Testing R^2 Score: 0.7758\n",
            "Alpha is 1.5500000000000005\n",
            "Training R^2 Score: 0.9406\n",
            "Testing R^2 Score: 0.7764\n"
          ]
        }
      ]
    },
    {
      "cell_type": "code",
      "source": [
        "alpha = 1.55\n",
        "lasso_model = Lasso(alpha=alpha)\n",
        "lasso_model.fit(X_train_scaled, y_train)\n",
        "train_score = lasso_model.score(X_train_scaled, y_train)\n",
        "test_score = lasso_model.score(X_test_scaled, y_test)\n",
        "print(f'Training R^2 Score: {train_score:.4f}')\n",
        "print(f'Testing R^2 Score: {test_score:.4f}')"
      ],
      "metadata": {
        "colab": {
          "base_uri": "https://localhost:8080/"
        },
        "id": "3VQKPp5VPBDC",
        "outputId": "659fe365-a626-49bb-e093-b3bb14c56c5f"
      },
      "execution_count": null,
      "outputs": [
        {
          "output_type": "stream",
          "name": "stdout",
          "text": [
            "Training R^2 Score: 0.9406\n",
            "Testing R^2 Score: 0.7764\n"
          ]
        }
      ]
    },
    {
      "cell_type": "code",
      "source": [
        "coeffs = lasso_model.coef_\n",
        "intercept = lasso_model.intercept_\n",
        "print(coeffs)\n",
        "print(intercept)"
      ],
      "metadata": {
        "colab": {
          "base_uri": "https://localhost:8080/"
        },
        "id": "CPXmgFlIPhQV",
        "outputId": "4d08bb9f-2821-4d88-880c-fb290424f3cc"
      },
      "execution_count": null,
      "outputs": [
        {
          "output_type": "stream",
          "name": "stdout",
          "text": [
            "[5.82285727 1.82429527 4.43370863 0.        ]\n",
            "[103.83096234]\n"
          ]
        }
      ]
    },
    {
      "cell_type": "code",
      "source": [
        "pred_end_y = lasso_model.predict(X_test_scaled)\n",
        "mse = mean_squared_error(y_test, pred_end_y)\n",
        "print(\"Mean Squared Error of test variables \" + str(mse))"
      ],
      "metadata": {
        "colab": {
          "base_uri": "https://localhost:8080/"
        },
        "id": "mR86y22GR8Ms",
        "outputId": "48331274-aa1f-4e68-fcf4-8812452bf0fb"
      },
      "execution_count": null,
      "outputs": [
        {
          "output_type": "stream",
          "name": "stdout",
          "text": [
            "Mean Squared Error of test variables 8.185842306179227\n"
          ]
        }
      ]
    },
    {
      "cell_type": "code",
      "source": [
        "from sklearn.linear_model import ElasticNet\n",
        "from sklearn.model_selection import train_test_split\n",
        "from sklearn.metrics import mean_squared_error\n",
        "import numpy as np"
      ],
      "metadata": {
        "id": "zx0oKlwyQJQ8"
      },
      "execution_count": null,
      "outputs": []
    },
    {
      "cell_type": "code",
      "source": [
        "best_test_score = 0.0\n",
        "for alpha in np.arange(0.0, 2.0, 0.1):\n",
        "  for l1_ratio in np.arange(0.0, 1.0, 0.05):\n",
        "    elastic_net = ElasticNet(alpha=alpha, l1_ratio=l1_ratio)\n",
        "    elastic_net.fit(X_train_scaled, y_train)\n",
        "    train_score = elastic_net.score(X_train_scaled, y_train)\n",
        "    test_score = elastic_net.score(X_test_scaled, y_test)\n",
        "    if test_score > best_test_score:\n",
        "      print(\"Alpha is {} l1_ratio is {}\".format(alpha, l1_ratio))\n",
        "      print(f'Training R^2 Score: {train_score:.4f}')\n",
        "      print(f'Testing R^2 Score: {test_score:.4f}')\n",
        "      best_test_score = test_score\n"
      ],
      "metadata": {
        "colab": {
          "base_uri": "https://localhost:8080/"
        },
        "id": "Bsl0ZK63QJaZ",
        "outputId": "b54bfd37-4fa2-45d1-9796-2a2489e57b23"
      },
      "execution_count": null,
      "outputs": [
        {
          "output_type": "stream",
          "name": "stderr",
          "text": [
            "<ipython-input-83-b1272d22dd1a>:5: UserWarning: With alpha=0, this algorithm does not converge well. You are advised to use the LinearRegression estimator\n",
            "  elastic_net.fit(X_train_scaled, y_train)\n",
            "/usr/local/lib/python3.10/dist-packages/sklearn/linear_model/_coordinate_descent.py:631: UserWarning: Coordinate descent with no regularization may lead to unexpected results and is discouraged.\n",
            "  model = cd_fast.enet_coordinate_descent(\n",
            "/usr/local/lib/python3.10/dist-packages/sklearn/linear_model/_coordinate_descent.py:631: ConvergenceWarning: Objective did not converge. You might want to increase the number of iterations, check the scale of the features or consider increasing regularisation. Duality gap: 9.357e+02, tolerance: 4.394e+00 Linear regression models with null weight for the l1 regularization term are more efficiently fitted using one of the solvers implemented in sklearn.linear_model.Ridge/RidgeCV instead.\n",
            "  model = cd_fast.enet_coordinate_descent(\n",
            "<ipython-input-83-b1272d22dd1a>:5: UserWarning: With alpha=0, this algorithm does not converge well. You are advised to use the LinearRegression estimator\n",
            "  elastic_net.fit(X_train_scaled, y_train)\n",
            "/usr/local/lib/python3.10/dist-packages/sklearn/linear_model/_coordinate_descent.py:631: UserWarning: Coordinate descent with no regularization may lead to unexpected results and is discouraged.\n",
            "  model = cd_fast.enet_coordinate_descent(\n",
            "/usr/local/lib/python3.10/dist-packages/sklearn/linear_model/_coordinate_descent.py:631: ConvergenceWarning: Objective did not converge. You might want to increase the number of iterations, check the scale of the features or consider increasing regularisation. Duality gap: 9.357e+02, tolerance: 4.394e+00 Linear regression models with null weight for the l1 regularization term are more efficiently fitted using one of the solvers implemented in sklearn.linear_model.Ridge/RidgeCV instead.\n",
            "  model = cd_fast.enet_coordinate_descent(\n",
            "<ipython-input-83-b1272d22dd1a>:5: UserWarning: With alpha=0, this algorithm does not converge well. You are advised to use the LinearRegression estimator\n",
            "  elastic_net.fit(X_train_scaled, y_train)\n",
            "/usr/local/lib/python3.10/dist-packages/sklearn/linear_model/_coordinate_descent.py:631: UserWarning: Coordinate descent with no regularization may lead to unexpected results and is discouraged.\n",
            "  model = cd_fast.enet_coordinate_descent(\n",
            "/usr/local/lib/python3.10/dist-packages/sklearn/linear_model/_coordinate_descent.py:631: ConvergenceWarning: Objective did not converge. You might want to increase the number of iterations, check the scale of the features or consider increasing regularisation. Duality gap: 9.357e+02, tolerance: 4.394e+00 Linear regression models with null weight for the l1 regularization term are more efficiently fitted using one of the solvers implemented in sklearn.linear_model.Ridge/RidgeCV instead.\n",
            "  model = cd_fast.enet_coordinate_descent(\n",
            "<ipython-input-83-b1272d22dd1a>:5: UserWarning: With alpha=0, this algorithm does not converge well. You are advised to use the LinearRegression estimator\n",
            "  elastic_net.fit(X_train_scaled, y_train)\n",
            "/usr/local/lib/python3.10/dist-packages/sklearn/linear_model/_coordinate_descent.py:631: UserWarning: Coordinate descent with no regularization may lead to unexpected results and is discouraged.\n",
            "  model = cd_fast.enet_coordinate_descent(\n",
            "/usr/local/lib/python3.10/dist-packages/sklearn/linear_model/_coordinate_descent.py:631: ConvergenceWarning: Objective did not converge. You might want to increase the number of iterations, check the scale of the features or consider increasing regularisation. Duality gap: 9.357e+02, tolerance: 4.394e+00 Linear regression models with null weight for the l1 regularization term are more efficiently fitted using one of the solvers implemented in sklearn.linear_model.Ridge/RidgeCV instead.\n",
            "  model = cd_fast.enet_coordinate_descent(\n",
            "<ipython-input-83-b1272d22dd1a>:5: UserWarning: With alpha=0, this algorithm does not converge well. You are advised to use the LinearRegression estimator\n",
            "  elastic_net.fit(X_train_scaled, y_train)\n",
            "/usr/local/lib/python3.10/dist-packages/sklearn/linear_model/_coordinate_descent.py:631: UserWarning: Coordinate descent with no regularization may lead to unexpected results and is discouraged.\n",
            "  model = cd_fast.enet_coordinate_descent(\n",
            "/usr/local/lib/python3.10/dist-packages/sklearn/linear_model/_coordinate_descent.py:631: ConvergenceWarning: Objective did not converge. You might want to increase the number of iterations, check the scale of the features or consider increasing regularisation. Duality gap: 9.357e+02, tolerance: 4.394e+00 Linear regression models with null weight for the l1 regularization term are more efficiently fitted using one of the solvers implemented in sklearn.linear_model.Ridge/RidgeCV instead.\n",
            "  model = cd_fast.enet_coordinate_descent(\n",
            "<ipython-input-83-b1272d22dd1a>:5: UserWarning: With alpha=0, this algorithm does not converge well. You are advised to use the LinearRegression estimator\n",
            "  elastic_net.fit(X_train_scaled, y_train)\n",
            "/usr/local/lib/python3.10/dist-packages/sklearn/linear_model/_coordinate_descent.py:631: UserWarning: Coordinate descent with no regularization may lead to unexpected results and is discouraged.\n",
            "  model = cd_fast.enet_coordinate_descent(\n",
            "/usr/local/lib/python3.10/dist-packages/sklearn/linear_model/_coordinate_descent.py:631: ConvergenceWarning: Objective did not converge. You might want to increase the number of iterations, check the scale of the features or consider increasing regularisation. Duality gap: 9.357e+02, tolerance: 4.394e+00 Linear regression models with null weight for the l1 regularization term are more efficiently fitted using one of the solvers implemented in sklearn.linear_model.Ridge/RidgeCV instead.\n",
            "  model = cd_fast.enet_coordinate_descent(\n",
            "<ipython-input-83-b1272d22dd1a>:5: UserWarning: With alpha=0, this algorithm does not converge well. You are advised to use the LinearRegression estimator\n",
            "  elastic_net.fit(X_train_scaled, y_train)\n",
            "/usr/local/lib/python3.10/dist-packages/sklearn/linear_model/_coordinate_descent.py:631: UserWarning: Coordinate descent with no regularization may lead to unexpected results and is discouraged.\n",
            "  model = cd_fast.enet_coordinate_descent(\n",
            "/usr/local/lib/python3.10/dist-packages/sklearn/linear_model/_coordinate_descent.py:631: ConvergenceWarning: Objective did not converge. You might want to increase the number of iterations, check the scale of the features or consider increasing regularisation. Duality gap: 9.357e+02, tolerance: 4.394e+00 Linear regression models with null weight for the l1 regularization term are more efficiently fitted using one of the solvers implemented in sklearn.linear_model.Ridge/RidgeCV instead.\n",
            "  model = cd_fast.enet_coordinate_descent(\n",
            "<ipython-input-83-b1272d22dd1a>:5: UserWarning: With alpha=0, this algorithm does not converge well. You are advised to use the LinearRegression estimator\n",
            "  elastic_net.fit(X_train_scaled, y_train)\n",
            "/usr/local/lib/python3.10/dist-packages/sklearn/linear_model/_coordinate_descent.py:631: UserWarning: Coordinate descent with no regularization may lead to unexpected results and is discouraged.\n",
            "  model = cd_fast.enet_coordinate_descent(\n",
            "/usr/local/lib/python3.10/dist-packages/sklearn/linear_model/_coordinate_descent.py:631: ConvergenceWarning: Objective did not converge. You might want to increase the number of iterations, check the scale of the features or consider increasing regularisation. Duality gap: 9.357e+02, tolerance: 4.394e+00 Linear regression models with null weight for the l1 regularization term are more efficiently fitted using one of the solvers implemented in sklearn.linear_model.Ridge/RidgeCV instead.\n",
            "  model = cd_fast.enet_coordinate_descent(\n",
            "<ipython-input-83-b1272d22dd1a>:5: UserWarning: With alpha=0, this algorithm does not converge well. You are advised to use the LinearRegression estimator\n",
            "  elastic_net.fit(X_train_scaled, y_train)\n",
            "/usr/local/lib/python3.10/dist-packages/sklearn/linear_model/_coordinate_descent.py:631: UserWarning: Coordinate descent with no regularization may lead to unexpected results and is discouraged.\n",
            "  model = cd_fast.enet_coordinate_descent(\n",
            "/usr/local/lib/python3.10/dist-packages/sklearn/linear_model/_coordinate_descent.py:631: ConvergenceWarning: Objective did not converge. You might want to increase the number of iterations, check the scale of the features or consider increasing regularisation. Duality gap: 9.357e+02, tolerance: 4.394e+00 Linear regression models with null weight for the l1 regularization term are more efficiently fitted using one of the solvers implemented in sklearn.linear_model.Ridge/RidgeCV instead.\n",
            "  model = cd_fast.enet_coordinate_descent(\n",
            "<ipython-input-83-b1272d22dd1a>:5: UserWarning: With alpha=0, this algorithm does not converge well. You are advised to use the LinearRegression estimator\n",
            "  elastic_net.fit(X_train_scaled, y_train)\n",
            "/usr/local/lib/python3.10/dist-packages/sklearn/linear_model/_coordinate_descent.py:631: UserWarning: Coordinate descent with no regularization may lead to unexpected results and is discouraged.\n",
            "  model = cd_fast.enet_coordinate_descent(\n",
            "/usr/local/lib/python3.10/dist-packages/sklearn/linear_model/_coordinate_descent.py:631: ConvergenceWarning: Objective did not converge. You might want to increase the number of iterations, check the scale of the features or consider increasing regularisation. Duality gap: 9.357e+02, tolerance: 4.394e+00 Linear regression models with null weight for the l1 regularization term are more efficiently fitted using one of the solvers implemented in sklearn.linear_model.Ridge/RidgeCV instead.\n",
            "  model = cd_fast.enet_coordinate_descent(\n",
            "<ipython-input-83-b1272d22dd1a>:5: UserWarning: With alpha=0, this algorithm does not converge well. You are advised to use the LinearRegression estimator\n",
            "  elastic_net.fit(X_train_scaled, y_train)\n",
            "/usr/local/lib/python3.10/dist-packages/sklearn/linear_model/_coordinate_descent.py:631: UserWarning: Coordinate descent with no regularization may lead to unexpected results and is discouraged.\n",
            "  model = cd_fast.enet_coordinate_descent(\n",
            "/usr/local/lib/python3.10/dist-packages/sklearn/linear_model/_coordinate_descent.py:631: ConvergenceWarning: Objective did not converge. You might want to increase the number of iterations, check the scale of the features or consider increasing regularisation. Duality gap: 9.357e+02, tolerance: 4.394e+00 Linear regression models with null weight for the l1 regularization term are more efficiently fitted using one of the solvers implemented in sklearn.linear_model.Ridge/RidgeCV instead.\n",
            "  model = cd_fast.enet_coordinate_descent(\n",
            "<ipython-input-83-b1272d22dd1a>:5: UserWarning: With alpha=0, this algorithm does not converge well. You are advised to use the LinearRegression estimator\n",
            "  elastic_net.fit(X_train_scaled, y_train)\n",
            "/usr/local/lib/python3.10/dist-packages/sklearn/linear_model/_coordinate_descent.py:631: UserWarning: Coordinate descent with no regularization may lead to unexpected results and is discouraged.\n",
            "  model = cd_fast.enet_coordinate_descent(\n",
            "/usr/local/lib/python3.10/dist-packages/sklearn/linear_model/_coordinate_descent.py:631: ConvergenceWarning: Objective did not converge. You might want to increase the number of iterations, check the scale of the features or consider increasing regularisation. Duality gap: 9.357e+02, tolerance: 4.394e+00 Linear regression models with null weight for the l1 regularization term are more efficiently fitted using one of the solvers implemented in sklearn.linear_model.Ridge/RidgeCV instead.\n",
            "  model = cd_fast.enet_coordinate_descent(\n",
            "<ipython-input-83-b1272d22dd1a>:5: UserWarning: With alpha=0, this algorithm does not converge well. You are advised to use the LinearRegression estimator\n",
            "  elastic_net.fit(X_train_scaled, y_train)\n",
            "/usr/local/lib/python3.10/dist-packages/sklearn/linear_model/_coordinate_descent.py:631: UserWarning: Coordinate descent with no regularization may lead to unexpected results and is discouraged.\n",
            "  model = cd_fast.enet_coordinate_descent(\n",
            "/usr/local/lib/python3.10/dist-packages/sklearn/linear_model/_coordinate_descent.py:631: ConvergenceWarning: Objective did not converge. You might want to increase the number of iterations, check the scale of the features or consider increasing regularisation. Duality gap: 9.357e+02, tolerance: 4.394e+00 Linear regression models with null weight for the l1 regularization term are more efficiently fitted using one of the solvers implemented in sklearn.linear_model.Ridge/RidgeCV instead.\n",
            "  model = cd_fast.enet_coordinate_descent(\n",
            "<ipython-input-83-b1272d22dd1a>:5: UserWarning: With alpha=0, this algorithm does not converge well. You are advised to use the LinearRegression estimator\n",
            "  elastic_net.fit(X_train_scaled, y_train)\n",
            "/usr/local/lib/python3.10/dist-packages/sklearn/linear_model/_coordinate_descent.py:631: UserWarning: Coordinate descent with no regularization may lead to unexpected results and is discouraged.\n",
            "  model = cd_fast.enet_coordinate_descent(\n",
            "/usr/local/lib/python3.10/dist-packages/sklearn/linear_model/_coordinate_descent.py:631: ConvergenceWarning: Objective did not converge. You might want to increase the number of iterations, check the scale of the features or consider increasing regularisation. Duality gap: 9.357e+02, tolerance: 4.394e+00 Linear regression models with null weight for the l1 regularization term are more efficiently fitted using one of the solvers implemented in sklearn.linear_model.Ridge/RidgeCV instead.\n",
            "  model = cd_fast.enet_coordinate_descent(\n",
            "<ipython-input-83-b1272d22dd1a>:5: UserWarning: With alpha=0, this algorithm does not converge well. You are advised to use the LinearRegression estimator\n",
            "  elastic_net.fit(X_train_scaled, y_train)\n",
            "/usr/local/lib/python3.10/dist-packages/sklearn/linear_model/_coordinate_descent.py:631: UserWarning: Coordinate descent with no regularization may lead to unexpected results and is discouraged.\n",
            "  model = cd_fast.enet_coordinate_descent(\n",
            "/usr/local/lib/python3.10/dist-packages/sklearn/linear_model/_coordinate_descent.py:631: ConvergenceWarning: Objective did not converge. You might want to increase the number of iterations, check the scale of the features or consider increasing regularisation. Duality gap: 9.357e+02, tolerance: 4.394e+00 Linear regression models with null weight for the l1 regularization term are more efficiently fitted using one of the solvers implemented in sklearn.linear_model.Ridge/RidgeCV instead.\n",
            "  model = cd_fast.enet_coordinate_descent(\n",
            "<ipython-input-83-b1272d22dd1a>:5: UserWarning: With alpha=0, this algorithm does not converge well. You are advised to use the LinearRegression estimator\n",
            "  elastic_net.fit(X_train_scaled, y_train)\n",
            "/usr/local/lib/python3.10/dist-packages/sklearn/linear_model/_coordinate_descent.py:631: UserWarning: Coordinate descent with no regularization may lead to unexpected results and is discouraged.\n",
            "  model = cd_fast.enet_coordinate_descent(\n",
            "/usr/local/lib/python3.10/dist-packages/sklearn/linear_model/_coordinate_descent.py:631: ConvergenceWarning: Objective did not converge. You might want to increase the number of iterations, check the scale of the features or consider increasing regularisation. Duality gap: 9.357e+02, tolerance: 4.394e+00 Linear regression models with null weight for the l1 regularization term are more efficiently fitted using one of the solvers implemented in sklearn.linear_model.Ridge/RidgeCV instead.\n",
            "  model = cd_fast.enet_coordinate_descent(\n",
            "<ipython-input-83-b1272d22dd1a>:5: UserWarning: With alpha=0, this algorithm does not converge well. You are advised to use the LinearRegression estimator\n",
            "  elastic_net.fit(X_train_scaled, y_train)\n",
            "/usr/local/lib/python3.10/dist-packages/sklearn/linear_model/_coordinate_descent.py:631: UserWarning: Coordinate descent with no regularization may lead to unexpected results and is discouraged.\n",
            "  model = cd_fast.enet_coordinate_descent(\n",
            "/usr/local/lib/python3.10/dist-packages/sklearn/linear_model/_coordinate_descent.py:631: ConvergenceWarning: Objective did not converge. You might want to increase the number of iterations, check the scale of the features or consider increasing regularisation. Duality gap: 9.357e+02, tolerance: 4.394e+00 Linear regression models with null weight for the l1 regularization term are more efficiently fitted using one of the solvers implemented in sklearn.linear_model.Ridge/RidgeCV instead.\n",
            "  model = cd_fast.enet_coordinate_descent(\n",
            "<ipython-input-83-b1272d22dd1a>:5: UserWarning: With alpha=0, this algorithm does not converge well. You are advised to use the LinearRegression estimator\n",
            "  elastic_net.fit(X_train_scaled, y_train)\n",
            "/usr/local/lib/python3.10/dist-packages/sklearn/linear_model/_coordinate_descent.py:631: UserWarning: Coordinate descent with no regularization may lead to unexpected results and is discouraged.\n",
            "  model = cd_fast.enet_coordinate_descent(\n",
            "/usr/local/lib/python3.10/dist-packages/sklearn/linear_model/_coordinate_descent.py:631: ConvergenceWarning: Objective did not converge. You might want to increase the number of iterations, check the scale of the features or consider increasing regularisation. Duality gap: 9.357e+02, tolerance: 4.394e+00 Linear regression models with null weight for the l1 regularization term are more efficiently fitted using one of the solvers implemented in sklearn.linear_model.Ridge/RidgeCV instead.\n",
            "  model = cd_fast.enet_coordinate_descent(\n",
            "<ipython-input-83-b1272d22dd1a>:5: UserWarning: With alpha=0, this algorithm does not converge well. You are advised to use the LinearRegression estimator\n",
            "  elastic_net.fit(X_train_scaled, y_train)\n",
            "/usr/local/lib/python3.10/dist-packages/sklearn/linear_model/_coordinate_descent.py:631: UserWarning: Coordinate descent with no regularization may lead to unexpected results and is discouraged.\n",
            "  model = cd_fast.enet_coordinate_descent(\n",
            "/usr/local/lib/python3.10/dist-packages/sklearn/linear_model/_coordinate_descent.py:631: ConvergenceWarning: Objective did not converge. You might want to increase the number of iterations, check the scale of the features or consider increasing regularisation. Duality gap: 9.357e+02, tolerance: 4.394e+00 Linear regression models with null weight for the l1 regularization term are more efficiently fitted using one of the solvers implemented in sklearn.linear_model.Ridge/RidgeCV instead.\n",
            "  model = cd_fast.enet_coordinate_descent(\n",
            "<ipython-input-83-b1272d22dd1a>:5: UserWarning: With alpha=0, this algorithm does not converge well. You are advised to use the LinearRegression estimator\n",
            "  elastic_net.fit(X_train_scaled, y_train)\n",
            "/usr/local/lib/python3.10/dist-packages/sklearn/linear_model/_coordinate_descent.py:631: UserWarning: Coordinate descent with no regularization may lead to unexpected results and is discouraged.\n",
            "  model = cd_fast.enet_coordinate_descent(\n",
            "/usr/local/lib/python3.10/dist-packages/sklearn/linear_model/_coordinate_descent.py:631: ConvergenceWarning: Objective did not converge. You might want to increase the number of iterations, check the scale of the features or consider increasing regularisation. Duality gap: 9.357e+02, tolerance: 4.394e+00 Linear regression models with null weight for the l1 regularization term are more efficiently fitted using one of the solvers implemented in sklearn.linear_model.Ridge/RidgeCV instead.\n",
            "  model = cd_fast.enet_coordinate_descent(\n",
            "/usr/local/lib/python3.10/dist-packages/sklearn/linear_model/_coordinate_descent.py:631: ConvergenceWarning: Objective did not converge. You might want to increase the number of iterations, check the scale of the features or consider increasing regularisation. Duality gap: 1.669e+03, tolerance: 4.394e+00 Linear regression models with null weight for the l1 regularization term are more efficiently fitted using one of the solvers implemented in sklearn.linear_model.Ridge/RidgeCV instead.\n",
            "  model = cd_fast.enet_coordinate_descent(\n"
          ]
        },
        {
          "output_type": "stream",
          "name": "stdout",
          "text": [
            "Alpha is 0.0 l1_ratio is 0.0\n",
            "Training R^2 Score: 0.9574\n",
            "Testing R^2 Score: 0.2532\n",
            "Alpha is 0.1 l1_ratio is 0.0\n",
            "Training R^2 Score: 0.9532\n",
            "Testing R^2 Score: 0.5729\n"
          ]
        },
        {
          "output_type": "stream",
          "name": "stderr",
          "text": [
            "/usr/local/lib/python3.10/dist-packages/sklearn/linear_model/_coordinate_descent.py:631: ConvergenceWarning: Objective did not converge. You might want to increase the number of iterations, check the scale of the features or consider increasing regularisation. Duality gap: 2.275e+03, tolerance: 4.394e+00 Linear regression models with null weight for the l1 regularization term are more efficiently fitted using one of the solvers implemented in sklearn.linear_model.Ridge/RidgeCV instead.\n",
            "  model = cd_fast.enet_coordinate_descent(\n",
            "/usr/local/lib/python3.10/dist-packages/sklearn/linear_model/_coordinate_descent.py:631: ConvergenceWarning: Objective did not converge. You might want to increase the number of iterations, check the scale of the features or consider increasing regularisation. Duality gap: 2.834e+03, tolerance: 4.394e+00 Linear regression models with null weight for the l1 regularization term are more efficiently fitted using one of the solvers implemented in sklearn.linear_model.Ridge/RidgeCV instead.\n",
            "  model = cd_fast.enet_coordinate_descent(\n",
            "/usr/local/lib/python3.10/dist-packages/sklearn/linear_model/_coordinate_descent.py:631: ConvergenceWarning: Objective did not converge. You might want to increase the number of iterations, check the scale of the features or consider increasing regularisation. Duality gap: 3.358e+03, tolerance: 4.394e+00 Linear regression models with null weight for the l1 regularization term are more efficiently fitted using one of the solvers implemented in sklearn.linear_model.Ridge/RidgeCV instead.\n",
            "  model = cd_fast.enet_coordinate_descent(\n"
          ]
        },
        {
          "output_type": "stream",
          "name": "stdout",
          "text": [
            "Alpha is 0.2 l1_ratio is 0.0\n",
            "Training R^2 Score: 0.9492\n",
            "Testing R^2 Score: 0.6277\n",
            "Alpha is 0.30000000000000004 l1_ratio is 0.0\n",
            "Training R^2 Score: 0.9448\n",
            "Testing R^2 Score: 0.6315\n",
            "Alpha is 0.30000000000000004 l1_ratio is 0.05\n",
            "Training R^2 Score: 0.9453\n",
            "Testing R^2 Score: 0.6338\n",
            "Alpha is 0.30000000000000004 l1_ratio is 0.1\n",
            "Training R^2 Score: 0.9459\n",
            "Testing R^2 Score: 0.6358\n",
            "Alpha is 0.30000000000000004 l1_ratio is 0.15000000000000002\n",
            "Training R^2 Score: 0.9464\n",
            "Testing R^2 Score: 0.6372\n",
            "Alpha is 0.30000000000000004 l1_ratio is 0.2\n",
            "Training R^2 Score: 0.9469\n",
            "Testing R^2 Score: 0.6383\n",
            "Alpha is 0.30000000000000004 l1_ratio is 0.25\n",
            "Training R^2 Score: 0.9474\n",
            "Testing R^2 Score: 0.6389\n",
            "Alpha is 0.30000000000000004 l1_ratio is 0.30000000000000004\n",
            "Training R^2 Score: 0.9480\n",
            "Testing R^2 Score: 0.6390\n",
            "Alpha is 0.4 l1_ratio is 0.4\n",
            "Training R^2 Score: 0.9458\n",
            "Testing R^2 Score: 0.6409\n",
            "Alpha is 0.4 l1_ratio is 0.45\n",
            "Training R^2 Score: 0.9466\n",
            "Testing R^2 Score: 0.6438\n",
            "Alpha is 0.4 l1_ratio is 0.5\n",
            "Training R^2 Score: 0.9473\n",
            "Testing R^2 Score: 0.6461\n",
            "Alpha is 0.4 l1_ratio is 0.55\n",
            "Training R^2 Score: 0.9481\n",
            "Testing R^2 Score: 0.6476\n",
            "Alpha is 0.4 l1_ratio is 0.6000000000000001\n",
            "Training R^2 Score: 0.9489\n",
            "Testing R^2 Score: 0.6483\n",
            "Alpha is 0.5 l1_ratio is 0.6000000000000001\n",
            "Training R^2 Score: 0.9462\n",
            "Testing R^2 Score: 0.6492\n",
            "Alpha is 0.5 l1_ratio is 0.65\n",
            "Training R^2 Score: 0.9472\n",
            "Testing R^2 Score: 0.6540\n",
            "Alpha is 0.5 l1_ratio is 0.7000000000000001\n",
            "Training R^2 Score: 0.9483\n",
            "Testing R^2 Score: 0.6577\n",
            "Alpha is 0.5 l1_ratio is 0.75\n",
            "Training R^2 Score: 0.9494\n",
            "Testing R^2 Score: 0.6603\n",
            "Alpha is 0.5 l1_ratio is 0.8\n",
            "Training R^2 Score: 0.9506\n",
            "Testing R^2 Score: 0.6613\n"
          ]
        },
        {
          "output_type": "stream",
          "name": "stderr",
          "text": [
            "/usr/local/lib/python3.10/dist-packages/sklearn/linear_model/_coordinate_descent.py:631: ConvergenceWarning: Objective did not converge. You might want to increase the number of iterations, check the scale of the features or consider increasing regularisation. Duality gap: 3.852e+03, tolerance: 4.394e+00 Linear regression models with null weight for the l1 regularization term are more efficiently fitted using one of the solvers implemented in sklearn.linear_model.Ridge/RidgeCV instead.\n",
            "  model = cd_fast.enet_coordinate_descent(\n",
            "/usr/local/lib/python3.10/dist-packages/sklearn/linear_model/_coordinate_descent.py:631: ConvergenceWarning: Objective did not converge. You might want to increase the number of iterations, check the scale of the features or consider increasing regularisation. Duality gap: 4.320e+03, tolerance: 4.394e+00 Linear regression models with null weight for the l1 regularization term are more efficiently fitted using one of the solvers implemented in sklearn.linear_model.Ridge/RidgeCV instead.\n",
            "  model = cd_fast.enet_coordinate_descent(\n"
          ]
        },
        {
          "output_type": "stream",
          "name": "stdout",
          "text": [
            "Alpha is 0.6000000000000001 l1_ratio is 0.75\n",
            "Training R^2 Score: 0.9472\n",
            "Testing R^2 Score: 0.6630\n",
            "Alpha is 0.6000000000000001 l1_ratio is 0.8\n",
            "Training R^2 Score: 0.9486\n",
            "Testing R^2 Score: 0.6701\n",
            "Alpha is 0.6000000000000001 l1_ratio is 0.8500000000000001\n",
            "Training R^2 Score: 0.9501\n",
            "Testing R^2 Score: 0.6752\n",
            "Alpha is 0.6000000000000001 l1_ratio is 0.9\n",
            "Training R^2 Score: 0.9518\n",
            "Testing R^2 Score: 0.6754\n",
            "Alpha is 0.7000000000000001 l1_ratio is 0.8500000000000001\n",
            "Training R^2 Score: 0.9482\n",
            "Testing R^2 Score: 0.6809\n",
            "Alpha is 0.7000000000000001 l1_ratio is 0.9\n",
            "Training R^2 Score: 0.9502\n",
            "Testing R^2 Score: 0.6903\n"
          ]
        },
        {
          "output_type": "stream",
          "name": "stderr",
          "text": [
            "/usr/local/lib/python3.10/dist-packages/sklearn/linear_model/_coordinate_descent.py:631: ConvergenceWarning: Objective did not converge. You might want to increase the number of iterations, check the scale of the features or consider increasing regularisation. Duality gap: 4.763e+03, tolerance: 4.394e+00 Linear regression models with null weight for the l1 regularization term are more efficiently fitted using one of the solvers implemented in sklearn.linear_model.Ridge/RidgeCV instead.\n",
            "  model = cd_fast.enet_coordinate_descent(\n",
            "/usr/local/lib/python3.10/dist-packages/sklearn/linear_model/_coordinate_descent.py:631: ConvergenceWarning: Objective did not converge. You might want to increase the number of iterations, check the scale of the features or consider increasing regularisation. Duality gap: 5.184e+03, tolerance: 4.394e+00 Linear regression models with null weight for the l1 regularization term are more efficiently fitted using one of the solvers implemented in sklearn.linear_model.Ridge/RidgeCV instead.\n",
            "  model = cd_fast.enet_coordinate_descent(\n"
          ]
        },
        {
          "output_type": "stream",
          "name": "stdout",
          "text": [
            "Alpha is 0.8 l1_ratio is 0.9\n",
            "Training R^2 Score: 0.9484\n",
            "Testing R^2 Score: 0.6966\n",
            "Alpha is 0.8 l1_ratio is 0.9500000000000001\n",
            "Training R^2 Score: 0.9510\n",
            "Testing R^2 Score: 0.7050\n",
            "Alpha is 0.9 l1_ratio is 0.9500000000000001\n",
            "Training R^2 Score: 0.9494\n",
            "Testing R^2 Score: 0.7183\n"
          ]
        },
        {
          "output_type": "stream",
          "name": "stderr",
          "text": [
            "/usr/local/lib/python3.10/dist-packages/sklearn/linear_model/_coordinate_descent.py:631: ConvergenceWarning: Objective did not converge. You might want to increase the number of iterations, check the scale of the features or consider increasing regularisation. Duality gap: 5.584e+03, tolerance: 4.394e+00 Linear regression models with null weight for the l1 regularization term are more efficiently fitted using one of the solvers implemented in sklearn.linear_model.Ridge/RidgeCV instead.\n",
            "  model = cd_fast.enet_coordinate_descent(\n",
            "/usr/local/lib/python3.10/dist-packages/sklearn/linear_model/_coordinate_descent.py:631: ConvergenceWarning: Objective did not converge. You might want to increase the number of iterations, check the scale of the features or consider increasing regularisation. Duality gap: 5.966e+03, tolerance: 4.394e+00 Linear regression models with null weight for the l1 regularization term are more efficiently fitted using one of the solvers implemented in sklearn.linear_model.Ridge/RidgeCV instead.\n",
            "  model = cd_fast.enet_coordinate_descent(\n"
          ]
        },
        {
          "output_type": "stream",
          "name": "stdout",
          "text": [
            "Alpha is 1.0 l1_ratio is 0.9500000000000001\n",
            "Training R^2 Score: 0.9476\n",
            "Testing R^2 Score: 0.7246\n"
          ]
        },
        {
          "output_type": "stream",
          "name": "stderr",
          "text": [
            "/usr/local/lib/python3.10/dist-packages/sklearn/linear_model/_coordinate_descent.py:631: ConvergenceWarning: Objective did not converge. You might want to increase the number of iterations, check the scale of the features or consider increasing regularisation. Duality gap: 6.330e+03, tolerance: 4.394e+00 Linear regression models with null weight for the l1 regularization term are more efficiently fitted using one of the solvers implemented in sklearn.linear_model.Ridge/RidgeCV instead.\n",
            "  model = cd_fast.enet_coordinate_descent(\n",
            "/usr/local/lib/python3.10/dist-packages/sklearn/linear_model/_coordinate_descent.py:631: ConvergenceWarning: Objective did not converge. You might want to increase the number of iterations, check the scale of the features or consider increasing regularisation. Duality gap: 6.678e+03, tolerance: 4.394e+00 Linear regression models with null weight for the l1 regularization term are more efficiently fitted using one of the solvers implemented in sklearn.linear_model.Ridge/RidgeCV instead.\n",
            "  model = cd_fast.enet_coordinate_descent(\n",
            "/usr/local/lib/python3.10/dist-packages/sklearn/linear_model/_coordinate_descent.py:631: ConvergenceWarning: Objective did not converge. You might want to increase the number of iterations, check the scale of the features or consider increasing regularisation. Duality gap: 7.010e+03, tolerance: 4.394e+00 Linear regression models with null weight for the l1 regularization term are more efficiently fitted using one of the solvers implemented in sklearn.linear_model.Ridge/RidgeCV instead.\n",
            "  model = cd_fast.enet_coordinate_descent(\n",
            "/usr/local/lib/python3.10/dist-packages/sklearn/linear_model/_coordinate_descent.py:631: ConvergenceWarning: Objective did not converge. You might want to increase the number of iterations, check the scale of the features or consider increasing regularisation. Duality gap: 7.328e+03, tolerance: 4.394e+00 Linear regression models with null weight for the l1 regularization term are more efficiently fitted using one of the solvers implemented in sklearn.linear_model.Ridge/RidgeCV instead.\n",
            "  model = cd_fast.enet_coordinate_descent(\n",
            "/usr/local/lib/python3.10/dist-packages/sklearn/linear_model/_coordinate_descent.py:631: ConvergenceWarning: Objective did not converge. You might want to increase the number of iterations, check the scale of the features or consider increasing regularisation. Duality gap: 7.633e+03, tolerance: 4.394e+00 Linear regression models with null weight for the l1 regularization term are more efficiently fitted using one of the solvers implemented in sklearn.linear_model.Ridge/RidgeCV instead.\n",
            "  model = cd_fast.enet_coordinate_descent(\n",
            "/usr/local/lib/python3.10/dist-packages/sklearn/linear_model/_coordinate_descent.py:631: ConvergenceWarning: Objective did not converge. You might want to increase the number of iterations, check the scale of the features or consider increasing regularisation. Duality gap: 7.926e+03, tolerance: 4.394e+00 Linear regression models with null weight for the l1 regularization term are more efficiently fitted using one of the solvers implemented in sklearn.linear_model.Ridge/RidgeCV instead.\n",
            "  model = cd_fast.enet_coordinate_descent(\n",
            "/usr/local/lib/python3.10/dist-packages/sklearn/linear_model/_coordinate_descent.py:631: ConvergenceWarning: Objective did not converge. You might want to increase the number of iterations, check the scale of the features or consider increasing regularisation. Duality gap: 8.206e+03, tolerance: 4.394e+00 Linear regression models with null weight for the l1 regularization term are more efficiently fitted using one of the solvers implemented in sklearn.linear_model.Ridge/RidgeCV instead.\n",
            "  model = cd_fast.enet_coordinate_descent(\n",
            "/usr/local/lib/python3.10/dist-packages/sklearn/linear_model/_coordinate_descent.py:631: ConvergenceWarning: Objective did not converge. You might want to increase the number of iterations, check the scale of the features or consider increasing regularisation. Duality gap: 8.476e+03, tolerance: 4.394e+00 Linear regression models with null weight for the l1 regularization term are more efficiently fitted using one of the solvers implemented in sklearn.linear_model.Ridge/RidgeCV instead.\n",
            "  model = cd_fast.enet_coordinate_descent(\n",
            "/usr/local/lib/python3.10/dist-packages/sklearn/linear_model/_coordinate_descent.py:631: ConvergenceWarning: Objective did not converge. You might want to increase the number of iterations, check the scale of the features or consider increasing regularisation. Duality gap: 8.735e+03, tolerance: 4.394e+00 Linear regression models with null weight for the l1 regularization term are more efficiently fitted using one of the solvers implemented in sklearn.linear_model.Ridge/RidgeCV instead.\n",
            "  model = cd_fast.enet_coordinate_descent(\n"
          ]
        }
      ]
    },
    {
      "cell_type": "code",
      "source": [
        "l1_ratio = 0.95\n",
        "alpha = 1.0\n",
        "elastic_net = ElasticNet(alpha=alpha, l1_ratio=l1_ratio, random_state=42)\n",
        "elastic_net.fit(X_train_scaled, y_train)\n",
        "\n",
        "# Make predictions on the test set\n",
        "y_pred = elastic_net.predict(X_test_scaled)\n",
        "\n",
        "# Evaluate the model\n",
        "mse = mean_squared_error(y_test, y_pred)\n",
        "print(f'Mean Squared Error: {mse}')\n",
        "# Print the coefficients\n",
        "print('Coefficients:', elastic_net.coef_)"
      ],
      "metadata": {
        "colab": {
          "base_uri": "https://localhost:8080/"
        },
        "id": "cUt5Bv5kTtTO",
        "outputId": "c9b53b51-9a77-4f9d-fa2f-1bb50fa08bb1"
      },
      "execution_count": null,
      "outputs": [
        {
          "output_type": "stream",
          "name": "stdout",
          "text": [
            "Mean Squared Error: 10.081257346628124\n",
            "Coefficients: [5.26856491 2.43129256 4.32060251 0.64131335]\n"
          ]
        }
      ]
    },
    {
      "cell_type": "code",
      "source": [
        "# Visualizing"
      ],
      "metadata": {
        "id": "IWIbzutadupR"
      },
      "execution_count": null,
      "outputs": []
    }
  ]
}