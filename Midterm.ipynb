{
  "nbformat": 4,
  "nbformat_minor": 0,
  "metadata": {
    "colab": {
      "provenance": []
    },
    "kernelspec": {
      "name": "python3",
      "display_name": "Python 3"
    },
    "language_info": {
      "name": "python"
    }
  },
  "cells": [
    {
      "cell_type": "code",
      "execution_count": null,
      "metadata": {
        "id": "9Ie-aL8t4JuX",
        "colab": {
          "base_uri": "https://localhost:8080/",
          "height": 382
        },
        "outputId": "e4c8a8be-1aeb-409a-f2de-1c34ee7a2c64"
      },
      "outputs": [
        {
          "output_type": "stream",
          "name": "stdout",
          "text": [
            "Requirement already satisfied: yfinance in /usr/local/lib/python3.10/dist-packages (0.2.31)\n",
            "Requirement already satisfied: pandas>=1.3.0 in /usr/local/lib/python3.10/dist-packages (from yfinance) (1.5.3)\n",
            "Requirement already satisfied: numpy>=1.16.5 in /usr/local/lib/python3.10/dist-packages (from yfinance) (1.23.5)\n",
            "Requirement already satisfied: requests>=2.31 in /usr/local/lib/python3.10/dist-packages (from yfinance) (2.31.0)\n",
            "Requirement already satisfied: multitasking>=0.0.7 in /usr/local/lib/python3.10/dist-packages (from yfinance) (0.0.11)\n",
            "Requirement already satisfied: lxml>=4.9.1 in /usr/local/lib/python3.10/dist-packages (from yfinance) (4.9.3)\n",
            "Requirement already satisfied: appdirs>=1.4.4 in /usr/local/lib/python3.10/dist-packages (from yfinance) (1.4.4)\n",
            "Requirement already satisfied: pytz>=2022.5 in /usr/local/lib/python3.10/dist-packages (from yfinance) (2023.3.post1)\n",
            "Requirement already satisfied: frozendict>=2.3.4 in /usr/local/lib/python3.10/dist-packages (from yfinance) (2.3.8)\n",
            "Requirement already satisfied: peewee>=3.16.2 in /usr/local/lib/python3.10/dist-packages (from yfinance) (3.17.0)\n",
            "Requirement already satisfied: beautifulsoup4>=4.11.1 in /usr/local/lib/python3.10/dist-packages (from yfinance) (4.11.2)\n",
            "Requirement already satisfied: html5lib>=1.1 in /usr/local/lib/python3.10/dist-packages (from yfinance) (1.1)\n",
            "Requirement already satisfied: soupsieve>1.2 in /usr/local/lib/python3.10/dist-packages (from beautifulsoup4>=4.11.1->yfinance) (2.5)\n",
            "Requirement already satisfied: six>=1.9 in /usr/local/lib/python3.10/dist-packages (from html5lib>=1.1->yfinance) (1.16.0)\n",
            "Requirement already satisfied: webencodings in /usr/local/lib/python3.10/dist-packages (from html5lib>=1.1->yfinance) (0.5.1)\n",
            "Requirement already satisfied: python-dateutil>=2.8.1 in /usr/local/lib/python3.10/dist-packages (from pandas>=1.3.0->yfinance) (2.8.2)\n",
            "Requirement already satisfied: charset-normalizer<4,>=2 in /usr/local/lib/python3.10/dist-packages (from requests>=2.31->yfinance) (3.3.2)\n",
            "Requirement already satisfied: idna<4,>=2.5 in /usr/local/lib/python3.10/dist-packages (from requests>=2.31->yfinance) (3.4)\n",
            "Requirement already satisfied: urllib3<3,>=1.21.1 in /usr/local/lib/python3.10/dist-packages (from requests>=2.31->yfinance) (2.0.7)\n",
            "Requirement already satisfied: certifi>=2017.4.17 in /usr/local/lib/python3.10/dist-packages (from requests>=2.31->yfinance) (2023.7.22)\n"
          ]
        },
        {
          "output_type": "execute_result",
          "data": {
            "text/plain": [
              "' We are using yahoo finance dataset because it has a lot of data'"
            ],
            "application/vnd.google.colaboratory.intrinsic+json": {
              "type": "string"
            }
          },
          "metadata": {},
          "execution_count": 1
        }
      ],
      "source": [
        "!pip install yfinance\n",
        "''' We are using yahoo finance dataset because it has a lot of data'''"
      ]
    },
    {
      "cell_type": "code",
      "source": [
        "import numpy as np\n",
        "import pandas as pd\n",
        "import datetime as dt\n",
        "#standard data manipulation libraries\n",
        "from pandas_datareader import data as pdr\n",
        "#useful for pulling data from yfinance\n",
        "from sklearn import linear_model\n",
        "import statsmodels.api as sm\n",
        "import yfinance as yf"
      ],
      "metadata": {
        "id": "DKu9SQCj62P6"
      },
      "execution_count": null,
      "outputs": []
    },
    {
      "cell_type": "code",
      "source": [
        "yf.Ticker(\"AAPL\").history(start = \"2023-01-01\", end = \"2023-01-04\")\n"
      ],
      "metadata": {
        "colab": {
          "base_uri": "https://localhost:8080/",
          "height": 112
        },
        "id": "8KJde8Rz6kyh",
        "outputId": "500c7938-c7c3-47b4-e1f4-4c6a0897c466"
      },
      "execution_count": null,
      "outputs": [
        {
          "output_type": "execute_result",
          "data": {
            "text/plain": [
              "                                 Open       High         Low       Close  \\\n",
              "Date                                                                       \n",
              "2023-01-03 00:00:00-05:00  129.555841  130.17239  123.479803  124.374802   \n",
              "\n",
              "                              Volume  Dividends  Stock Splits  \n",
              "Date                                                           \n",
              "2023-01-03 00:00:00-05:00  112117500        0.0           0.0  "
            ],
            "text/html": [
              "\n",
              "  <div id=\"df-0d566703-16a7-4fc2-a506-2571069865ba\" class=\"colab-df-container\">\n",
              "    <div>\n",
              "<style scoped>\n",
              "    .dataframe tbody tr th:only-of-type {\n",
              "        vertical-align: middle;\n",
              "    }\n",
              "\n",
              "    .dataframe tbody tr th {\n",
              "        vertical-align: top;\n",
              "    }\n",
              "\n",
              "    .dataframe thead th {\n",
              "        text-align: right;\n",
              "    }\n",
              "</style>\n",
              "<table border=\"1\" class=\"dataframe\">\n",
              "  <thead>\n",
              "    <tr style=\"text-align: right;\">\n",
              "      <th></th>\n",
              "      <th>Open</th>\n",
              "      <th>High</th>\n",
              "      <th>Low</th>\n",
              "      <th>Close</th>\n",
              "      <th>Volume</th>\n",
              "      <th>Dividends</th>\n",
              "      <th>Stock Splits</th>\n",
              "    </tr>\n",
              "    <tr>\n",
              "      <th>Date</th>\n",
              "      <th></th>\n",
              "      <th></th>\n",
              "      <th></th>\n",
              "      <th></th>\n",
              "      <th></th>\n",
              "      <th></th>\n",
              "      <th></th>\n",
              "    </tr>\n",
              "  </thead>\n",
              "  <tbody>\n",
              "    <tr>\n",
              "      <th>2023-01-03 00:00:00-05:00</th>\n",
              "      <td>129.555841</td>\n",
              "      <td>130.17239</td>\n",
              "      <td>123.479803</td>\n",
              "      <td>124.374802</td>\n",
              "      <td>112117500</td>\n",
              "      <td>0.0</td>\n",
              "      <td>0.0</td>\n",
              "    </tr>\n",
              "  </tbody>\n",
              "</table>\n",
              "</div>\n",
              "    <div class=\"colab-df-buttons\">\n",
              "\n",
              "  <div class=\"colab-df-container\">\n",
              "    <button class=\"colab-df-convert\" onclick=\"convertToInteractive('df-0d566703-16a7-4fc2-a506-2571069865ba')\"\n",
              "            title=\"Convert this dataframe to an interactive table.\"\n",
              "            style=\"display:none;\">\n",
              "\n",
              "  <svg xmlns=\"http://www.w3.org/2000/svg\" height=\"24px\" viewBox=\"0 -960 960 960\">\n",
              "    <path d=\"M120-120v-720h720v720H120Zm60-500h600v-160H180v160Zm220 220h160v-160H400v160Zm0 220h160v-160H400v160ZM180-400h160v-160H180v160Zm440 0h160v-160H620v160ZM180-180h160v-160H180v160Zm440 0h160v-160H620v160Z\"/>\n",
              "  </svg>\n",
              "    </button>\n",
              "\n",
              "  <style>\n",
              "    .colab-df-container {\n",
              "      display:flex;\n",
              "      gap: 12px;\n",
              "    }\n",
              "\n",
              "    .colab-df-convert {\n",
              "      background-color: #E8F0FE;\n",
              "      border: none;\n",
              "      border-radius: 50%;\n",
              "      cursor: pointer;\n",
              "      display: none;\n",
              "      fill: #1967D2;\n",
              "      height: 32px;\n",
              "      padding: 0 0 0 0;\n",
              "      width: 32px;\n",
              "    }\n",
              "\n",
              "    .colab-df-convert:hover {\n",
              "      background-color: #E2EBFA;\n",
              "      box-shadow: 0px 1px 2px rgba(60, 64, 67, 0.3), 0px 1px 3px 1px rgba(60, 64, 67, 0.15);\n",
              "      fill: #174EA6;\n",
              "    }\n",
              "\n",
              "    .colab-df-buttons div {\n",
              "      margin-bottom: 4px;\n",
              "    }\n",
              "\n",
              "    [theme=dark] .colab-df-convert {\n",
              "      background-color: #3B4455;\n",
              "      fill: #D2E3FC;\n",
              "    }\n",
              "\n",
              "    [theme=dark] .colab-df-convert:hover {\n",
              "      background-color: #434B5C;\n",
              "      box-shadow: 0px 1px 3px 1px rgba(0, 0, 0, 0.15);\n",
              "      filter: drop-shadow(0px 1px 2px rgba(0, 0, 0, 0.3));\n",
              "      fill: #FFFFFF;\n",
              "    }\n",
              "  </style>\n",
              "\n",
              "    <script>\n",
              "      const buttonEl =\n",
              "        document.querySelector('#df-0d566703-16a7-4fc2-a506-2571069865ba button.colab-df-convert');\n",
              "      buttonEl.style.display =\n",
              "        google.colab.kernel.accessAllowed ? 'block' : 'none';\n",
              "\n",
              "      async function convertToInteractive(key) {\n",
              "        const element = document.querySelector('#df-0d566703-16a7-4fc2-a506-2571069865ba');\n",
              "        const dataTable =\n",
              "          await google.colab.kernel.invokeFunction('convertToInteractive',\n",
              "                                                    [key], {});\n",
              "        if (!dataTable) return;\n",
              "\n",
              "        const docLinkHtml = 'Like what you see? Visit the ' +\n",
              "          '<a target=\"_blank\" href=https://colab.research.google.com/notebooks/data_table.ipynb>data table notebook</a>'\n",
              "          + ' to learn more about interactive tables.';\n",
              "        element.innerHTML = '';\n",
              "        dataTable['output_type'] = 'display_data';\n",
              "        await google.colab.output.renderOutput(dataTable, element);\n",
              "        const docLink = document.createElement('div');\n",
              "        docLink.innerHTML = docLinkHtml;\n",
              "        element.appendChild(docLink);\n",
              "      }\n",
              "    </script>\n",
              "  </div>\n",
              "\n",
              "    </div>\n",
              "  </div>\n"
            ]
          },
          "metadata": {},
          "execution_count": 3
        }
      ]
    },
    {
      "cell_type": "code",
      "source": [
        "ticker_list = 'TGT TSLA F GM  MSFT ETSY SPOT NVDA AMD META BABA PYPL NFLX SQ CRM XOM TEAM TWLO V UNH JPM SBUX ADBE BA NIO BAC PANW SNOW COP PDD CVX AVGO FIS EL MRNA QCOM WFC HD INTC OXY ENPH PFE INTU GS CAT NKE DIS TMUS TXN LLY MU CRWD MA NOW LRCX SHOP CVX AMGN JNJ CMCSA MCD DKNG SLB MRK TMO BILL CSCO ROKU HON HUM NET AMAT PG DHR T ADI CI MCHP SCHW PEP LMT WMT C WDAY VZ ACN BMY MRVL DDOG MNST EXP GM ILMN MRO KO IBM PNC ORCL ZS DOW ANET ADSK PLTR FSLR MAR AXP HAL CCL MDB FTNT UAL RTX BIDU VLO AAL UPS RCL HPQ PGR TJX LVS ADP CNC YUM GD OKTA PINS LULU DAL DPZ ATVI SNAP ZM EBAY AEP CL EA SNPS MGM MTCH WB TTWO PAYC LCID DOCU ZI BILI PLUG K COF SPLK CHWY PTON BURL LUV Z LYFT AKAM UBER'.split()\n",
        "ticker_list = tuple(ticker_list)\n",
        "#These are a list of stocks that we are looking at"
      ],
      "metadata": {
        "id": "e2bswx5L6zAv"
      },
      "execution_count": null,
      "outputs": []
    },
    {
      "cell_type": "code",
      "source": [
        "start = dt.date.today() - dt.timedelta(days = int(365.25*1.5))\n",
        "mid = dt.date.today() - dt.timedelta(days = int(365.25*0.5))\n",
        "end = dt.date.today()\n",
        "#We are doing time series analysis, based on difference between start and end"
      ],
      "metadata": {
        "id": "CpjCj2H47XgZ"
      },
      "execution_count": null,
      "outputs": []
    },
    {
      "cell_type": "code",
      "source": [
        "print(start, mid, end)"
      ],
      "metadata": {
        "colab": {
          "base_uri": "https://localhost:8080/"
        },
        "id": "vaJVBBN39UUk",
        "outputId": "9c67e1f9-0b06-4301-dc34-f5b877a71d00"
      },
      "execution_count": null,
      "outputs": [
        {
          "output_type": "stream",
          "name": "stdout",
          "text": [
            "2022-05-15 2023-05-15 2023-11-13\n"
          ]
        }
      ]
    },
    {
      "cell_type": "code",
      "source": [
        "yf.__version__"
      ],
      "metadata": {
        "id": "ZYS2K-Ju9pzk",
        "outputId": "a2e1c511-6019-4fd7-d27c-3672e73aeca5",
        "colab": {
          "base_uri": "https://localhost:8080/",
          "height": 35
        }
      },
      "execution_count": null,
      "outputs": [
        {
          "output_type": "execute_result",
          "data": {
            "text/plain": [
              "'0.2.31'"
            ],
            "application/vnd.google.colaboratory.intrinsic+json": {
              "type": "string"
            }
          },
          "metadata": {},
          "execution_count": 7
        }
      ]
    },
    {
      "cell_type": "code",
      "source": [
        "dataset = yf.download(list(ticker_list), start=start, end=mid)"
      ],
      "metadata": {
        "colab": {
          "base_uri": "https://localhost:8080/"
        },
        "id": "2Y4bXDxe_I_Z",
        "outputId": "005c0729-3410-4cdd-ee81-a548729f102b"
      },
      "execution_count": null,
      "outputs": [
        {
          "output_type": "stream",
          "name": "stdout",
          "text": [
            "[*********************100%%**********************]  157 of 157 completed\n"
          ]
        }
      ]
    },
    {
      "cell_type": "code",
      "source": [
        "data = dataset"
      ],
      "metadata": {
        "id": "xH4jy6k2_-fM"
      },
      "execution_count": null,
      "outputs": []
    },
    {
      "cell_type": "code",
      "source": [
        "dataset = data['Adj Close']\n",
        "\"\"\"the pdr get_data_yahoo function pulls yahoo finance data for all the stocks in ticker_list from start to mid.\n",
        "the returned columns are Open, High, Low, Adj Close, Close, and Volume.\"\"\"\n",
        "\n",
        "\n",
        "stocks_returns = np.log(dataset/dataset.shift(1))\n",
        "print(stocks_returns)\n",
        "\n",
        "\"\"\"\n",
        "This accounts for the inherent asymmetry that stocks can only go down 100% but can go up\n",
        "unlimited amounts. In other words, it rescales [-100, infinity] to [-infinity, infinity]\"\"\"\n",
        "corr_matrix = stocks_returns.corr()\n",
        "print(corr_matrix)\n",
        "\n",
        "\"\"\"\n",
        "The .corr() function calculates the correlation between two time series\n",
        "For this case, we'll take the pairwise correlations between every pair of\n",
        "stocks and use the highest pairs as candidates for cointegration.\n",
        "\"\"\""
      ],
      "metadata": {
        "colab": {
          "base_uri": "https://localhost:8080/",
          "height": 1000
        },
        "id": "h6CE5ZhUAeZ6",
        "outputId": "cac0f75a-e26f-4681-e91f-d03debdd6900"
      },
      "execution_count": null,
      "outputs": [
        {
          "output_type": "stream",
          "name": "stdout",
          "text": [
            "                 AAL       ACN      ADBE       ADI       ADP      ADSK  \\\n",
            "Date                                                                     \n",
            "2022-05-16       NaN       NaN       NaN       NaN       NaN       NaN   \n",
            "2022-05-17  0.073935  0.016978  0.016714  0.039846  0.030033  0.015765   \n",
            "2022-05-18 -0.053600 -0.059852 -0.029153 -0.024217 -0.030513 -0.039941   \n",
            "2022-05-19 -0.008323 -0.002008 -0.008836  0.006358 -0.007945  0.030078   \n",
            "2022-05-20 -0.029690  0.011049  0.011872  0.009277  0.008616 -0.011996   \n",
            "...              ...       ...       ...       ...       ...       ...   \n",
            "2023-05-08  0.034718 -0.003129 -0.012535  0.006143 -0.005631 -0.015249   \n",
            "2023-05-09  0.007631 -0.005073 -0.004107 -0.026914 -0.002851  0.003847   \n",
            "2023-05-10 -0.009025  0.020325  0.003990  0.010026  0.006299  0.018456   \n",
            "2023-05-11 -0.019008  0.012492 -0.007118 -0.004641 -0.024482 -0.016538   \n",
            "2023-05-12 -0.003560  0.017909 -0.018109 -0.000111  0.013868  0.006967   \n",
            "\n",
            "                 AEP      AKAM      AMAT       AMD  ...        WB      WDAY  \\\n",
            "Date                                                ...                       \n",
            "2022-05-16       NaN       NaN       NaN       NaN  ...       NaN       NaN   \n",
            "2022-05-17  0.010111 -0.005372  0.055971  0.083725  ...  0.014524 -0.015570   \n",
            "2022-05-18 -0.005193 -0.023030 -0.048217 -0.062309  ...  0.000000 -0.061812   \n",
            "2022-05-19 -0.008446  0.023944 -0.005403  0.004042  ... -0.001862  0.009589   \n",
            "2022-05-20  0.006642 -0.009899 -0.039416 -0.033342  ...  0.009738  0.008895   \n",
            "...              ...       ...       ...       ...  ...       ...       ...   \n",
            "2023-05-08  0.000326  0.010006 -0.002675  0.056268  ... -0.011050 -0.010413   \n",
            "2023-05-09 -0.002303 -0.005941 -0.016639  0.000210  ... -0.036459 -0.006536   \n",
            "2023-05-10  0.006783  0.081056  0.013697  0.020409  ... -0.008357  0.005422   \n",
            "2023-05-11 -0.011404  0.004432  0.000433  0.000824  ...  0.033643 -0.006038   \n",
            "2023-05-12  0.010749 -0.007008  0.005442 -0.019131  ... -0.006890  0.024594   \n",
            "\n",
            "                 WFC       WMT       XOM       YUM         Z        ZI  \\\n",
            "Date                                                                     \n",
            "2022-05-16       NaN       NaN       NaN       NaN       NaN       NaN   \n",
            "2022-05-17  0.034920 -0.120765  0.012674  0.002582  0.064254  0.035075   \n",
            "2022-05-18 -0.037292 -0.070326 -0.015978 -0.027127 -0.017008 -0.067294   \n",
            "2022-05-19 -0.002616 -0.027828  0.005391  0.004648  0.043958 -0.027790   \n",
            "2022-05-20 -0.007888  0.001091  0.007869  0.017577 -0.054401 -0.010781   \n",
            "...              ...       ...       ...       ...       ...       ...   \n",
            "2023-05-08  0.011531  0.006240  0.003949 -0.007007 -0.008872  0.026886   \n",
            "2023-05-09  0.004160  0.001701  0.000275  0.007879 -0.015877 -0.032253   \n",
            "2023-05-10 -0.006769 -0.002815 -0.012911  0.000944 -0.003164  0.031779   \n",
            "2023-05-11  0.001305  0.003729 -0.018265 -0.002908 -0.034601  0.004256   \n",
            "2023-05-12 -0.022159 -0.000327 -0.000095  0.008483 -0.020100 -0.027753   \n",
            "\n",
            "                  ZM        ZS  \n",
            "Date                            \n",
            "2022-05-16       NaN       NaN  \n",
            "2022-05-17  0.022463  0.012063  \n",
            "2022-05-18 -0.071202 -0.101543  \n",
            "2022-05-19  0.071202  0.032339  \n",
            "2022-05-20 -0.013283  0.034106  \n",
            "...              ...       ...  \n",
            "2023-05-08 -0.007441  0.187599  \n",
            "2023-05-09  0.009961  0.019499  \n",
            "2023-05-10  0.013595  0.059488  \n",
            "2023-05-11  0.000310 -0.011800  \n",
            "2023-05-12 -0.011862 -0.009489  \n",
            "\n",
            "[250 rows x 157 columns]\n",
            "           AAL       ACN      ADBE       ADI       ADP      ADSK       AEP  \\\n",
            "AAL   1.000000  0.522855  0.434154  0.538495  0.471115  0.529127  0.246818   \n",
            "ACN   0.522855  1.000000  0.671472  0.693512  0.733309  0.700991  0.419609   \n",
            "ADBE  0.434154  0.671472  1.000000  0.638878  0.582915  0.718651  0.358967   \n",
            "ADI   0.538495  0.693512  0.638878  1.000000  0.661010  0.663266  0.398491   \n",
            "ADP   0.471115  0.733309  0.582915  0.661010  1.000000  0.620693  0.554278   \n",
            "...        ...       ...       ...       ...       ...       ...       ...   \n",
            "YUM   0.406787  0.521721  0.423755  0.515997  0.572185  0.460381  0.463749   \n",
            "Z     0.569190  0.510165  0.523026  0.571094  0.492253  0.631124  0.282864   \n",
            "ZI    0.449247  0.514715  0.538849  0.498328  0.449806  0.636061  0.183391   \n",
            "ZM    0.451012  0.553599  0.511489  0.580162  0.469188  0.646852  0.233378   \n",
            "ZS    0.403242  0.565072  0.529534  0.525239  0.457441  0.641198  0.166982   \n",
            "\n",
            "          AKAM      AMAT       AMD  ...        WB      WDAY       WFC  \\\n",
            "AAL   0.398930  0.562576  0.532977  ...  0.241906  0.378579  0.552950   \n",
            "ACN   0.628740  0.690101  0.630453  ...  0.301880  0.630537  0.537877   \n",
            "ADBE  0.560749  0.628030  0.622219  ...  0.214998  0.626631  0.383839   \n",
            "ADI   0.450193  0.824347  0.733359  ...  0.291790  0.577374  0.480876   \n",
            "ADP   0.539768  0.609197  0.553075  ...  0.171390  0.570469  0.504871   \n",
            "...        ...       ...       ...  ...       ...       ...       ...   \n",
            "YUM   0.454073  0.454063  0.438971  ...  0.191181  0.406246  0.454405   \n",
            "Z     0.432583  0.566546  0.590618  ...  0.375369  0.543849  0.395692   \n",
            "ZI    0.440168  0.497813  0.528142  ...  0.249389  0.587080  0.271482   \n",
            "ZM    0.450925  0.571295  0.566498  ...  0.339116  0.598389  0.355226   \n",
            "ZS    0.462204  0.512474  0.569711  ...  0.275970  0.578724  0.329387   \n",
            "\n",
            "           WMT       XOM       YUM         Z        ZI        ZM        ZS  \n",
            "AAL   0.147094  0.273666  0.406787  0.569190  0.449247  0.451012  0.403242  \n",
            "ACN   0.358332  0.338776  0.521721  0.510165  0.514715  0.553599  0.565072  \n",
            "ADBE  0.280404  0.314789  0.423755  0.523026  0.538849  0.511489  0.529534  \n",
            "ADI   0.265901  0.348297  0.515997  0.571094  0.498328  0.580162  0.525239  \n",
            "ADP   0.370651  0.345024  0.572185  0.492253  0.449806  0.469188  0.457441  \n",
            "...        ...       ...       ...       ...       ...       ...       ...  \n",
            "YUM   0.359026  0.300601  1.000000  0.420512  0.295272  0.367259  0.317827  \n",
            "Z     0.183322  0.210992  0.420512  1.000000  0.537667  0.580367  0.511734  \n",
            "ZI    0.181203  0.187558  0.295272  0.537667  1.000000  0.503561  0.624903  \n",
            "ZM    0.252975  0.176084  0.367259  0.580367  0.503561  1.000000  0.585639  \n",
            "ZS    0.303696  0.219704  0.317827  0.511734  0.624903  0.585639  1.000000  \n",
            "\n",
            "[157 rows x 157 columns]\n"
          ]
        },
        {
          "output_type": "execute_result",
          "data": {
            "text/plain": [
              "\"\\nThe .corr() function calculates the correlation between two time series\\nFor this case, we'll take the pairwise correlations between every pair of\\nstocks and use the highest pairs as candidates for cointegration.\\n\""
            ],
            "application/vnd.google.colaboratory.intrinsic+json": {
              "type": "string"
            }
          },
          "metadata": {},
          "execution_count": 10
        }
      ]
    },
    {
      "cell_type": "code",
      "source": [
        "processed_corr = corr_matrix.mask(np.tril(np.ones(corr_matrix.shape)).astype(bool))\n",
        "#Set diagonal elements and lower triangular elements to nans\n",
        "#Serves to remove duplicates and 1-correlations between an element and itself\n",
        "s =  processed_corr.unstack()\n",
        "#Reshapes the correlation matrix into a list of ((row, column), correlation value) pairs\n",
        "so = s.sort_values(kind=\"quicksort\", ascending = False)\n",
        "#Sort the pairs by correlation value\n",
        "display(so[:30])"
      ],
      "metadata": {
        "colab": {
          "base_uri": "https://localhost:8080/",
          "height": 555
        },
        "id": "w9ipnAcOAkGU",
        "outputId": "d0d73fe3-f50c-4d02-997d-ce860cdee276"
      },
      "execution_count": null,
      "outputs": [
        {
          "output_type": "display_data",
          "data": {
            "text/plain": [
              "LRCX  AMAT    0.930455\n",
              "V     MA      0.908841\n",
              "MCHP  ADI     0.904249\n",
              "UAL   AAL     0.904211\n",
              "XOM   CVX     0.900568\n",
              "SLB   HAL     0.900389\n",
              "DAL   AAL     0.889642\n",
              "MRO   COP     0.889620\n",
              "TMO   DHR     0.885591\n",
              "RCL   CCL     0.882802\n",
              "UAL   DAL     0.881507\n",
              "XOM   COP     0.879123\n",
              "CVX   COP     0.871931\n",
              "TXN   MCHP    0.869871\n",
              "MRO   HAL     0.867678\n",
              "MCHP  AMAT    0.865956\n",
              "XOM   MRO     0.865092\n",
              "JPM   BAC     0.863231\n",
              "TXN   ADI     0.860883\n",
              "GM    F       0.859661\n",
              "MRO   CVX     0.859620\n",
              "WFC   BAC     0.858507\n",
              "NVDA  AMD     0.853575\n",
              "      MRVL    0.850188\n",
              "PEP   KO      0.847536\n",
              "XOM   HAL     0.844516\n",
              "MRVL  MCHP    0.839010\n",
              "TXN   AMAT    0.838939\n",
              "HAL   COP     0.837478\n",
              "MDB   DDOG    0.834287\n",
              "dtype: float64"
            ]
          },
          "metadata": {}
        }
      ]
    },
    {
      "cell_type": "code",
      "source": [
        "print(s)"
      ],
      "metadata": {
        "colab": {
          "base_uri": "https://localhost:8080/"
        },
        "id": "QwsZm8oSSGS-",
        "outputId": "74512a35-a42a-4905-ee0a-88c04f4bbcd6"
      },
      "execution_count": null,
      "outputs": [
        {
          "output_type": "stream",
          "name": "stdout",
          "text": [
            "AAL  AAL          NaN\n",
            "     ACN          NaN\n",
            "     ADBE         NaN\n",
            "     ADI          NaN\n",
            "     ADP          NaN\n",
            "               ...   \n",
            "ZS   YUM     0.317827\n",
            "     Z       0.511734\n",
            "     ZI      0.624903\n",
            "     ZM      0.585639\n",
            "     ZS           NaN\n",
            "Length: 24649, dtype: float64\n"
          ]
        }
      ]
    },
    {
      "cell_type": "markdown",
      "source": [
        "Based on the Results, LRCX and AMAT have the highest correlation."
      ],
      "metadata": {
        "id": "g5N0NgTSF9m5"
      }
    },
    {
      "cell_type": "code",
      "source": [
        "correlations_with_AMAT = processed_corr.loc['AMAT']"
      ],
      "metadata": {
        "id": "Wi5NZfJHRqx_"
      },
      "execution_count": null,
      "outputs": []
    },
    {
      "cell_type": "code",
      "source": [
        "correlations_with_AMAT.sort_values(inplace = True, ascending = False)\n",
        "print(correlations_with_AMAT[:15])"
      ],
      "metadata": {
        "colab": {
          "base_uri": "https://localhost:8080/"
        },
        "id": "wDB6JZjCSjnA",
        "outputId": "d9a62e5c-bfd4-4437-eec8-ad3530553dc7"
      },
      "execution_count": null,
      "outputs": [
        {
          "output_type": "stream",
          "name": "stdout",
          "text": [
            "LRCX    0.930455\n",
            "MCHP    0.865956\n",
            "TXN     0.838939\n",
            "MRVL    0.829167\n",
            "AVGO    0.809508\n",
            "NVDA    0.809047\n",
            "AMD     0.799795\n",
            "QCOM    0.791421\n",
            "MU      0.751416\n",
            "HPQ     0.750207\n",
            "INTC    0.730035\n",
            "MA      0.716003\n",
            "SNPS    0.693064\n",
            "INTU    0.679708\n",
            "SQ      0.658263\n",
            "Name: AMAT, dtype: float64\n"
          ]
        }
      ]
    },
    {
      "cell_type": "code",
      "source": [
        "stocks = yf.download(['LRCX', 'TXN', 'AVGO', 'NVDA', 'AMAT'], start, mid)['Adj Close']\n",
        "# Pull data for closes\n",
        "stocks['LRCX_1d_return'] = np.log(stocks['LRCX']/stocks['LRCX'].shift(1))\n",
        "stocks['AMAT_1d_return'] = np.log(stocks['AMAT']/stocks['AMAT'].shift(1))\n",
        "# Calculate daily returns"
      ],
      "metadata": {
        "colab": {
          "base_uri": "https://localhost:8080/"
        },
        "id": "lzWmrC6uAm2A",
        "outputId": "caef755d-2d3f-4a86-e363-1318679e9d7a"
      },
      "execution_count": null,
      "outputs": [
        {
          "output_type": "stream",
          "name": "stdout",
          "text": [
            "[*********************100%%**********************]  5 of 5 completed\n"
          ]
        }
      ]
    },
    {
      "cell_type": "code",
      "source": [
        "print(stocks)"
      ],
      "metadata": {
        "colab": {
          "base_uri": "https://localhost:8080/"
        },
        "id": "Dzq3vZ0GHDZX",
        "outputId": "fb976950-c936-46e3-ad9f-62e2406a0520"
      },
      "execution_count": null,
      "outputs": [
        {
          "output_type": "stream",
          "name": "stdout",
          "text": [
            "                  AMAT        AVGO        LRCX        NVDA         TXN  \\\n",
            "Date                                                                     \n",
            "2022-05-16  108.888733  558.239868  472.755524  172.446747  161.020569   \n",
            "2022-05-17  115.157127  582.651489  501.955536  181.566528  167.212906   \n",
            "2022-05-18  109.736343  546.647217  467.865936  169.190414  162.740677   \n",
            "2022-05-19  109.144981  523.308594  462.623688  171.048340  160.179611   \n",
            "2022-05-20  104.926643  520.415161  464.573608  166.753143  162.272400   \n",
            "...                ...         ...         ...         ...         ...   \n",
            "2023-05-08  115.202583  622.336914  523.758789  291.455841  161.592957   \n",
            "2023-05-09  113.301613  611.899658  512.802246  285.656891  160.392456   \n",
            "2023-05-10  114.864197  619.576782  524.265869  288.796326  160.441666   \n",
            "2023-05-11  114.913948  620.961731  524.444824  285.726898  158.591751   \n",
            "2023-05-12  115.540970  624.404602  524.067017  283.347321  159.290390   \n",
            "\n",
            "            LRCX_1d_return  AMAT_1d_return  \n",
            "Date                                        \n",
            "2022-05-16             NaN             NaN  \n",
            "2022-05-17        0.059933        0.055971  \n",
            "2022-05-18       -0.070330       -0.048217  \n",
            "2022-05-19       -0.011268       -0.005404  \n",
            "2022-05-20        0.004206       -0.039416  \n",
            "...                    ...             ...  \n",
            "2023-05-08       -0.005622       -0.002675  \n",
            "2023-05-09       -0.021141       -0.016639  \n",
            "2023-05-10        0.022109        0.013697  \n",
            "2023-05-11        0.000341        0.000433  \n",
            "2023-05-12       -0.000721        0.005442  \n",
            "\n",
            "[250 rows x 7 columns]\n"
          ]
        }
      ]
    },
    {
      "cell_type": "code",
      "source": [
        "import numpy as np\n",
        "\n",
        "stocks.dropna(inplace = True)\n"
      ],
      "metadata": {
        "id": "dBE3FvK0GI89"
      },
      "execution_count": null,
      "outputs": []
    },
    {
      "cell_type": "code",
      "source": [
        "from sklearn.linear_model import LinearRegression\n",
        "from sklearn.metrics import mean_squared_error\n",
        "X = stocks[['LRCX']]\n",
        "y = stocks[['AMAT']]\n",
        "model = LinearRegression()\n",
        "model.fit(X, y)\n",
        "print(model.coef_, model.intercept_)\n",
        "predicted_Y = model.predict(X)\n",
        "mse = mean_squared_error(y, predicted_Y)\n",
        "print(f\"Mean Squared Error: {mse}\")\n",
        "#Simple baseline linear regression"
      ],
      "metadata": {
        "colab": {
          "base_uri": "https://localhost:8080/"
        },
        "id": "FhnS-oDROKUQ",
        "outputId": "59b11d8d-fe4f-4875-ad61-6f8809cbbbd5"
      },
      "execution_count": null,
      "outputs": [
        {
          "output_type": "stream",
          "name": "stdout",
          "text": [
            "[[0.22819864]] [-0.77275024]\n",
            "Mean Squared Error: 16.056440833495206\n"
          ]
        }
      ]
    },
    {
      "cell_type": "code",
      "source": [
        "from sklearn.metrics import r2_score\n",
        "r2 = model.score(X, y)\n",
        "print(r2)"
      ],
      "metadata": {
        "colab": {
          "base_uri": "https://localhost:8080/"
        },
        "id": "YHq0Ittv2343",
        "outputId": "d1e98a20-75b4-4595-ff78-76ab5480e124"
      },
      "execution_count": null,
      "outputs": [
        {
          "output_type": "stream",
          "name": "stdout",
          "text": [
            "0.8897257388576907\n"
          ]
        }
      ]
    },
    {
      "cell_type": "code",
      "source": [
        "from sklearn.linear_model import LinearRegression\n",
        "from sklearn.metrics import mean_squared_error\n",
        "X = stocks[['LRCX', 'TXN', 'AVGO', 'NVDA']]\n",
        "y = stocks[['AMAT']]\n",
        "model2 = LinearRegression()\n",
        "model2.fit(X, y)\n",
        "print(model2.coef_, model2.intercept_)\n",
        "predicted_Y = model2.predict(X)\n",
        "mse = mean_squared_error(y, predicted_Y)\n",
        "print(f\"Mean Squared Error: {mse}\")\n",
        "#Simple baseline linear regression"
      ],
      "metadata": {
        "colab": {
          "base_uri": "https://localhost:8080/"
        },
        "id": "XT8d1VB6QseG",
        "outputId": "da5fa160-d437-4b6a-9b75-cd7d5596cfd3"
      },
      "execution_count": null,
      "outputs": [
        {
          "output_type": "stream",
          "name": "stdout",
          "text": [
            "[[ 0.1308858   0.15913377  0.09511888 -0.02897233]] [-27.99797296]\n",
            "Mean Squared Error: 7.302853829928036\n"
          ]
        }
      ]
    },
    {
      "cell_type": "code",
      "source": [
        "end_stocks = yf.download(['LRCX', 'TXN', 'AVGO', 'NVDA', 'AMAT'], mid, end)['Adj Close']\n"
      ],
      "metadata": {
        "id": "_6vDOs1bUKuL",
        "colab": {
          "base_uri": "https://localhost:8080/"
        },
        "outputId": "3a6e9709-14ae-4d0e-a681-d814ca989206"
      },
      "execution_count": null,
      "outputs": [
        {
          "output_type": "stream",
          "name": "stdout",
          "text": [
            "[*********************100%%**********************]  5 of 5 completed\n"
          ]
        }
      ]
    },
    {
      "cell_type": "code",
      "source": [
        "pred_end_y = model.predict(end_stocks[['LRCX']])\n",
        "mse = mean_squared_error(end_stocks['AMAT'], pred_end_y)\n",
        "print(\"Mean Squared Error of simple linear regression is \" + str(mse))"
      ],
      "metadata": {
        "colab": {
          "base_uri": "https://localhost:8080/"
        },
        "id": "_szmGa4VWAdc",
        "outputId": "03adb68f-ce51-4c3b-fd3a-26d0971c5dbf"
      },
      "execution_count": null,
      "outputs": [
        {
          "output_type": "stream",
          "name": "stdout",
          "text": [
            "Mean Squared Error of simple linear regression is 26.86718459251362\n"
          ]
        }
      ]
    },
    {
      "cell_type": "code",
      "source": [
        "r2 = model.score(end_stocks[['LRCX']], end_stocks['AMAT'])\n",
        "print(r2)"
      ],
      "metadata": {
        "colab": {
          "base_uri": "https://localhost:8080/"
        },
        "id": "TE3ne01M3iDL",
        "outputId": "d9a554b9-1069-4332-a54d-aa08c5565a1e"
      },
      "execution_count": null,
      "outputs": [
        {
          "output_type": "stream",
          "name": "stdout",
          "text": [
            "0.42104703490212203\n"
          ]
        }
      ]
    },
    {
      "cell_type": "code",
      "source": [
        "pred_end_y = model2.predict(end_stocks[['LRCX', 'TXN', 'AVGO', 'NVDA']])\n",
        "mse = mean_squared_error(end_stocks['AMAT'], pred_end_y)\n",
        "print(\"Mean Squared Error of linear regression with multiple variables is \" + str(mse))"
      ],
      "metadata": {
        "colab": {
          "base_uri": "https://localhost:8080/"
        },
        "id": "LXSgeBTUWlmP",
        "outputId": "87cc05dc-d63d-4a4c-f952-d0e61642ad12"
      },
      "execution_count": null,
      "outputs": [
        {
          "output_type": "stream",
          "name": "stdout",
          "text": [
            "Mean Squared Error of linear regression with multiple variables is 97.08240474008137\n"
          ]
        }
      ]
    },
    {
      "cell_type": "code",
      "source": [
        "r2 = model2.score(end_stocks[['LRCX', 'TXN', 'AVGO', 'NVDA']], end_stocks['AMAT'])\n",
        "print(r2)"
      ],
      "metadata": {
        "colab": {
          "base_uri": "https://localhost:8080/"
        },
        "id": "AFwtXLt-3zZ3",
        "outputId": "edf63d83-542b-4bad-d54c-2ab0275bb790"
      },
      "execution_count": null,
      "outputs": [
        {
          "output_type": "stream",
          "name": "stdout",
          "text": [
            "-1.0919998479767732\n"
          ]
        }
      ]
    },
    {
      "cell_type": "code",
      "source": [
        "\n",
        "thresh = 0.8\n",
        "#hyperparameter\n",
        "flag_buy = (((stocks['LRCX_1d_return']) / stocks['LRCX_1d_return'].std() - (stocks['AMAT_1d_return']) / stocks['AMAT_1d_return'].std()) > thresh).astype(int)\n",
        "flag_sell = (((stocks['LRCX_1d_return']) / stocks['LRCX_1d_return'].std() - (stocks['AMAT_1d_return']) / stocks['AMAT_1d_return'].std()) < -thresh).astype(int)\n",
        "# Integer flags for when to buy/sell AMAT -- buy when LRCX goes up >0.8 stdevs more than AMAT or LRCX goes down 0.8 stdevs more than AMAT\n",
        "flag = flag_buy - flag_sell\n",
        "profs = flag.shift() * stocks['AMAT_1d_return']\n",
        "#Calculate daily profits as position * return"
      ],
      "metadata": {
        "id": "rAup6uGVA6Rz"
      },
      "execution_count": null,
      "outputs": []
    },
    {
      "cell_type": "code",
      "source": [
        "flag"
      ],
      "metadata": {
        "colab": {
          "base_uri": "https://localhost:8080/"
        },
        "id": "SvgSS5IgA8rc",
        "outputId": "d2226e83-3e52-4038-b5b6-a2c307342daa"
      },
      "execution_count": null,
      "outputs": [
        {
          "output_type": "execute_result",
          "data": {
            "text/plain": [
              "Date\n",
              "2022-05-13    0\n",
              "2022-05-16    0\n",
              "2022-05-17    0\n",
              "2022-05-18    0\n",
              "2022-05-19    0\n",
              "             ..\n",
              "2023-05-08    0\n",
              "2023-05-09    0\n",
              "2023-05-10    0\n",
              "2023-05-11    0\n",
              "2023-05-12    0\n",
              "Length: 251, dtype: int64"
            ]
          },
          "metadata": {},
          "execution_count": 24
        }
      ]
    },
    {
      "cell_type": "code",
      "source": [
        "profs.sum()"
      ],
      "metadata": {
        "colab": {
          "base_uri": "https://localhost:8080/"
        },
        "id": "1EU0RaIpBAFU",
        "outputId": "7da6ac8e-f24d-4163-dd3e-fb64d8820f61"
      },
      "execution_count": null,
      "outputs": [
        {
          "output_type": "execute_result",
          "data": {
            "text/plain": [
              "0.26166715749329683"
            ]
          },
          "metadata": {},
          "execution_count": 25
        }
      ]
    },
    {
      "cell_type": "code",
      "source": [
        "profs[profs!=0].mean() / (profs[profs!=0].std() * abs(flag).sum()**(-1/2))\n",
        "#Filter to places where daily profit isn't 0 (so a trade was made) and do a t-test"
      ],
      "metadata": {
        "colab": {
          "base_uri": "https://localhost:8080/"
        },
        "id": "8lLBwRl1Bm6m",
        "outputId": "27027663-10f3-43c9-801a-ed641831ca87"
      },
      "execution_count": null,
      "outputs": [
        {
          "output_type": "execute_result",
          "data": {
            "text/plain": [
              "4.163355415127164"
            ]
          },
          "metadata": {},
          "execution_count": 26
        }
      ]
    },
    {
      "cell_type": "code",
      "source": [
        "profs.cumsum().plot()\n",
        "#cumulative sum of returns over time == PNL"
      ],
      "metadata": {
        "colab": {
          "base_uri": "https://localhost:8080/",
          "height": 451
        },
        "id": "8tzuaiedBnYt",
        "outputId": "13516a85-bca7-4cfa-fdeb-b7a8525bb5cf"
      },
      "execution_count": null,
      "outputs": [
        {
          "output_type": "execute_result",
          "data": {
            "text/plain": [
              "<Axes: xlabel='Date'>"
            ]
          },
          "metadata": {},
          "execution_count": 27
        },
        {
          "output_type": "display_data",
          "data": {
            "text/plain": [
              "<Figure size 640x480 with 1 Axes>"
            ],
            "image/png": "[encoded data removed]"
          },
          "metadata": {}
        }
      ]
    },
    {
      "cell_type": "code",
      "source": [
        "stocks = yf.download(['LRCX', 'AMAT'], start, mid)['Adj Close']\n",
        "# Pull data for closes\n",
        "stocks['LRCX_1d_return'] = np.log(stocks['LRCX']/stocks['LRCX'].shift(1))\n",
        "stocks['AMAT_1d_return'] = np.log(stocks['AMAT']/stocks['AMAT'].shift(1))\n",
        "# Calculate daily returns\n",
        "thresh =0.8\n",
        "#hyperparameter\n",
        "flag_buy = (((stocks['LRCX_1d_return']) / stocks['LRCX_1d_return'].std() - (stocks['AMAT_1d_return']) / stocks['AMAT_1d_return'].std()) > thresh).astype(int)\n",
        "flag_sell = (((stocks['LRCX_1d_return']) / stocks['LRCX_1d_return'].std() - (stocks['AMAT_1d_return']) / stocks['AMAT_1d_return'].std()) < -thresh).astype(int)\n",
        "# Integer flags for when to buy/sell AMAT -- buy when LRCX goes up >0.8 stdevs more than AMAT or LRCX goes down 0.8 stdevs more than AMAT\n",
        "flag = flag_buy - flag_sell\n",
        "profs = flag.shift() * stocks['AMAT_1d_return']\n",
        "#Calculate daily profits as position * return\n",
        "print(profs.sum())\n",
        "#Sum of total returns -- pretty good\n",
        "print(profs[profs!=0].mean() / (profs[profs!=0].std() * abs(flag).sum()**(-1/2)))\n",
        "#Filter to places where daily profit isn't 0 (so a trade was made) and do a t-test\n",
        "profs.cumsum().plot()\n",
        "#cumulative sum of returns over time == PNL\n",
        "#Still profitable, but much less impressive"
      ],
      "metadata": {
        "colab": {
          "base_uri": "https://localhost:8080/",
          "height": 502
        },
        "id": "SOiymox7BryB",
        "outputId": "5c21efd3-d24d-46ea-b419-507dd2804d64"
      },
      "execution_count": null,
      "outputs": [
        {
          "output_type": "stream",
          "name": "stdout",
          "text": [
            "\r[                       0%%                      ]\r[*********************100%%**********************]  2 of 2 completed\n",
            "0.26166709409966593\n",
            "4.1633577819450736\n"
          ]
        },
        {
          "output_type": "execute_result",
          "data": {
            "text/plain": [
              "<Axes: xlabel='Date'>"
            ]
          },
          "metadata": {},
          "execution_count": 28
        },
        {
          "output_type": "display_data",
          "data": {
            "text/plain": [
              "<Figure size 640x480 with 1 Axes>"
            ],
            "image/png": "[encoded data removed]"
          },
          "metadata": {}
        }
      ]
    },
    {
      "cell_type": "code",
      "source": [
        "stocks = yf.download(['LRCX', 'AMAT'], start, mid)[['Adj Close', 'Open']]\n",
        "\n",
        "\"\"\"\n",
        "We'll try something that has a better chance of actually being a trade -- mean reversion\n",
        "based on open/close prices. In the trade before, you always just get outcompeted by the\n",
        "firm that trades fastest before 4. In this one, you reasonably have a chance to get your trade\n",
        "\"\"\""
      ],
      "metadata": {
        "colab": {
          "base_uri": "https://localhost:8080/",
          "height": 70
        },
        "id": "_irMYdyTBtvf",
        "outputId": "0515d41d-1b29-4006-feb1-48adcf77688b"
      },
      "execution_count": null,
      "outputs": [
        {
          "output_type": "stream",
          "name": "stdout",
          "text": [
            "[*********************100%%**********************]  2 of 2 completed\n"
          ]
        },
        {
          "output_type": "execute_result",
          "data": {
            "text/plain": [
              "\"\\nWe'll try something that has a better chance of actually being a trade -- mean reversion\\nbased on open/close prices. In the trade before, you always just get outcompeted by the\\nfirm that trades fastest before 4. In this one, you reasonably have a chance to get your trade\\n\""
            ],
            "application/vnd.google.colaboratory.intrinsic+json": {
              "type": "string"
            }
          },
          "metadata": {},
          "execution_count": 29
        }
      ]
    },
    {
      "cell_type": "code",
      "source": [
        "stocks"
      ],
      "metadata": {
        "colab": {
          "base_uri": "https://localhost:8080/",
          "height": 486
        },
        "id": "3rjgIflxBvV8",
        "outputId": "bbc31fc8-3d4c-4e69-ce0d-d53ba28677eb"
      },
      "execution_count": null,
      "outputs": [
        {
          "output_type": "execute_result",
          "data": {
            "text/plain": [
              "             Adj Close                    Open            \n",
              "                  AMAT        LRCX        AMAT        LRCX\n",
              "Date                                                      \n",
              "2022-05-13  110.248848  482.015198  108.190002  465.600006\n",
              "2022-05-16  108.888741  472.755493  109.610001  486.420013\n",
              "2022-05-17  115.157127  501.955505  114.540001  495.019989\n",
              "2022-05-18  109.736343  467.865997  113.989998  500.519989\n",
              "2022-05-19  109.144989  462.623749  111.410004  479.500000\n",
              "...                ...         ...         ...         ...\n",
              "2023-05-08  115.202583  523.758789  116.870003  530.000000\n",
              "2023-05-09  113.301613  512.802246  114.080002  519.580017\n",
              "2023-05-10  114.864197  524.265869  115.519997  524.119995\n",
              "2023-05-11  114.913956  524.444824  115.300003  528.440002\n",
              "2023-05-12  115.540970  524.066956  116.709999  530.000000\n",
              "\n",
              "[251 rows x 4 columns]"
            ],
            "text/html": [
              "\n",
              "  <div id=\"df-36c7eed8-a051-47ed-8a4a-07dd06be5dc3\" class=\"colab-df-container\">\n",
              "    <div>\n",
              "<style scoped>\n",
              "    .dataframe tbody tr th:only-of-type {\n",
              "        vertical-align: middle;\n",
              "    }\n",
              "\n",
              "    .dataframe tbody tr th {\n",
              "        vertical-align: top;\n",
              "    }\n",
              "\n",
              "    .dataframe thead tr th {\n",
              "        text-align: left;\n",
              "    }\n",
              "\n",
              "    .dataframe thead tr:last-of-type th {\n",
              "        text-align: right;\n",
              "    }\n",
              "</style>\n",
              "<table border=\"1\" class=\"dataframe\">\n",
              "  <thead>\n",
              "    <tr>\n",
              "      <th></th>\n",
              "      <th colspan=\"2\" halign=\"left\">Adj Close</th>\n",
              "      <th colspan=\"2\" halign=\"left\">Open</th>\n",
              "    </tr>\n",
              "    <tr>\n",
              "      <th></th>\n",
              "      <th>AMAT</th>\n",
              "      <th>LRCX</th>\n",
              "      <th>AMAT</th>\n",
              "      <th>LRCX</th>\n",
              "    </tr>\n",
              "    <tr>\n",
              "      <th>Date</th>\n",
              "      <th></th>\n",
              "      <th></th>\n",
              "      <th></th>\n",
              "      <th></th>\n",
              "    </tr>\n",
              "  </thead>\n",
              "  <tbody>\n",
              "    <tr>\n",
              "      <th>2022-05-13</th>\n",
              "      <td>110.248848</td>\n",
              "      <td>482.015198</td>\n",
              "      <td>108.190002</td>\n",
              "      <td>465.600006</td>\n",
              "    </tr>\n",
              "    <tr>\n",
              "      <th>2022-05-16</th>\n",
              "      <td>108.888741</td>\n",
              "      <td>472.755493</td>\n",
              "      <td>109.610001</td>\n",
              "      <td>486.420013</td>\n",
              "    </tr>\n",
              "    <tr>\n",
              "      <th>2022-05-17</th>\n",
              "      <td>115.157127</td>\n",
              "      <td>501.955505</td>\n",
              "      <td>114.540001</td>\n",
              "      <td>495.019989</td>\n",
              "    </tr>\n",
              "    <tr>\n",
              "      <th>2022-05-18</th>\n",
              "      <td>109.736343</td>\n",
              "      <td>467.865997</td>\n",
              "      <td>113.989998</td>\n",
              "      <td>500.519989</td>\n",
              "    </tr>\n",
              "    <tr>\n",
              "      <th>2022-05-19</th>\n",
              "      <td>109.144989</td>\n",
              "      <td>462.623749</td>\n",
              "      <td>111.410004</td>\n",
              "      <td>479.500000</td>\n",
              "    </tr>\n",
              "    <tr>\n",
              "      <th>...</th>\n",
              "      <td>...</td>\n",
              "      <td>...</td>\n",
              "      <td>...</td>\n",
              "      <td>...</td>\n",
              "    </tr>\n",
              "    <tr>\n",
              "      <th>2023-05-08</th>\n",
              "      <td>115.202583</td>\n",
              "      <td>523.758789</td>\n",
              "      <td>116.870003</td>\n",
              "      <td>530.000000</td>\n",
              "    </tr>\n",
              "    <tr>\n",
              "      <th>2023-05-09</th>\n",
              "      <td>113.301613</td>\n",
              "      <td>512.802246</td>\n",
              "      <td>114.080002</td>\n",
              "      <td>519.580017</td>\n",
              "    </tr>\n",
              "    <tr>\n",
              "      <th>2023-05-10</th>\n",
              "      <td>114.864197</td>\n",
              "      <td>524.265869</td>\n",
              "      <td>115.519997</td>\n",
              "      <td>524.119995</td>\n",
              "    </tr>\n",
              "    <tr>\n",
              "      <th>2023-05-11</th>\n",
              "      <td>114.913956</td>\n",
              "      <td>524.444824</td>\n",
              "      <td>115.300003</td>\n",
              "      <td>528.440002</td>\n",
              "    </tr>\n",
              "    <tr>\n",
              "      <th>2023-05-12</th>\n",
              "      <td>115.540970</td>\n",
              "      <td>524.066956</td>\n",
              "      <td>116.709999</td>\n",
              "      <td>530.000000</td>\n",
              "    </tr>\n",
              "  </tbody>\n",
              "</table>\n",
              "<p>251 rows × 4 columns</p>\n",
              "</div>\n",
              "    <div class=\"colab-df-buttons\">\n",
              "\n",
              "  <div class=\"colab-df-container\">\n",
              "    <button class=\"colab-df-convert\" onclick=\"convertToInteractive('df-36c7eed8-a051-47ed-8a4a-07dd06be5dc3')\"\n",
              "            title=\"Convert this dataframe to an interactive table.\"\n",
              "            style=\"display:none;\">\n",
              "\n",
              "  <svg xmlns=\"http://www.w3.org/2000/svg\" height=\"24px\" viewBox=\"0 -960 960 960\">\n",
              "    <path d=\"M120-120v-720h720v720H120Zm60-500h600v-160H180v160Zm220 220h160v-160H400v160Zm0 220h160v-160H400v160ZM180-400h160v-160H180v160Zm440 0h160v-160H620v160ZM180-180h160v-160H180v160Zm440 0h160v-160H620v160Z\"/>\n",
              "  </svg>\n",
              "    </button>\n",
              "\n",
              "  <style>\n",
              "    .colab-df-container {\n",
              "      display:flex;\n",
              "      gap: 12px;\n",
              "    }\n",
              "\n",
              "    .colab-df-convert {\n",
              "      background-color: #E8F0FE;\n",
              "      border: none;\n",
              "      border-radius: 50%;\n",
              "      cursor: pointer;\n",
              "      display: none;\n",
              "      fill: #1967D2;\n",
              "      height: 32px;\n",
              "      padding: 0 0 0 0;\n",
              "      width: 32px;\n",
              "    }\n",
              "\n",
              "    .colab-df-convert:hover {\n",
              "      background-color: #E2EBFA;\n",
              "      box-shadow: 0px 1px 2px rgba(60, 64, 67, 0.3), 0px 1px 3px 1px rgba(60, 64, 67, 0.15);\n",
              "      fill: #174EA6;\n",
              "    }\n",
              "\n",
              "    .colab-df-buttons div {\n",
              "      margin-bottom: 4px;\n",
              "    }\n",
              "\n",
              "    [theme=dark] .colab-df-convert {\n",
              "      background-color: #3B4455;\n",
              "      fill: #D2E3FC;\n",
              "    }\n",
              "\n",
              "    [theme=dark] .colab-df-convert:hover {\n",
              "      background-color: #434B5C;\n",
              "      box-shadow: 0px 1px 3px 1px rgba(0, 0, 0, 0.15);\n",
              "      filter: drop-shadow(0px 1px 2px rgba(0, 0, 0, 0.3));\n",
              "      fill: #FFFFFF;\n",
              "    }\n",
              "  </style>\n",
              "\n",
              "    <script>\n",
              "      const buttonEl =\n",
              "        document.querySelector('#df-36c7eed8-a051-47ed-8a4a-07dd06be5dc3 button.colab-df-convert');\n",
              "      buttonEl.style.display =\n",
              "        google.colab.kernel.accessAllowed ? 'block' : 'none';\n",
              "\n",
              "      async function convertToInteractive(key) {\n",
              "        const element = document.querySelector('#df-36c7eed8-a051-47ed-8a4a-07dd06be5dc3');\n",
              "        const dataTable =\n",
              "          await google.colab.kernel.invokeFunction('convertToInteractive',\n",
              "                                                    [key], {});\n",
              "        if (!dataTable) return;\n",
              "\n",
              "        const docLinkHtml = 'Like what you see? Visit the ' +\n",
              "          '<a target=\"_blank\" href=https://colab.research.google.com/notebooks/data_table.ipynb>data table notebook</a>'\n",
              "          + ' to learn more about interactive tables.';\n",
              "        element.innerHTML = '';\n",
              "        dataTable['output_type'] = 'display_data';\n",
              "        await google.colab.output.renderOutput(dataTable, element);\n",
              "        const docLink = document.createElement('div');\n",
              "        docLink.innerHTML = docLinkHtml;\n",
              "        element.appendChild(docLink);\n",
              "      }\n",
              "    </script>\n",
              "  </div>\n",
              "\n",
              "\n",
              "<div id=\"df-3d7909ca-d4db-4adb-a9a9-6ff82243ce7c\">\n",
              "  <button class=\"colab-df-quickchart\" onclick=\"quickchart('df-3d7909ca-d4db-4adb-a9a9-6ff82243ce7c')\"\n",
              "            title=\"Suggest charts\"\n",
              "            style=\"display:none;\">\n",
              "\n",
              "<svg xmlns=\"http://www.w3.org/2000/svg\" height=\"24px\"viewBox=\"0 0 24 24\"\n",
              "     width=\"24px\">\n",
              "    <g>\n",
              "        <path d=\"M19 3H5c-1.1 0-2 .9-2 2v14c0 1.1.9 2 2 2h14c1.1 0 2-.9 2-2V5c0-1.1-.9-2-2-2zM9 17H7v-7h2v7zm4 0h-2V7h2v10zm4 0h-2v-4h2v4z\"/>\n",
              "    </g>\n",
              "</svg>\n",
              "  </button>\n",
              "\n",
              "<style>\n",
              "  .colab-df-quickchart {\n",
              "      --bg-color: #E8F0FE;\n",
              "      --fill-color: #1967D2;\n",
              "      --hover-bg-color: #E2EBFA;\n",
              "      --hover-fill-color: #174EA6;\n",
              "      --disabled-fill-color: #AAA;\n",
              "      --disabled-bg-color: #DDD;\n",
              "  }\n",
              "\n",
              "  [theme=dark] .colab-df-quickchart {\n",
              "      --bg-color: #3B4455;\n",
              "      --fill-color: #D2E3FC;\n",
              "      --hover-bg-color: #434B5C;\n",
              "      --hover-fill-color: #FFFFFF;\n",
              "      --disabled-bg-color: #3B4455;\n",
              "      --disabled-fill-color: #666;\n",
              "  }\n",
              "\n",
              "  .colab-df-quickchart {\n",
              "    background-color: var(--bg-color);\n",
              "    border: none;\n",
              "    border-radius: 50%;\n",
              "    cursor: pointer;\n",
              "    display: none;\n",
              "    fill: var(--fill-color);\n",
              "    height: 32px;\n",
              "    padding: 0;\n",
              "    width: 32px;\n",
              "  }\n",
              "\n",
              "  .colab-df-quickchart:hover {\n",
              "    background-color: var(--hover-bg-color);\n",
              "    box-shadow: 0 1px 2px rgba(60, 64, 67, 0.3), 0 1px 3px 1px rgba(60, 64, 67, 0.15);\n",
              "    fill: var(--button-hover-fill-color);\n",
              "  }\n",
              "\n",
              "  .colab-df-quickchart-complete:disabled,\n",
              "  .colab-df-quickchart-complete:disabled:hover {\n",
              "    background-color: var(--disabled-bg-color);\n",
              "    fill: var(--disabled-fill-color);\n",
              "    box-shadow: none;\n",
              "  }\n",
              "\n",
              "  .colab-df-spinner {\n",
              "    border: 2px solid var(--fill-color);\n",
              "    border-color: transparent;\n",
              "    border-bottom-color: var(--fill-color);\n",
              "    animation:\n",
              "      spin 1s steps(1) infinite;\n",
              "  }\n",
              "\n",
              "  @keyframes spin {\n",
              "    0% {\n",
              "      border-color: transparent;\n",
              "      border-bottom-color: var(--fill-color);\n",
              "      border-left-color: var(--fill-color);\n",
              "    }\n",
              "    20% {\n",
              "      border-color: transparent;\n",
              "      border-left-color: var(--fill-color);\n",
              "      border-top-color: var(--fill-color);\n",
              "    }\n",
              "    30% {\n",
              "      border-color: transparent;\n",
              "      border-left-color: var(--fill-color);\n",
              "      border-top-color: var(--fill-color);\n",
              "      border-right-color: var(--fill-color);\n",
              "    }\n",
              "    40% {\n",
              "      border-color: transparent;\n",
              "      border-right-color: var(--fill-color);\n",
              "      border-top-color: var(--fill-color);\n",
              "    }\n",
              "    60% {\n",
              "      border-color: transparent;\n",
              "      border-right-color: var(--fill-color);\n",
              "    }\n",
              "    80% {\n",
              "      border-color: transparent;\n",
              "      border-right-color: var(--fill-color);\n",
              "      border-bottom-color: var(--fill-color);\n",
              "    }\n",
              "    90% {\n",
              "      border-color: transparent;\n",
              "      border-bottom-color: var(--fill-color);\n",
              "    }\n",
              "  }\n",
              "</style>\n",
              "\n",
              "  <script>\n",
              "    async function quickchart(key) {\n",
              "      const quickchartButtonEl =\n",
              "        document.querySelector('#' + key + ' button');\n",
              "      quickchartButtonEl.disabled = true;  // To prevent multiple clicks.\n",
              "      quickchartButtonEl.classList.add('colab-df-spinner');\n",
              "      try {\n",
              "        const charts = await google.colab.kernel.invokeFunction(\n",
              "            'suggestCharts', [key], {});\n",
              "      } catch (error) {\n",
              "        console.error('Error during call to suggestCharts:', error);\n",
              "      }\n",
              "      quickchartButtonEl.classList.remove('colab-df-spinner');\n",
              "      quickchartButtonEl.classList.add('colab-df-quickchart-complete');\n",
              "    }\n",
              "    (() => {\n",
              "      let quickchartButtonEl =\n",
              "        document.querySelector('#df-3d7909ca-d4db-4adb-a9a9-6ff82243ce7c button');\n",
              "      quickchartButtonEl.style.display =\n",
              "        google.colab.kernel.accessAllowed ? 'block' : 'none';\n",
              "    })();\n",
              "  </script>\n",
              "</div>\n",
              "    </div>\n",
              "  </div>\n"
            ]
          },
          "metadata": {},
          "execution_count": 30
        }
      ]
    },
    {
      "cell_type": "code",
      "source": [
        "flag_lrcx = -np.sign(np.log((stocks['Open']['LRCX'].shift() / stocks['Adj Close']['LRCX'])))\n",
        "tot = flag_lrcx * np.log(stocks['Adj Close']['LRCX'] / stocks['Open']['LRCX'])\n",
        "print(tot.mean() / (tot.std() * (len(tot)**(-1/2))))\n",
        "tot.cumsum().plot()\n",
        "\"\"\"\n",
        "obviously this procedure has some error lol\n",
        "find the bug! this is lowk a pandas q\n",
        "\"\"\""
      ],
      "metadata": {
        "colab": {
          "base_uri": "https://localhost:8080/",
          "height": 468
        },
        "id": "CKo_uYvDBwzV",
        "outputId": "e48c97e2-91d6-4c3e-dc4c-78eee5bf49a9"
      },
      "execution_count": null,
      "outputs": [
        {
          "output_type": "stream",
          "name": "stdout",
          "text": [
            "10.477389624637249\n"
          ]
        },
        {
          "output_type": "execute_result",
          "data": {
            "text/plain": [
              "'\\nobviously this procedure has some error lol\\nfind the bug! this is lowk a pandas q\\n'"
            ],
            "application/vnd.google.colaboratory.intrinsic+json": {
              "type": "string"
            }
          },
          "metadata": {},
          "execution_count": 32
        },
        {
          "output_type": "display_data",
          "data": {
            "text/plain": [
              "<Figure size 640x480 with 1 Axes>"
            ],
            "image/png": "[encoded data removed]"
          },
          "metadata": {}
        }
      ]
    },
    {
      "cell_type": "code",
      "source": [
        "lrcx_gaps = np.log((stocks['Open']['LRCX'] / stocks['Adj Close']['LRCX'].shift()))\n",
        "amat_gaps = np.log((stocks['Open']['AMAT'] / stocks['Adj Close']['AMAT'].shift()))\n",
        "#Calculate \"gap\" -- change from yesterday's close to today's open\n",
        "flag = np.sign((lrcx_gaps / lrcx_gaps.std()) - (amat_gaps / amat_gaps.std()) )\n",
        "#Flag -- increase / decrease\n",
        "profs = flag * np.log(stocks['Adj Close']['AMAT'] / stocks['Open']['AMAT'])"
      ],
      "metadata": {
        "id": "UTBEppouByZa"
      },
      "execution_count": null,
      "outputs": []
    },
    {
      "cell_type": "code",
      "source": [
        "(profs.mean() / (profs.std() * len(profs)**(-1/2)))"
      ],
      "metadata": {
        "colab": {
          "base_uri": "https://localhost:8080/"
        },
        "id": "tmlzaJwoB0fP",
        "outputId": "e21e9cda-5801-4e50-d539-9eba14f25ae6"
      },
      "execution_count": null,
      "outputs": [
        {
          "output_type": "execute_result",
          "data": {
            "text/plain": [
              "-2.1041264468679466"
            ]
          },
          "metadata": {},
          "execution_count": 34
        }
      ]
    },
    {
      "cell_type": "code",
      "source": [
        "profs.cumsum().plot()\n",
        "#this looks really ass"
      ],
      "metadata": {
        "colab": {
          "base_uri": "https://localhost:8080/",
          "height": 450
        },
        "id": "hR0R2Iq8B19a",
        "outputId": "80e0fe5b-a3ec-4ea6-ae02-59170f16e6cd"
      },
      "execution_count": null,
      "outputs": [
        {
          "output_type": "execute_result",
          "data": {
            "text/plain": [
              "<Axes: xlabel='Date'>"
            ]
          },
          "metadata": {},
          "execution_count": 35
        },
        {
          "output_type": "display_data",
          "data": {
            "text/plain": [
              "<Figure size 640x480 with 1 Axes>"
            ],
            "image/png": "[encoded data removed]"
          },
          "metadata": {}
        }
      ]
    },
    {
      "cell_type": "code",
      "source": [
        "profs_lrcx = -flag * np.log(stocks['Adj Close']['LRCX'] / stocks['Open']['LRCX'])\n",
        "print(profs_lrcx.mean()* len(profs_lrcx)**(0.5) / profs_lrcx.std())"
      ],
      "metadata": {
        "colab": {
          "base_uri": "https://localhost:8080/"
        },
        "id": "ev6pJWGrCDwb",
        "outputId": "3daf7a2b-87d3-4f08-ea47-dd44a1ecc917"
      },
      "execution_count": null,
      "outputs": [
        {
          "output_type": "stream",
          "name": "stdout",
          "text": [
            "4.506302941099422\n"
          ]
        }
      ]
    },
    {
      "cell_type": "code",
      "source": [
        "profs_lrcx.cumsum().plot()\n",
        "#pretty good..."
      ],
      "metadata": {
        "colab": {
          "base_uri": "https://localhost:8080/",
          "height": 450
        },
        "id": "sHyZv2wmCF4U",
        "outputId": "758b4c57-3431-4d06-ee98-380c39e6cc0e"
      },
      "execution_count": null,
      "outputs": [
        {
          "output_type": "execute_result",
          "data": {
            "text/plain": [
              "<Axes: xlabel='Date'>"
            ]
          },
          "metadata": {},
          "execution_count": 37
        },
        {
          "output_type": "display_data",
          "data": {
            "text/plain": [
              "<Figure size 640x480 with 1 Axes>"
            ],
            "image/png": "[encoded data removed]"
          },
          "metadata": {}
        }
      ]
    },
    {
      "cell_type": "code",
      "source": [
        "profs = flag * np.log(stocks['Adj Close']['AMAT'] / stocks['Open']['AMAT']) - flag * np.log(stocks['Adj Close']['LRCX'] / stocks['Open']['LRCX'])\n",
        "print(profs.mean()* len(profs)**(0.5) / profs.std())"
      ],
      "metadata": {
        "colab": {
          "base_uri": "https://localhost:8080/"
        },
        "id": "a5LovPHaCHek",
        "outputId": "26437333-c505-41e9-bfb2-4a1d445a3faa"
      },
      "execution_count": null,
      "outputs": [
        {
          "output_type": "stream",
          "name": "stdout",
          "text": [
            "6.259311773297821\n"
          ]
        }
      ]
    },
    {
      "cell_type": "code",
      "source": [
        "profs.cumsum().plot()\n",
        "#up and to the right!!! how do we get a higher t-stat by combining a \"good\" strategy with a \"bad\" strategy?"
      ],
      "metadata": {
        "colab": {
          "base_uri": "https://localhost:8080/",
          "height": 450
        },
        "id": "y2NmLopICKUV",
        "outputId": "b1b7802e-b81f-44bc-f258-829b3749f664"
      },
      "execution_count": null,
      "outputs": [
        {
          "output_type": "execute_result",
          "data": {
            "text/plain": [
              "<Axes: xlabel='Date'>"
            ]
          },
          "metadata": {},
          "execution_count": 39
        },
        {
          "output_type": "display_data",
          "data": {
            "text/plain": [
              "<Figure size 640x480 with 1 Axes>"
            ],
            "image/png": "[encoded data removed]"
          },
          "metadata": {}
        }
      ]
    },
    {
      "cell_type": "code",
      "source": [
        "stocks = yf.download(['LRCX', 'AMAT'], mid, end)[['Close', 'Open']]\n",
        "lrcx_gaps = np.log((stocks['Open']['LRCX'] / stocks['Close']['LRCX'].shift()))\n",
        "amat_gaps = np.log((stocks['Open']['AMAT'] / stocks['Close']['AMAT'].shift()))\n",
        "flag = np.sign((lrcx_gaps / lrcx_gaps.std()) - (amat_gaps / amat_gaps.std()) )\n",
        "profs = flag * np.log(stocks['Close']['AMAT'] / stocks['Open']['AMAT']) - flag * np.log(stocks['Close']['LRCX'] / stocks['Open']['LRCX'])\n",
        "print(profs.mean()* len(profs)**(0.5) / profs.std())\n",
        "profs.cumsum().plot()"
      ],
      "metadata": {
        "colab": {
          "base_uri": "https://localhost:8080/",
          "height": 488
        },
        "id": "zr29AtCRCMOU",
        "outputId": "49d6e482-dbf5-487e-d859-fcebfae69466"
      },
      "execution_count": null,
      "outputs": [
        {
          "output_type": "stream",
          "name": "stdout",
          "text": [
            "\r[                       0%%                      ]\r[*********************100%%**********************]  2 of 2 completed\n",
            "1.8336165594682914\n"
          ]
        },
        {
          "output_type": "execute_result",
          "data": {
            "text/plain": [
              "<Axes: xlabel='Date'>"
            ]
          },
          "metadata": {},
          "execution_count": 40
        },
        {
          "output_type": "display_data",
          "data": {
            "text/plain": [
              "<Figure size 640x480 with 1 Axes>"
            ],
            "image/png": "[encoded data removed]"
          },
          "metadata": {}
        }
      ]
    }
  ]
}